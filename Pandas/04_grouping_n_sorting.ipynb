{
 "cells": [
  {
   "cell_type": "markdown",
   "metadata": {},
   "source": [
    "# Introduction\n",
    "\n",
    "Maps allow us to transform data in a DataFrame or Series one value at a time for an entire column. However, often we want to group our data, and then do something specific to the group the data is in. \n",
    "\n",
    "映射允许我们一次转换 DataFrame 或系列中整列的一个值。但是，我们经常希望对数据进行分组，然后对数据所在的组进行特定操作。\n",
    "\n",
    "As you'll learn, we do this with the `groupby()` operation.  We'll also cover some additional topics, such as more complex ways to index your DataFrames, along with how to sort your data.\n",
    "\n",
    "我们将学习使用 `groupby()` 操作来实现这一目的。我们还将介绍一些其他主题，例如索引 DataFrames 的更复杂方法，以及如何对数据进行排序。"
   ]
  },
  {
   "cell_type": "code",
   "execution_count": 1,
   "metadata": {},
   "outputs": [],
   "source": [
    "import pandas as pd\n",
    "reviews = pd.read_csv(\"./input/winemag-data-130k-v2.csv\", index_col=0)\n",
    "pd.set_option(\"display.max_rows\", 5)"
   ]
  },
  {
   "cell_type": "code",
   "execution_count": 3,
   "metadata": {},
   "outputs": [
    {
     "data": {
      "application/vnd.microsoft.datawrangler.viewer.v0+json": {
       "columns": [
        {
         "name": "index",
         "rawType": "int64",
         "type": "integer"
        },
        {
         "name": "country",
         "rawType": "object",
         "type": "string"
        },
        {
         "name": "description",
         "rawType": "object",
         "type": "string"
        },
        {
         "name": "designation",
         "rawType": "object",
         "type": "unknown"
        },
        {
         "name": "points",
         "rawType": "int64",
         "type": "integer"
        },
        {
         "name": "price",
         "rawType": "float64",
         "type": "float"
        },
        {
         "name": "province",
         "rawType": "object",
         "type": "string"
        },
        {
         "name": "region_1",
         "rawType": "object",
         "type": "unknown"
        },
        {
         "name": "region_2",
         "rawType": "object",
         "type": "unknown"
        },
        {
         "name": "taster_name",
         "rawType": "object",
         "type": "string"
        },
        {
         "name": "taster_twitter_handle",
         "rawType": "object",
         "type": "unknown"
        },
        {
         "name": "title",
         "rawType": "object",
         "type": "string"
        },
        {
         "name": "variety",
         "rawType": "object",
         "type": "string"
        },
        {
         "name": "winery",
         "rawType": "object",
         "type": "string"
        }
       ],
       "conversionMethod": "pd.DataFrame",
       "ref": "2cea2922-0aed-444e-8b32-1c1ca3dda252",
       "rows": [
        [
         "0",
         "Italy",
         "Aromas include tropical fruit, broom, brimstone and dried herb. The palate isn't overly expressive, offering unripened apple, citrus and dried sage alongside brisk acidity.",
         "Vulkà Bianco",
         "87",
         null,
         "Sicily & Sardinia",
         "Etna",
         null,
         "Kerin O’Keefe",
         "@kerinokeefe",
         "Nicosia 2013 Vulkà Bianco  (Etna)",
         "White Blend",
         "Nicosia"
        ],
        [
         "1",
         "Portugal",
         "This is ripe and fruity, a wine that is smooth while still structured. Firm tannins are filled out with juicy red berry fruits and freshened with acidity. It's  already drinkable, although it will certainly be better from 2016.",
         "Avidagos",
         "87",
         "15.0",
         "Douro",
         null,
         null,
         "Roger Voss",
         "@vossroger",
         "Quinta dos Avidagos 2011 Avidagos Red (Douro)",
         "Portuguese Red",
         "Quinta dos Avidagos"
        ],
        [
         "2",
         "US",
         "Tart and snappy, the flavors of lime flesh and rind dominate. Some green pineapple pokes through, with crisp acidity underscoring the flavors. The wine was all stainless-steel fermented.",
         null,
         "87",
         "14.0",
         "Oregon",
         "Willamette Valley",
         "Willamette Valley",
         "Paul Gregutt",
         "@paulgwine ",
         "Rainstorm 2013 Pinot Gris (Willamette Valley)",
         "Pinot Gris",
         "Rainstorm"
        ],
        [
         "3",
         "US",
         "Pineapple rind, lemon pith and orange blossom start off the aromas. The palate is a bit more opulent, with notes of honey-drizzled guava and mango giving way to a slightly astringent, semidry finish.",
         "Reserve Late Harvest",
         "87",
         "13.0",
         "Michigan",
         "Lake Michigan Shore",
         null,
         "Alexander Peartree",
         null,
         "St. Julian 2013 Reserve Late Harvest Riesling (Lake Michigan Shore)",
         "Riesling",
         "St. Julian"
        ],
        [
         "4",
         "US",
         "Much like the regular bottling from 2012, this comes across as rather rough and tannic, with rustic, earthy, herbal characteristics. Nonetheless, if you think of it as a pleasantly unfussy country wine, it's a good companion to a hearty winter stew.",
         "Vintner's Reserve Wild Child Block",
         "87",
         "65.0",
         "Oregon",
         "Willamette Valley",
         "Willamette Valley",
         "Paul Gregutt",
         "@paulgwine ",
         "Sweet Cheeks 2012 Vintner's Reserve Wild Child Block Pinot Noir (Willamette Valley)",
         "Pinot Noir",
         "Sweet Cheeks"
        ]
       ],
       "shape": {
        "columns": 13,
        "rows": 5
       }
      },
      "text/html": [
       "<div>\n",
       "<style scoped>\n",
       "    .dataframe tbody tr th:only-of-type {\n",
       "        vertical-align: middle;\n",
       "    }\n",
       "\n",
       "    .dataframe tbody tr th {\n",
       "        vertical-align: top;\n",
       "    }\n",
       "\n",
       "    .dataframe thead th {\n",
       "        text-align: right;\n",
       "    }\n",
       "</style>\n",
       "<table border=\"1\" class=\"dataframe\">\n",
       "  <thead>\n",
       "    <tr style=\"text-align: right;\">\n",
       "      <th></th>\n",
       "      <th>country</th>\n",
       "      <th>description</th>\n",
       "      <th>designation</th>\n",
       "      <th>points</th>\n",
       "      <th>price</th>\n",
       "      <th>province</th>\n",
       "      <th>region_1</th>\n",
       "      <th>region_2</th>\n",
       "      <th>taster_name</th>\n",
       "      <th>taster_twitter_handle</th>\n",
       "      <th>title</th>\n",
       "      <th>variety</th>\n",
       "      <th>winery</th>\n",
       "    </tr>\n",
       "  </thead>\n",
       "  <tbody>\n",
       "    <tr>\n",
       "      <th>0</th>\n",
       "      <td>Italy</td>\n",
       "      <td>Aromas include tropical fruit, broom, brimston...</td>\n",
       "      <td>Vulkà Bianco</td>\n",
       "      <td>87</td>\n",
       "      <td>NaN</td>\n",
       "      <td>Sicily &amp; Sardinia</td>\n",
       "      <td>Etna</td>\n",
       "      <td>NaN</td>\n",
       "      <td>Kerin O’Keefe</td>\n",
       "      <td>@kerinokeefe</td>\n",
       "      <td>Nicosia 2013 Vulkà Bianco  (Etna)</td>\n",
       "      <td>White Blend</td>\n",
       "      <td>Nicosia</td>\n",
       "    </tr>\n",
       "    <tr>\n",
       "      <th>1</th>\n",
       "      <td>Portugal</td>\n",
       "      <td>This is ripe and fruity, a wine that is smooth...</td>\n",
       "      <td>Avidagos</td>\n",
       "      <td>87</td>\n",
       "      <td>15.0</td>\n",
       "      <td>Douro</td>\n",
       "      <td>NaN</td>\n",
       "      <td>NaN</td>\n",
       "      <td>Roger Voss</td>\n",
       "      <td>@vossroger</td>\n",
       "      <td>Quinta dos Avidagos 2011 Avidagos Red (Douro)</td>\n",
       "      <td>Portuguese Red</td>\n",
       "      <td>Quinta dos Avidagos</td>\n",
       "    </tr>\n",
       "    <tr>\n",
       "      <th>2</th>\n",
       "      <td>US</td>\n",
       "      <td>Tart and snappy, the flavors of lime flesh and...</td>\n",
       "      <td>NaN</td>\n",
       "      <td>87</td>\n",
       "      <td>14.0</td>\n",
       "      <td>Oregon</td>\n",
       "      <td>Willamette Valley</td>\n",
       "      <td>Willamette Valley</td>\n",
       "      <td>Paul Gregutt</td>\n",
       "      <td>@paulgwine</td>\n",
       "      <td>Rainstorm 2013 Pinot Gris (Willamette Valley)</td>\n",
       "      <td>Pinot Gris</td>\n",
       "      <td>Rainstorm</td>\n",
       "    </tr>\n",
       "    <tr>\n",
       "      <th>3</th>\n",
       "      <td>US</td>\n",
       "      <td>Pineapple rind, lemon pith and orange blossom ...</td>\n",
       "      <td>Reserve Late Harvest</td>\n",
       "      <td>87</td>\n",
       "      <td>13.0</td>\n",
       "      <td>Michigan</td>\n",
       "      <td>Lake Michigan Shore</td>\n",
       "      <td>NaN</td>\n",
       "      <td>Alexander Peartree</td>\n",
       "      <td>NaN</td>\n",
       "      <td>St. Julian 2013 Reserve Late Harvest Riesling ...</td>\n",
       "      <td>Riesling</td>\n",
       "      <td>St. Julian</td>\n",
       "    </tr>\n",
       "    <tr>\n",
       "      <th>4</th>\n",
       "      <td>US</td>\n",
       "      <td>Much like the regular bottling from 2012, this...</td>\n",
       "      <td>Vintner's Reserve Wild Child Block</td>\n",
       "      <td>87</td>\n",
       "      <td>65.0</td>\n",
       "      <td>Oregon</td>\n",
       "      <td>Willamette Valley</td>\n",
       "      <td>Willamette Valley</td>\n",
       "      <td>Paul Gregutt</td>\n",
       "      <td>@paulgwine</td>\n",
       "      <td>Sweet Cheeks 2012 Vintner's Reserve Wild Child...</td>\n",
       "      <td>Pinot Noir</td>\n",
       "      <td>Sweet Cheeks</td>\n",
       "    </tr>\n",
       "  </tbody>\n",
       "</table>\n",
       "</div>"
      ],
      "text/plain": [
       "    country                                        description  \\\n",
       "0     Italy  Aromas include tropical fruit, broom, brimston...   \n",
       "1  Portugal  This is ripe and fruity, a wine that is smooth...   \n",
       "2        US  Tart and snappy, the flavors of lime flesh and...   \n",
       "3        US  Pineapple rind, lemon pith and orange blossom ...   \n",
       "4        US  Much like the regular bottling from 2012, this...   \n",
       "\n",
       "                          designation  points  price           province  \\\n",
       "0                        Vulkà Bianco      87    NaN  Sicily & Sardinia   \n",
       "1                            Avidagos      87   15.0              Douro   \n",
       "2                                 NaN      87   14.0             Oregon   \n",
       "3                Reserve Late Harvest      87   13.0           Michigan   \n",
       "4  Vintner's Reserve Wild Child Block      87   65.0             Oregon   \n",
       "\n",
       "              region_1           region_2         taster_name  \\\n",
       "0                 Etna                NaN       Kerin O’Keefe   \n",
       "1                  NaN                NaN          Roger Voss   \n",
       "2    Willamette Valley  Willamette Valley        Paul Gregutt   \n",
       "3  Lake Michigan Shore                NaN  Alexander Peartree   \n",
       "4    Willamette Valley  Willamette Valley        Paul Gregutt   \n",
       "\n",
       "  taster_twitter_handle                                              title  \\\n",
       "0          @kerinokeefe                  Nicosia 2013 Vulkà Bianco  (Etna)   \n",
       "1            @vossroger      Quinta dos Avidagos 2011 Avidagos Red (Douro)   \n",
       "2           @paulgwine       Rainstorm 2013 Pinot Gris (Willamette Valley)   \n",
       "3                   NaN  St. Julian 2013 Reserve Late Harvest Riesling ...   \n",
       "4           @paulgwine   Sweet Cheeks 2012 Vintner's Reserve Wild Child...   \n",
       "\n",
       "          variety               winery  \n",
       "0     White Blend              Nicosia  \n",
       "1  Portuguese Red  Quinta dos Avidagos  \n",
       "2      Pinot Gris            Rainstorm  \n",
       "3        Riesling           St. Julian  \n",
       "4      Pinot Noir         Sweet Cheeks  "
      ]
     },
     "execution_count": 3,
     "metadata": {},
     "output_type": "execute_result"
    }
   ],
   "source": [
    "reviews.head()"
   ]
  },
  {
   "cell_type": "markdown",
   "metadata": {},
   "source": [
    "# Groupwise analysis\n",
    "\n",
    "One function we've been using heavily thus far is the `value_counts()` function. We can replicate what `value_counts()` does by doing the following:\n",
    "\n",
    "到目前为止，我们一直在大量使用的一个函数是 `value_counts()` 函数。我们可以通过以下操作复制 `value_counts()` 的功能："
   ]
  },
  {
   "cell_type": "code",
   "execution_count": null,
   "metadata": {},
   "outputs": [
    {
     "data": {
      "text/plain": [
       "points\n",
       "80     397\n",
       "81     692\n",
       "      ... \n",
       "99      33\n",
       "100     19\n",
       "Name: points, Length: 21, dtype: int64"
      ]
     },
     "execution_count": 2,
     "metadata": {},
     "output_type": "execute_result"
    }
   ],
   "source": [
    "reviews.groupby('points').points.count()"
   ]
  },
  {
   "cell_type": "markdown",
   "metadata": {},
   "source": [
    "groups the reviews DataFrame by the values in the points column and then counts the number of occurrences of each unique value in the points column. The result is a Series where the index is the unique values from the points column and the values are the counts of those unique values.\n",
    "\n",
    "将 reviews DataFrame 按 points 列的值进行分组，然后计算每个唯一值在 points 列中出现的次数。结果是一个 Series，其中索引是 points 列中的唯一值，值是这些唯一值的计数。"
   ]
  },
  {
   "cell_type": "markdown",
   "metadata": {},
   "source": [
    "`groupby()` created a group of reviews which allotted the same point values to the given wines. Then, for each of these groups, we grabbed the `points()` column and counted how many times it appeared.  `value_counts()` is just a shortcut to this `groupby()` operation. \n",
    "\n",
    "`groupby()`创建了一组reviews，为给定的葡萄酒分配了相同的分值。然后，对于每一组，我们抓取`points()`列并计算它出现的次数。  `value_counts()` 只是这种 `groupby()` 操作的快捷方式。\n",
    "\n",
    "We can use any of the summary functions we've used before with this data. For example, to get the cheapest wine in each point value category, we can do the following:\n",
    "\n",
    "我们可以对这些数据使用我们以前使用过的任何汇总函数。例如，要得到每个点值类别中最便宜的葡萄酒，我们可以这样做："
   ]
  },
  {
   "cell_type": "code",
   "execution_count": 7,
   "metadata": {},
   "outputs": [
    {
     "data": {
      "text/plain": [
       "points\n",
       "80      5.0\n",
       "81      5.0\n",
       "       ... \n",
       "99     44.0\n",
       "100    80.0\n",
       "Name: price, Length: 21, dtype: float64"
      ]
     },
     "execution_count": 7,
     "metadata": {},
     "output_type": "execute_result"
    }
   ],
   "source": [
    "reviews.groupby('points').price.min()"
   ]
  },
  {
   "cell_type": "markdown",
   "metadata": {},
   "source": [
    "(⭐️⭐️⭐️)\n",
    "\n",
    "You can think of each group we generate as being a slice of our DataFrame containing only data with values that match. This DataFrame is accessible to us directly using the `apply()` method, and we can then manipulate the data in any way we see fit. For example, here's one way of selecting the name of the first wine reviewed from each winery in the dataset:\n",
    "\n",
    "可以把我们生成的每个组看作是 DataFrame 的一个切片，其中只包含值匹配的数据。我们可以使用`apply()`方法直接访问该 DataFrame，然后以任何我们认为合适的方式处理数据。例如，下面是一种从数据集中的每个酒庄中选择第一款葡萄酒名称的方法："
   ]
  },
  {
   "cell_type": "code",
   "execution_count": 8,
   "metadata": {},
   "outputs": [
    {
     "name": "stderr",
     "output_type": "stream",
     "text": [
      "/var/folders/32/h68qwycj5j770f873m9dns9m0000gn/T/ipykernel_3890/506966275.py:1: DeprecationWarning: DataFrameGroupBy.apply operated on the grouping columns. This behavior is deprecated, and in a future version of pandas the grouping columns will be excluded from the operation. Either pass `include_groups=False` to exclude the groupings or explicitly select the grouping columns after groupby to silence this warning.\n",
      "  reviews.groupby('winery').apply(lambda df: df.title.iloc[0])\n"
     ]
    },
    {
     "data": {
      "text/plain": [
       "winery\n",
       "1+1=3                          1+1=3 NV Rosé Sparkling (Cava)\n",
       "10 Knots                 10 Knots 2010 Viognier (Paso Robles)\n",
       "                                  ...                        \n",
       "àMaurice    àMaurice 2013 Fred Estate Syrah (Walla Walla V...\n",
       "Štoka                         Štoka 2009 Izbrani Teran (Kras)\n",
       "Length: 16757, dtype: object"
      ]
     },
     "execution_count": 8,
     "metadata": {},
     "output_type": "execute_result"
    }
   ],
   "source": [
    "reviews.groupby('winery').apply(lambda df: df.title.iloc[0])"
   ]
  },
  {
   "cell_type": "markdown",
   "metadata": {},
   "source": [
    "For even more fine-grained control, you can also group by more than one column. For an example, here's how we would pick out the best wine by country _and_ province:\n",
    "\n",
    "为了实现更精细的控制，您还可以按多个列进行分组。举例来说，下面是我们如何按国家 _和_ 省份挑选出最好的葡萄酒："
   ]
  },
  {
   "cell_type": "code",
   "execution_count": 9,
   "metadata": {},
   "outputs": [
    {
     "name": "stderr",
     "output_type": "stream",
     "text": [
      "/var/folders/32/h68qwycj5j770f873m9dns9m0000gn/T/ipykernel_3890/1865732994.py:1: DeprecationWarning: DataFrameGroupBy.apply operated on the grouping columns. This behavior is deprecated, and in a future version of pandas the grouping columns will be excluded from the operation. Either pass `include_groups=False` to exclude the groupings or explicitly select the grouping columns after groupby to silence this warning.\n",
      "  reviews.groupby(['country', 'province']).apply(lambda df: df.loc[df.points.idxmax()])\n"
     ]
    },
    {
     "data": {
      "application/vnd.microsoft.datawrangler.viewer.v0+json": {
       "columns": [
        {
         "name": "('country', 'province')",
         "rawType": "object",
         "type": "unknown"
        },
        {
         "name": "country",
         "rawType": "object",
         "type": "string"
        },
        {
         "name": "description",
         "rawType": "object",
         "type": "string"
        },
        {
         "name": "designation",
         "rawType": "object",
         "type": "unknown"
        },
        {
         "name": "points",
         "rawType": "int64",
         "type": "integer"
        },
        {
         "name": "price",
         "rawType": "float64",
         "type": "float"
        },
        {
         "name": "province",
         "rawType": "object",
         "type": "string"
        },
        {
         "name": "region_1",
         "rawType": "object",
         "type": "unknown"
        },
        {
         "name": "region_2",
         "rawType": "object",
         "type": "unknown"
        },
        {
         "name": "taster_name",
         "rawType": "object",
         "type": "unknown"
        },
        {
         "name": "taster_twitter_handle",
         "rawType": "object",
         "type": "unknown"
        },
        {
         "name": "title",
         "rawType": "object",
         "type": "string"
        },
        {
         "name": "variety",
         "rawType": "object",
         "type": "string"
        },
        {
         "name": "winery",
         "rawType": "object",
         "type": "string"
        }
       ],
       "conversionMethod": "pd.DataFrame",
       "ref": "78b64b0b-fd2f-4ba0-9a1d-dca08c22b788",
       "rows": [
        [
         "('Argentina', 'Mendoza Province')",
         "Argentina",
         "If the color doesn't tell the full story, the nose will: it's impeccably perfumed, round and sweet, with amazing fruit aromas and a toasty background. The feel is as lush and rich as they come, and there's outstanding purity to the lusty black fruit flavors. A masher with elegance. Maybe the best Malbec Argentina has ever produced. Drink from 2011–15.",
         "Nicasia Vineyard",
         "97",
         "120.0",
         "Mendoza Province",
         "Mendoza",
         null,
         "Michael Schachner",
         "@wineschach",
         "Bodega Catena Zapata 2006 Nicasia Vineyard Malbec (Mendoza)",
         "Malbec",
         "Bodega Catena Zapata"
        ],
        [
         "('Argentina', 'Other')",
         "Argentina",
         "Take note, this could be the best wine Colomé has ever bottled. Cedary oak aromas grace ripe, almost desiccated wild berry notes that are slightly herbal and sauvage. A well-layered mouthfeel is ideal in power and precision. Requisite blackberry, cassis, toast and peppery flavors finish dry and long, with little heat or burn. Drink through 2021.",
         "Reserva",
         "95",
         "90.0",
         "Other",
         "Salta",
         null,
         "Michael Schachner",
         "@wineschach",
         "Colomé 2010 Reserva Malbec (Salta)",
         "Malbec",
         "Colomé"
        ],
        [
         "('Armenia', 'Armenia')",
         "Armenia",
         "Deep salmon in color, this wine offers a bouquet of cantaloupe and nectarine. It is bright on entry, with full mouthfeel and flavors of pineapple, grapefruit and white peach that culminate in a bright citrus finish.",
         "Estate Bottled",
         "88",
         "15.0",
         "Armenia",
         null,
         null,
         "Mike DeSimone",
         "@worldwineguys",
         "Van Ardi 2015 Estate Bottled Rosé (Armenia)",
         "Rosé",
         "Van Ardi"
        ],
        [
         "('Australia', 'Australia Other')",
         "Australia",
         "Writes the book on how to make a wine filled with gigantic jammy fruit that's nonetheless dry, balanced and harmonious. The Cabernet contributes blackcurrants and structural tannins. The Syrah brings a peppery richness, while Merlot adds soft fruitiness. You can actually taste each varietal, yet the wine hangs together, dry and rich. Best Buy.",
         "Sarah's Blend",
         "93",
         "15.0",
         "Australia Other",
         "South Eastern Australia",
         null,
         null,
         null,
         "Marquis Philips 2000 Sarah's Blend Red (South Eastern Australia)",
         "Red Blend",
         "Marquis Philips"
        ],
        [
         "('Australia', 'New South Wales')",
         "Australia",
         "De Bortoli's Noble One is as good as ever in 2007, offering intense botrytis, dried apricots, honey and bergamot in a sweetly unctuous style. Think of a Sauternes, but with more sugar and less alcohol. It should age well for 10 or more years.",
         "Noble One Bortytis",
         "94",
         "32.0",
         "New South Wales",
         "New South Wales",
         null,
         "Joe Czerwinski",
         "@JoeCz",
         "De Bortoli 2007 Noble One Bortytis Semillon (New South Wales)",
         "Sémillon",
         "De Bortoli"
        ],
        [
         "('Australia', 'South Australia')",
         "Australia",
         "This inky, embryonic wine deserves to be cellared until at least 2025 and should drink well for at least 25 years after that. It takes its time opening up in the glass to reveal notes of grilled meat, vanilla and plum. In the mouth, it's full bodied and firmly built, with a wall of chewy tannins surrounding a deep ripe core.",
         "Grange",
         "99",
         "850.0",
         "South Australia",
         "South Australia",
         null,
         "Joe Czerwinski",
         "@JoeCz",
         "Penfolds 2010 Grange Shiraz (South Australia)",
         "Shiraz",
         "Penfolds"
        ],
        [
         "('Australia', 'Tasmania')",
         "Australia",
         "The Pinot Noir is no slouch either, but Tolpuddle's 2014 Chardonnay is super. Faint hints of crème brûlée mark the nose, then ease into lime, pineapple and white peach notes on the palate. It's only medium in weight, but with a silky feel and a long mouthwatering finish. Drink now through 2022.",
         null,
         "94",
         "60.0",
         "Tasmania",
         "Tasmania",
         null,
         "Joe Czerwinski",
         "@JoeCz",
         "Tolpuddle 2014 Chardonnay (Tasmania)",
         "Chardonnay",
         "Tolpuddle"
        ],
        [
         "('Australia', 'Victoria')",
         "Australia",
         "This wine contains some material over 100 years old, but shows no signs of fragility. Instead, it's concentrated through age and should hold in the bottle indefinitely. It's dark coffee-brown in color, with delectable aromas of rancio, dried fig, molasses and black tea, yet despite enormous concentration avoids excessive weight. And it's amazingly complex and fresh on the nearly endless finish.",
         "Rare",
         "100",
         "350.0",
         "Victoria",
         "Rutherglen",
         null,
         "Joe Czerwinski",
         "@JoeCz",
         "Chambers Rosewood Vineyards NV Rare Muscat (Rutherglen)",
         "Muscat",
         "Chambers Rosewood Vineyards"
        ],
        [
         "('Australia', 'Western Australia')",
         "Australia",
         "Perhaps the best young wine I've tasted from Margaret River, this makes a compelling case for the region's Cabernet. Pure cassis fruit is lifted and framed by hints of toasted cedar, making for soaring aromatics and flavors, but what sets this wine apart is the tender, silky texture married to ample weight and richness. The finish lingers, with a supple, dreamy character that speaks to a gentle climate and careful winemaking. Drink now–2030.",
         null,
         "95",
         "84.0",
         "Western Australia",
         "Margaret River",
         null,
         "Joe Czerwinski",
         "@JoeCz",
         "Moss Wood 2011 Cabernet Sauvignon (Margaret River)",
         "Cabernet Sauvignon",
         "Moss Wood"
        ],
        [
         "('Austria', 'Austria')",
         "Austria",
         "The pair to this wine is Nummer 3 in the Kracher 2008 series. This smoother version has touches of toast to go with the intense ginger cake and spice as well as considerable acidity. A rounded, pure nectar of a wine.",
         "Nouvelle Vague Nummer 4 Kollektion L08B",
         "93",
         null,
         "Austria",
         null,
         null,
         "Roger Voss",
         "@vossroger",
         "Kracher NV Nouvelle Vague Nummer 4 Kollektion L08B Rosenmuskateller (Austria)",
         "Rosenmuskateller",
         "Kracher"
        ],
        [
         "('Austria', 'Burgenland')",
         "Austria",
         "Opulent honey and lemon aromas waft from the glass in this superrich but so balanced wine. The acidity is an essential element, cutting through the sweet orange, honey and ginger flavors. A gorgeous wine.",
         "Zwischen den Seen Nummer 9 Trockenbeerenauslese",
         "98",
         null,
         "Burgenland",
         null,
         null,
         "Roger Voss",
         "@vossroger",
         "Kracher 2008 Zwischen den Seen Nummer 9 Trockenbeerenauslese Welschriesling (Burgenland)",
         "Welschriesling",
         "Kracher"
        ],
        [
         "('Austria', 'Carnuntum')",
         "Austria",
         "Very pure and lifted notes of red cherry are held tightly within a taut frame: the nose gives almost nothing away. The palate provides another glimpse of that hauntingly delicious, almost sublimated cherry note. There is something aromatic and pure, unforced and honest about this disarming wine. The structure is subtle but firm, the elegance borders on the Pinot-esque, thus the wine is slender but profound.",
         "Spitzerberg",
         "95",
         "49.0",
         "Carnuntum",
         null,
         null,
         "Anne Krebiehl MW",
         "@AnneInVino",
         "Muhr-Van der Niepoort 2013 Spitzerberg Blaufränkisch (Carnuntum)",
         "Blaufränkisch",
         "Muhr-Van der Niepoort"
        ],
        [
         "('Austria', 'Eisenberg')",
         "Austria",
         "Dark red and black-cherry fruit is clothed in the sumptuous perfume of almost-floral new oak. Toasty oak notes also appear on the fluid and compact body. Juicy black cherry fruit at the core is edged with bright freshness. A touch of white pepper can be glimpsed through the fruit. The structure shows fine tannins, still crunching like starched velvet but beginning to yield. If you like the crunch, drink this wine now, if you like evolution, it will reward patience. The core of brilliant cherry and bluebery fruit promises to continue shining. Drink now–2030.",
         "Diabas Reserve",
         "95",
         "55.0",
         "Eisenberg",
         null,
         null,
         "Anne Krebiehl MW",
         "@AnneInVino",
         "Jalits 2013 Diabas Reserve Blaufränkisch (Eisenberg)",
         "Blaufränkisch",
         "Jalits"
        ],
        [
         "('Austria', 'Kamptal')",
         "Austria",
         "Bründlmayer's flagship wine is made from old vines grown on the Heiligenstein hill. It is as intense as a great Riesling can be, a pure expression of steel, mineral and bitter orange and pineapple flavors. It has great structure and a ripe, concentrated character. This will age long and well.",
         "Zöbinger Heiligenstein Erste Lage Alte Reben Reserve",
         "96",
         "78.0",
         "Kamptal",
         null,
         null,
         "Roger Voss",
         "@vossroger",
         "Bründlmayer 2011 Zöbinger Heiligenstein Erste Lage Alte Reben Reserve Riesling (Kamptal)",
         "Riesling",
         "Bründlmayer"
        ],
        [
         "('Austria', 'Kremstal')",
         "Austria",
         "The concerted impact of bergamot, grapefruit, tangerine and lemon is almost surreal—its headiness reaches long neglected memories of deep summer mingled with the freshness of the open sea. The intensity of spicy grapefruit and the skin of still-green Seville oranges transports you to utopian shores. That such flavor should come from grapes is one of nature's unresolved, eternal mysteries. That this should shine in such a concentrated, slender wine is a marvel.",
         "Das Beste vom Riesling Reserve",
         "96",
         "70.0",
         "Kremstal",
         null,
         null,
         "Anne Krebiehl MW",
         "@AnneInVino",
         "Malat 2014 Das Beste vom Riesling Reserve Riesling (Kremstal)",
         "Riesling",
         "Malat"
        ],
        [
         "('Austria', 'Leithaberg')",
         "Austria",
         "Very smoky notes of oak become apparent first. This needs some air to open more, when the initial smoke is followed by dark sumptuous floral-tinged berries. The peony-scented blueberry and bramble note is highlighted on the palate by fine freshness. The tannins are ultrafine and gentle, while the wine is full bodied but still taut. This is for the longer run. Drink 2020–2030.",
         "Goldberg",
         "94",
         "110.0",
         "Leithaberg",
         null,
         null,
         "Anne Krebiehl MW",
         "@AnneInVino",
         "Prieler 2013 Goldberg Blaufränkisch (Leithaberg)",
         "Blaufränkisch",
         "Prieler"
        ],
        [
         "('Austria', 'Mittelburgenland')",
         "Austria",
         "Only faint glimpses of ripe red plum with aromatic spice reminiscent of clove and cinnamon reveal themselves. With more air, the characteristic pepper appears, as does dark, ripe fruit. The palate is concentrated and structured but remains fresh and slender. This is elegant wine for an elegant occasion.",
         "Goldberg",
         "92",
         "27.0",
         "Mittelburgenland",
         null,
         null,
         "Anne Krebiehl MW",
         "@AnneInVino",
         "Heinrich 2013 Goldberg Blaufränkisch (Mittelburgenland)",
         "Blaufränkisch",
         "Heinrich"
        ],
        [
         "('Austria', 'Neusiedlersee')",
         "Austria",
         "Ripe oranges notes give a very fruity character to this balanced wine. It doesn't have the huge richness of some TBAs, but does have layers of honey, peaches and fine, perfumed acidity. Drink from 2016.",
         "Trockenbeerenaulese",
         "91",
         null,
         "Neusiedlersee",
         null,
         null,
         "Roger Voss",
         "@vossroger",
         "Heiss 2010 Trockenbeerenaulese Sämling (Neusiedlersee)",
         "Sämling",
         "Heiss"
        ],
        [
         "('Austria', 'Niederösterreich')",
         "Austria",
         "A cloud of otherworldly flavors enters the brain: candied pineapple, vanilla, candied peach, caramel, Mirabelle and a touch of honey. The palate presents viscous sweetness, pierced by fresh acidity that explodes completely. This is a pure, rich and aromatic Eiswein of Austria's flagship variety. Delicious now, it should cellar well through at least 2040.",
         "Eiswein",
         "96",
         "45.0",
         "Niederösterreich",
         null,
         null,
         "Anne Krebiehl MW",
         "@AnneInVino",
         "Schloss Gobelsburg 2015 Eiswein Grüner Veltliner (Niederösterreich)",
         "Grüner Veltliner",
         "Schloss Gobelsburg"
        ],
        [
         "('Austria', 'Steiermark')",
         "Austria",
         "Citrus zest, faint passion fruit, guava and woodland ferns all vie for attention here—this is a zesty, aromatic mix of greenery and ripeness. The central freshness makes this very appetizing and moreish. This is crisp and mouthwatering with a lasting, wonderfully aromatic aftertaste.",
         "Klassik",
         "90",
         "30.0",
         "Steiermark",
         null,
         null,
         "Anne Krebiehl MW",
         "@AnneInVino",
         "Skoff 2015 Klassik Sauvignon Blanc (Steiermark)",
         "Sauvignon Blanc",
         "Skoff"
        ],
        [
         "('Austria', 'Südburgenland')",
         "Austria",
         "Elderberry with edges of tar and smoke, a floral lift and lots of black cherry are the aromatic hallmarks. The palate is muscular but svelte. The structured core of ripe but firm tannin can barely contain the luxuriating, dark elderberry and cherry fruit. This is lovely and crunchy now but will be far better 2017–2018. This is both big and elegant.",
         "Perwolff",
         "95",
         "79.0",
         "Südburgenland",
         null,
         null,
         "Anne Krebiehl MW",
         "@AnneInVino",
         "Krutzler 2012 Perwolff Blaufränkisch (Südburgenland)",
         "Blaufränkisch",
         "Krutzler"
        ],
        [
         "('Austria', 'Südoststeiermark')",
         "Austria",
         "Smoke and fruit, citrus peel and cream—what a seductive combination! This is subtly oaked Sauvignon Blanc of the finest order, from verdant Styria. The palate is taut but elastic, there is focus but also charm and whole oceans of gentle, tropical fruit with a fillip of lively citrus. It is hard not to drink this now but if you have patience, or even better, a whole case, do wait and this will flourish. Drink 2015—2020.",
         "Moarfeitl",
         "94",
         "60.0",
         "Südoststeiermark",
         null,
         null,
         "Anne Krebiehl MW",
         "@AnneInVino",
         "Neumeister 2013 Moarfeitl Sauvignon Blanc (Südoststeiermark)",
         "Sauvignon Blanc",
         "Neumeister"
        ],
        [
         "('Austria', 'Südsteiermark')",
         "Austria",
         "Almost floral glints appear between citrus zest and green pear. This aromatic charm continues on the palate, which is slender and compact but buffered with yeasty generosity. This is immensely enjoyable and extremely balanced.",
         "Gola Privat",
         "94",
         "40.0",
         "Südsteiermark",
         null,
         null,
         "Anne Krebiehl MW",
         "@AnneInVino",
         "Wohlmuth 2013 Gola Privat Pinot Gris (Südsteiermark)",
         "Pinot Gris",
         "Wohlmuth"
        ],
        [
         "('Austria', 'Thermenregion')",
         "Austria",
         "A very alluring mix of wintery wood smoke, slight Bourbon vanilla and fallen oak leaves crushed underfoot frames restrained notes of red fruit. There is the most seductive, barely glanced notion of elderberry. The palate is silky and dwells on the autumnal aspects of Pinot but comes with immense elegance, tender white pepper notes and a store of profound fruit. There is a fine-grained density and real structure beneath this smooth surface. Be patient and give this wine its due and drink 2018–2025.",
         "Holzspur",
         "96",
         "80.0",
         "Thermenregion",
         null,
         null,
         "Anne Krebiehl MW",
         "@AnneInVino",
         "Johanneshof Reinisch 2013 Holzspur Pinot Noir (Thermenregion)",
         "Pinot Noir",
         "Johanneshof Reinisch"
        ],
        [
         "('Austria', 'Traisental')",
         "Austria",
         "The gentlest fruit, the ripest notions, the freshest palate: there is something about the Traisental wines that strikes you as more filigree than the rest of Austria. This Riesling is a case in point with very fine-boned, clearly delineated citrus fruit. Seville orange peel and ripe tangerine makes this a subtle joy.",
         "Berg Reserve",
         "94",
         "70.0",
         "Traisental",
         null,
         null,
         "Anne Krebiehl MW",
         "@AnneInVino",
         "Markus Huber 2015 Berg Reserve Riesling (Traisental)",
         "Riesling",
         "Markus Huber"
        ],
        [
         "('Austria', 'Vienna')",
         "Austria",
         "Fresh, superripe as well as candied pineapple combine to give utter opulence to this rich and viscous wine. The longer you taste, the more intense—almost heady—these tropical flavors become. What is more, as an ice wine untainted by any botrytis, this shines with purity and drive, and has astonishing acidity that keeps this just on the right side of paradise.",
         "Eiswein Jungherrn",
         "94",
         null,
         "Vienna",
         null,
         null,
         "Anne Krebiehl MW",
         "@AnneInVino",
         "Stift Klosterneuburg 2011 Eiswein Jungherrn Chardonnay (Vienna)",
         "Chardonnay",
         "Stift Klosterneuburg"
        ],
        [
         "('Austria', 'Wachau')",
         "Austria",
         "Fresh green apple and riper Cox's Orange Pippin present an aromatic nose that reveals a more citric verve on the palate. This is suave and slender, with a very light but deceptive touch: apple and stone fruit, now wound tightly in citrus lie in wait, ready to burst forth when their moment comes. As floating as a breeze, as lasting as a stone. Drink 2017–2023.",
         "Ried Loibenberg Smaragd",
         "96",
         "56.0",
         "Wachau",
         null,
         null,
         "Anne Krebiehl MW",
         "@AnneInVino",
         "Emmerich Knoll 2014 Ried Loibenberg Smaragd Riesling (Wachau)",
         "Riesling",
         "Emmerich Knoll"
        ],
        [
         "('Austria', 'Wagram')",
         "Austria",
         "Earthiness, undergrowth and juicy wild strawberries tinged with wet oak leaf dominate the nose and palate of this exemplary wine. It is exquisitely silky and profound on the palate, with fleeting, gossamer tannins. With time, ripe red-cherry notions appear. The finish is complex and nuanced, with lovely earth, spice and fruit sensations.",
         "Reserve Limited Edition",
         "96",
         "50.0",
         "Wagram",
         null,
         null,
         "Anne Krebiehl MW",
         "@AnneInVino",
         "Anton Bauer 2012 Reserve Limited Edition Pinot Noir (Wagram)",
         "Pinot Noir",
         "Anton Bauer"
        ],
        [
         "('Austria', 'Wagram-Donauland')",
         "Austria",
         "The poised, clean and lifted wild black-cherry fruit mixed with notions of cocoa forms the aromatic theme. A very elegant wine, with medium body and alluring depth, it's currently tight and held firmly by structured, ripe tannins, while the acidity is bright and refreshing. With its youthful primary fruit, this is charming, but even a year or two will make this more pretty than it is right now.",
         "Reserve",
         "93",
         "30.0",
         "Wagram-Donauland",
         null,
         null,
         "Anne Krebiehl MW",
         "@AnneInVino",
         "Anton Bauer 2011 Reserve Red (Wagram-Donauland)",
         "Red Blend",
         "Anton Bauer"
        ],
        [
         "('Austria', 'Weinland Österreich')",
         "Austria",
         "The bright, tart flesh of early-season apples tingles enticingly on the nose. The palate follows with tart sweetness, mimicking the sweet but refreshing crunch of a ripe but tart apple. The body is delicate, with a balance that teeters between sweet and tart. Totally refreshing, it finishes with lasting echoes of apple.",
         "Besse Fleur",
         "92",
         "36.0",
         "Weinland Österreich",
         null,
         null,
         "Anne Krebiehl MW",
         "@AnneInVino",
         "Weszeli 2016 Besse Fleur Riesling (Weinland Österreich)",
         "Riesling",
         "Weszeli"
        ],
        [
         "('Austria', 'Weinviertel')",
         "Austria",
         "Grapefruit zest dominates this wine right now, but ripe honeydew melon also is shining though. As the wine opens up, it also reveals peppery, tangy spice and a refreshingly clean finish.",
         "Hundspoint",
         "93",
         "17.0",
         "Weinviertel",
         null,
         null,
         "Anne Krebiehl MW",
         "@AnneInVino",
         "Gruber Röschitz 2012 Hundspoint Grüner Veltliner (Weinviertel)",
         "Grüner Veltliner",
         "Gruber Röschitz"
        ],
        [
         "('Austria', 'Wiener Gemischter Satz')",
         "Austria",
         "Many things happen here at once: there are rose petals, clear blossom honey, ripe yellow pears, bitter orange, roasted hazelnuts and green tea—unlikely companions that unite surprisingly well in this complex, nutty and layered wine with pleasing concentration and length.The wonderful seam of acidity lifts everything onto a different plane.",
         "Bisamberg Alte Reben",
         "93",
         null,
         "Wiener Gemischter Satz",
         null,
         null,
         "Anne Krebiehl MW",
         "@AnneInVino",
         "Weingut Christ 2012 Bisamberg Alte Reben White (Wiener Gemischter Satz)",
         "Austrian white blend",
         "Weingut Christ"
        ],
        [
         "('Austria', 'Österreichischer Perlwein')",
         "Austria",
         "Notes of strawberry candy rise from the glass and are dispersed on the palate by a lively, frothy fizz with large bubbles. A friendly, lemony freshness brightens the strawberry fruit. Light, dry and fruity, the body majors on easy enjoyment. Drink soon.",
         "Secco Pink Ribbon",
         "87",
         "19.0",
         "Österreichischer Perlwein",
         null,
         null,
         "Anne Krebiehl MW",
         "@AnneInVino",
         "Hillinger NV Secco Pink Ribbon Sparkling (Österreichischer Perlwein)",
         "Sparkling Blend",
         "Hillinger"
        ],
        [
         "('Austria', 'Österreichischer Sekt')",
         "Austria",
         "The sumptuous nose immediately signals that this is a special treat: layers of fresh and dried apple melded into autolytic notes of fresh brioche, challah and almond-crusted pastry. While the flavors of the palate remain equally sumptuous—introducing an almost salty notion of maple syrup—the spine of fresh acidity pulls an ultratight focus, providing all that richness with a firm, soaring frame. Made from 100% Chardonnay, this is an Austrian take on the absolute pedigree of this grape made into vintage-sparkling, zero-dosage Blanc de Blancs. That intriguing salty, lavish and aromatic length haunts the palate forever.",
         "Blanc de Blancs",
         "95",
         null,
         "Österreichischer Sekt",
         null,
         null,
         "Anne Krebiehl MW",
         "@AnneInVino",
         "Ebner-Ebenauer 2008 Blanc de Blancs Chardonnay (Österreichischer Sekt)",
         "Chardonnay",
         "Ebner-Ebenauer"
        ],
        [
         "('Bosnia and Herzegovina', 'Mostar')",
         "Bosnia and Herzegovina",
         "A mix of red and black fruits pervade on the nose, with hints of roasted coffee beans bringing nuance. Flavors of black plum and freshly ground espresso dominate the palate.",
         null,
         "88",
         "12.0",
         "Mostar",
         null,
         null,
         "Jeff Jenssen",
         "@worldwineguys",
         "Winery Čitluk 2011 Blatina (Mostar)",
         "Blatina",
         "Winery Čitluk"
        ],
        [
         "('Brazil', 'Brazil')",
         "Brazil",
         "Briny stone-fruit aromas are sweetened by notes of apple blossom. A full, slightly foamy palate is lively but brusque, while this tastes of yeasty peach and apricot in front of a mildly bitter finish.",
         "130 Brut",
         "88",
         "33.0",
         "Brazil",
         null,
         null,
         "Michael Schachner",
         "@wineschach",
         "Casa Valduga NV 130 Brut  (Brazil)",
         "Champagne Blend",
         "Casa Valduga"
        ],
        [
         "('Brazil', 'Campanha')",
         "Brazil",
         "A dark color and a soft nose with woodsy cherry scents form the greeting on this Brazilian Pinot Noir. Despite being dark and seemingly dense, this feels scalped and high in acidity. Dry but bland flavors of plum and black cherry are slightly bitter prior to a modest finish.",
         "Paradoxo",
         "85",
         null,
         "Campanha",
         null,
         null,
         "Michael Schachner",
         "@wineschach",
         "Salton 2014 Paradoxo Pinot Noir (Campanha)",
         "Pinot Noir",
         "Salton"
        ],
        [
         "('Brazil', 'Pinto Bandeira')",
         "Brazil",
         "Stony polished white-fruit aromas are lean and clean. This brut nature shows modest heft as it expands on the palate, but mostly this is racy and fit. Yeasty flavors of white pepper and lime finish with a leesy note and stoniness.",
         "Brut Nature",
         "89",
         "36.0",
         "Pinto Bandeira",
         null,
         null,
         "Michael Schachner",
         "@wineschach",
         "Cave Geisse 2013 Brut Nature Sparkling (Pinto Bandeira)",
         "Sparkling Blend",
         "Cave Geisse"
        ],
        [
         "('Brazil', 'Santa Catarina')",
         "Brazil",
         "This is mentholated and spicy, with a brandied cherry note as the dominant aroma. Tight but not too severe, it would pair well with meat. Its flavors of raspberry and dry plum are tasty, and the finish hits hard with tightness featuring dry raspberry and cherry skin. A blend of Cabernet Sauvignon, Cab Franc, Merlot and Malbec.",
         "Innominabile Lote IV",
         "86",
         "35.0",
         "Santa Catarina",
         null,
         null,
         "Michael Schachner",
         "@wineschach",
         "Villaggio Grando NV Innominabile Lote IV Red (Santa Catarina)",
         "Bordeaux-style Red Blend",
         "Villaggio Grando"
        ],
        [
         "('Brazil', 'Serra Gaúcha')",
         "Brazil",
         "Initial aromas of vanilla wafer give way to pear scents and minerality. This wine has creamy weight but acidic cut and pulse along with melon, vanilla and lightly oaked flavors. Honey, vanilla and a touch of pithy bitterness compete with melony notes on the finish.",
         "Dádivas",
         "88",
         "20.0",
         "Serra Gaúcha",
         null,
         null,
         "Michael Schachner",
         "@wineschach",
         "Lidio Carraro 2013 Dádivas Chardonnay (Serra Gaúcha)",
         "Chardonnay",
         "Lidio Carraro"
        ],
        [
         "('Brazil', 'Serra do Sudeste')",
         "Brazil",
         "This wine's cola, forest floor, cherry and cassis aromas are promising, but on the palate it's a tannic crusher, with mouth-blasting acids. It feels abrasive and tastes of rubbery black fruits.",
         "Agnus Encruzilhada do Sul",
         "82",
         "15.0",
         "Serra do Sudeste",
         null,
         null,
         "Michael Schachner",
         "@wineschach",
         "Lidio Carraro 2010 Agnus Encruzilhada do Sul Merlot (Serra do Sudeste)",
         "Merlot",
         "Lidio Carraro"
        ],
        [
         "('Brazil', 'Vale Trentino')",
         "Brazil",
         "Attractive aromas of gardenia, lemon-lime soda and lychee fruit set up a full foamy sugar-enriched palate with an acidic cut. Quick easy flavors of green melon and lychee are lasting on the finish. If you like sparking Moscato, this is your type of wine.",
         null,
         "88",
         "20.0",
         "Vale Trentino",
         null,
         null,
         "Michael Schachner",
         "@wineschach",
         "Casa Perini NV Moscatel (Vale Trentino)",
         "Moscatel",
         "Casa Perini"
        ],
        [
         "('Brazil', 'Vale dos Vinhedos')",
         "Brazil",
         "This leesy, bready, heavily toasted Brazilian sparkler offers heady vanilla and caramel notes on the nose. A round, plump, soda-like palate is home to toasty, leesy, lightly oxidized apple flavors that finish briny, bready and marginally fresh. Drink now.",
         "Brut 130",
         "86",
         "20.0",
         "Vale dos Vinhedos",
         null,
         null,
         "Michael Schachner",
         "@wineschach",
         "Casa Valduga NV Brut 130  (Vale dos Vinhedos)",
         "Champagne Blend",
         "Casa Valduga"
        ],
        [
         "('Bulgaria', 'Black Sea Coastal')",
         "Bulgaria",
         "Fresh and floral, this is abundantly fragrant with notes of sweet cherry blossom and freshly cut herb. The palate is crisp and dry, with zesty hints of underripe stone fruit and lemon. Brisk and clean on the finish.",
         "Premium Quality Dry",
         "86",
         "10.0",
         "Black Sea Coastal",
         null,
         null,
         "Anna Lee C. Iijima",
         null,
         "Targovishte 2011 Premium Quality Dry Muskat Ottonel (Black Sea Coastal)",
         "Muskat Ottonel",
         "Targovishte"
        ],
        [
         "('Bulgaria', 'Bulgaria')",
         "Bulgaria",
         "This Bulgarian Mavrud presents the nose with suggestions of dried cherry, black plum, freshly ground black pepper and a whiff of eucalyptus. In the mouth it is balanced with soft tannins mingling with dried cherry, cassis and black plum.",
         "Bergulé",
         "90",
         "15.0",
         "Bulgaria",
         null,
         null,
         "Jeff Jenssen",
         "@worldwineguys",
         "Villa Melnik 2012 Bergulé Mavrud (Bulgaria)",
         "Mavrud",
         "Villa Melnik"
        ],
        [
         "('Bulgaria', 'Danube River Plains')",
         "Bulgaria",
         "Pale straw in the glass, this wine has a nose of pineapple and lemon blossom with a strong dose of vanilla. It is round and full in the mouth, with rich flavors of green apple, guava and tropical fruits with a slight hint of toast that carry on through the long-lasting finish.",
         "Collection",
         "91",
         "23.0",
         "Danube River Plains",
         null,
         null,
         "Jeff Jenssen",
         "@worldwineguys",
         "Chateau Burgozone 2012 Collection Chardonnay (Danube River Plains)",
         "Chardonnay",
         "Chateau Burgozone"
        ],
        [
         "('Bulgaria', 'Thracian Valley')",
         "Bulgaria",
         "This Bulgarian red blend is produced under the supervision of flying winemaker Michele Rolland. It consists of 60% Merlot, 25% Cabernet Sauvignon and 15% Cabernet Franc. It has aromas of black raspberry, black plum and a touch of graphite. In the mouth, there are flavors of dark cherry, blackberry and pomegranate with chewy tannins and a pleasantly tart finish.",
         "CR",
         "91",
         "30.0",
         "Thracian Valley",
         null,
         null,
         "Jeff Jenssen",
         "@worldwineguys",
         "Castra Rubra 2010 CR Red (Thracian Valley)",
         "Bordeaux-style Red Blend",
         "Castra Rubra"
        ],
        [
         "('Canada', 'British Columbia')",
         "Canada",
         "Portfolio is a full-on, five-grape, Bordeaux-style blend—half Merlot. Dark, dense and textural, it's loaded with blackberry and black cherry fruit, swathed in baking spices, cinnamon and mocha. The tannins are beautifully managed, and it should drink magnificently through the mid-2020s.",
         "Portfolio",
         "94",
         "40.0",
         "British Columbia",
         "Okanagan Valley",
         null,
         "Paul Gregutt",
         "@paulgwine ",
         "Laughing Stock 2014 Portfolio Red (Okanagan Valley)",
         "Bordeaux-style Red Blend",
         "Laughing Stock"
        ],
        [
         "('Canada', 'Canada Other')",
         "Canada",
         "With over 80 apples used to produce each bottle, there's no question as to what the dominating fruit character is here. Aromas of apple skins, clove and ginger on the nose transition to flavors of candied apple, white grape and honeyed apricot in the sticky, viscous mouth. Long and lingering on the finish; a dessert wine sure to please those with a sweet tooth.",
         "Ice Apple Wine",
         "89",
         "33.0",
         "Canada Other",
         "Canada",
         null,
         "Lauren Buzzeo",
         "@laurbuzz",
         "Domaine Pinnacle NV Ice Apple Wine Apple (Canada)",
         "Apple",
         "Domaine Pinnacle"
        ],
        [
         "('Canada', 'Ontario')",
         "Canada",
         "Smooth as silk and deeply concentrated, this outstanding icewine offers pressed apple, peach, pear, apricot and papaya fruit in a seamless, dense and immensely flavorful core. A streak of butter and honey carries it into a long, splendid finish.",
         "Riesling Icewine",
         "94",
         "60.0",
         "Ontario",
         "Niagara Peninsula",
         null,
         "Paul Gregutt",
         "@paulgwine ",
         "Cave Spring 2013 Riesling Icewine Riesling (Niagara Peninsula)",
         "Riesling",
         "Cave Spring"
        ]
       ],
       "shape": {
        "columns": 13,
        "rows": 425
       }
      },
      "text/html": [
       "<div>\n",
       "<style scoped>\n",
       "    .dataframe tbody tr th:only-of-type {\n",
       "        vertical-align: middle;\n",
       "    }\n",
       "\n",
       "    .dataframe tbody tr th {\n",
       "        vertical-align: top;\n",
       "    }\n",
       "\n",
       "    .dataframe thead th {\n",
       "        text-align: right;\n",
       "    }\n",
       "</style>\n",
       "<table border=\"1\" class=\"dataframe\">\n",
       "  <thead>\n",
       "    <tr style=\"text-align: right;\">\n",
       "      <th></th>\n",
       "      <th></th>\n",
       "      <th>country</th>\n",
       "      <th>description</th>\n",
       "      <th>designation</th>\n",
       "      <th>points</th>\n",
       "      <th>price</th>\n",
       "      <th>province</th>\n",
       "      <th>region_1</th>\n",
       "      <th>region_2</th>\n",
       "      <th>taster_name</th>\n",
       "      <th>taster_twitter_handle</th>\n",
       "      <th>title</th>\n",
       "      <th>variety</th>\n",
       "      <th>winery</th>\n",
       "    </tr>\n",
       "    <tr>\n",
       "      <th>country</th>\n",
       "      <th>province</th>\n",
       "      <th></th>\n",
       "      <th></th>\n",
       "      <th></th>\n",
       "      <th></th>\n",
       "      <th></th>\n",
       "      <th></th>\n",
       "      <th></th>\n",
       "      <th></th>\n",
       "      <th></th>\n",
       "      <th></th>\n",
       "      <th></th>\n",
       "      <th></th>\n",
       "      <th></th>\n",
       "    </tr>\n",
       "  </thead>\n",
       "  <tbody>\n",
       "    <tr>\n",
       "      <th rowspan=\"2\" valign=\"top\">Argentina</th>\n",
       "      <th>Mendoza Province</th>\n",
       "      <td>Argentina</td>\n",
       "      <td>If the color doesn't tell the full story, the ...</td>\n",
       "      <td>Nicasia Vineyard</td>\n",
       "      <td>97</td>\n",
       "      <td>120.0</td>\n",
       "      <td>Mendoza Province</td>\n",
       "      <td>Mendoza</td>\n",
       "      <td>NaN</td>\n",
       "      <td>Michael Schachner</td>\n",
       "      <td>@wineschach</td>\n",
       "      <td>Bodega Catena Zapata 2006 Nicasia Vineyard Mal...</td>\n",
       "      <td>Malbec</td>\n",
       "      <td>Bodega Catena Zapata</td>\n",
       "    </tr>\n",
       "    <tr>\n",
       "      <th>Other</th>\n",
       "      <td>Argentina</td>\n",
       "      <td>Take note, this could be the best wine Colomé ...</td>\n",
       "      <td>Reserva</td>\n",
       "      <td>95</td>\n",
       "      <td>90.0</td>\n",
       "      <td>Other</td>\n",
       "      <td>Salta</td>\n",
       "      <td>NaN</td>\n",
       "      <td>Michael Schachner</td>\n",
       "      <td>@wineschach</td>\n",
       "      <td>Colomé 2010 Reserva Malbec (Salta)</td>\n",
       "      <td>Malbec</td>\n",
       "      <td>Colomé</td>\n",
       "    </tr>\n",
       "    <tr>\n",
       "      <th>...</th>\n",
       "      <th>...</th>\n",
       "      <td>...</td>\n",
       "      <td>...</td>\n",
       "      <td>...</td>\n",
       "      <td>...</td>\n",
       "      <td>...</td>\n",
       "      <td>...</td>\n",
       "      <td>...</td>\n",
       "      <td>...</td>\n",
       "      <td>...</td>\n",
       "      <td>...</td>\n",
       "      <td>...</td>\n",
       "      <td>...</td>\n",
       "      <td>...</td>\n",
       "    </tr>\n",
       "    <tr>\n",
       "      <th rowspan=\"2\" valign=\"top\">Uruguay</th>\n",
       "      <th>San Jose</th>\n",
       "      <td>Uruguay</td>\n",
       "      <td>Baked, sweet, heavy aromas turn earthy with ti...</td>\n",
       "      <td>El Preciado Gran Reserva</td>\n",
       "      <td>87</td>\n",
       "      <td>50.0</td>\n",
       "      <td>San Jose</td>\n",
       "      <td>NaN</td>\n",
       "      <td>NaN</td>\n",
       "      <td>Michael Schachner</td>\n",
       "      <td>@wineschach</td>\n",
       "      <td>Castillo Viejo 2005 El Preciado Gran Reserva R...</td>\n",
       "      <td>Red Blend</td>\n",
       "      <td>Castillo Viejo</td>\n",
       "    </tr>\n",
       "    <tr>\n",
       "      <th>Uruguay</th>\n",
       "      <td>Uruguay</td>\n",
       "      <td>Cherry and berry aromas are ripe, healthy and ...</td>\n",
       "      <td>Blend 002 Limited Edition</td>\n",
       "      <td>91</td>\n",
       "      <td>22.0</td>\n",
       "      <td>Uruguay</td>\n",
       "      <td>NaN</td>\n",
       "      <td>NaN</td>\n",
       "      <td>Michael Schachner</td>\n",
       "      <td>@wineschach</td>\n",
       "      <td>Narbona NV Blend 002 Limited Edition Tannat-Ca...</td>\n",
       "      <td>Tannat-Cabernet Franc</td>\n",
       "      <td>Narbona</td>\n",
       "    </tr>\n",
       "  </tbody>\n",
       "</table>\n",
       "<p>425 rows × 13 columns</p>\n",
       "</div>"
      ],
      "text/plain": [
       "                              country  \\\n",
       "country   province                      \n",
       "Argentina Mendoza Province  Argentina   \n",
       "          Other             Argentina   \n",
       "...                               ...   \n",
       "Uruguay   San Jose            Uruguay   \n",
       "          Uruguay             Uruguay   \n",
       "\n",
       "                                                                  description  \\\n",
       "country   province                                                              \n",
       "Argentina Mendoza Province  If the color doesn't tell the full story, the ...   \n",
       "          Other             Take note, this could be the best wine Colomé ...   \n",
       "...                                                                       ...   \n",
       "Uruguay   San Jose          Baked, sweet, heavy aromas turn earthy with ti...   \n",
       "          Uruguay           Cherry and berry aromas are ripe, healthy and ...   \n",
       "\n",
       "                                          designation  points  price  \\\n",
       "country   province                                                     \n",
       "Argentina Mendoza Province           Nicasia Vineyard      97  120.0   \n",
       "          Other                               Reserva      95   90.0   \n",
       "...                                               ...     ...    ...   \n",
       "Uruguay   San Jose           El Preciado Gran Reserva      87   50.0   \n",
       "          Uruguay           Blend 002 Limited Edition      91   22.0   \n",
       "\n",
       "                                    province region_1 region_2  \\\n",
       "country   province                                               \n",
       "Argentina Mendoza Province  Mendoza Province  Mendoza      NaN   \n",
       "          Other                        Other    Salta      NaN   \n",
       "...                                      ...      ...      ...   \n",
       "Uruguay   San Jose                  San Jose      NaN      NaN   \n",
       "          Uruguay                    Uruguay      NaN      NaN   \n",
       "\n",
       "                                  taster_name taster_twitter_handle  \\\n",
       "country   province                                                    \n",
       "Argentina Mendoza Province  Michael Schachner           @wineschach   \n",
       "          Other             Michael Schachner           @wineschach   \n",
       "...                                       ...                   ...   \n",
       "Uruguay   San Jose          Michael Schachner           @wineschach   \n",
       "          Uruguay           Michael Schachner           @wineschach   \n",
       "\n",
       "                                                                        title  \\\n",
       "country   province                                                              \n",
       "Argentina Mendoza Province  Bodega Catena Zapata 2006 Nicasia Vineyard Mal...   \n",
       "          Other                            Colomé 2010 Reserva Malbec (Salta)   \n",
       "...                                                                       ...   \n",
       "Uruguay   San Jose          Castillo Viejo 2005 El Preciado Gran Reserva R...   \n",
       "          Uruguay           Narbona NV Blend 002 Limited Edition Tannat-Ca...   \n",
       "\n",
       "                                          variety                winery  \n",
       "country   province                                                       \n",
       "Argentina Mendoza Province                 Malbec  Bodega Catena Zapata  \n",
       "          Other                            Malbec                Colomé  \n",
       "...                                           ...                   ...  \n",
       "Uruguay   San Jose                      Red Blend        Castillo Viejo  \n",
       "          Uruguay           Tannat-Cabernet Franc               Narbona  \n",
       "\n",
       "[425 rows x 13 columns]"
      ]
     },
     "execution_count": 9,
     "metadata": {},
     "output_type": "execute_result"
    }
   ],
   "source": [
    "reviews.groupby(['country', 'province']).apply(lambda df: df.loc[df.points.idxmax()])"
   ]
  },
  {
   "cell_type": "markdown",
   "metadata": {},
   "source": [
    "Another `groupby()` method worth mentioning is `agg()`, which lets you run a bunch of different functions on your DataFrame simultaneously. For example, we can generate a simple statistical summary of the dataset as follows:\n",
    "\n",
    "另一个值得一提的`groupby()`方法是`agg()`，它可以让你在 DataFrame 上同时运行多个不同的函数。例如，我们可以生成一个简单的数据集统计摘要，如下所示："
   ]
  },
  {
   "cell_type": "code",
   "execution_count": 10,
   "metadata": {},
   "outputs": [
    {
     "name": "stderr",
     "output_type": "stream",
     "text": [
      "/var/folders/32/h68qwycj5j770f873m9dns9m0000gn/T/ipykernel_3890/4122224884.py:1: FutureWarning: The provided callable <built-in function min> is currently using SeriesGroupBy.min. In a future version of pandas, the provided callable will be used directly. To keep current behavior pass the string \"min\" instead.\n",
      "  reviews.groupby(['country']).price.agg([len, min, max])\n",
      "/var/folders/32/h68qwycj5j770f873m9dns9m0000gn/T/ipykernel_3890/4122224884.py:1: FutureWarning: The provided callable <built-in function max> is currently using SeriesGroupBy.max. In a future version of pandas, the provided callable will be used directly. To keep current behavior pass the string \"max\" instead.\n",
      "  reviews.groupby(['country']).price.agg([len, min, max])\n"
     ]
    },
    {
     "data": {
      "application/vnd.microsoft.datawrangler.viewer.v0+json": {
       "columns": [
        {
         "name": "country",
         "rawType": "object",
         "type": "string"
        },
        {
         "name": "len",
         "rawType": "int64",
         "type": "integer"
        },
        {
         "name": "min",
         "rawType": "float64",
         "type": "float"
        },
        {
         "name": "max",
         "rawType": "float64",
         "type": "float"
        }
       ],
       "conversionMethod": "pd.DataFrame",
       "ref": "aed994aa-1459-446a-882b-4a0b9fb818dd",
       "rows": [
        [
         "Argentina",
         "3800",
         "4.0",
         "230.0"
        ],
        [
         "Armenia",
         "2",
         "14.0",
         "15.0"
        ],
        [
         "Australia",
         "2329",
         "5.0",
         "850.0"
        ],
        [
         "Austria",
         "3345",
         "7.0",
         "1100.0"
        ],
        [
         "Bosnia and Herzegovina",
         "2",
         "12.0",
         "13.0"
        ],
        [
         "Brazil",
         "52",
         "10.0",
         "60.0"
        ],
        [
         "Bulgaria",
         "141",
         "8.0",
         "100.0"
        ],
        [
         "Canada",
         "257",
         "12.0",
         "120.0"
        ],
        [
         "Chile",
         "4472",
         "5.0",
         "400.0"
        ],
        [
         "China",
         "1",
         "18.0",
         "18.0"
        ],
        [
         "Croatia",
         "73",
         "12.0",
         "65.0"
        ],
        [
         "Cyprus",
         "11",
         "11.0",
         "21.0"
        ],
        [
         "Czech Republic",
         "12",
         "15.0",
         "45.0"
        ],
        [
         "Egypt",
         "1",
         null,
         null
        ],
        [
         "England",
         "74",
         "25.0",
         "95.0"
        ],
        [
         "France",
         "22093",
         "5.0",
         "3300.0"
        ],
        [
         "Georgia",
         "86",
         "9.0",
         "40.0"
        ],
        [
         "Germany",
         "2165",
         "5.0",
         "775.0"
        ],
        [
         "Greece",
         "466",
         "8.0",
         "79.0"
        ],
        [
         "Hungary",
         "146",
         "10.0",
         "764.0"
        ],
        [
         "India",
         "9",
         "10.0",
         "20.0"
        ],
        [
         "Israel",
         "505",
         "8.0",
         "150.0"
        ],
        [
         "Italy",
         "19540",
         "5.0",
         "900.0"
        ],
        [
         "Lebanon",
         "35",
         "13.0",
         "75.0"
        ],
        [
         "Luxembourg",
         "6",
         "16.0",
         "30.0"
        ],
        [
         "Macedonia",
         "12",
         "15.0",
         "20.0"
        ],
        [
         "Mexico",
         "70",
         "8.0",
         "108.0"
        ],
        [
         "Moldova",
         "59",
         "8.0",
         "42.0"
        ],
        [
         "Morocco",
         "28",
         "14.0",
         "40.0"
        ],
        [
         "New Zealand",
         "1419",
         "7.0",
         "130.0"
        ],
        [
         "Peru",
         "16",
         "10.0",
         "68.0"
        ],
        [
         "Portugal",
         "5691",
         "5.0",
         "1000.0"
        ],
        [
         "Romania",
         "120",
         "4.0",
         "320.0"
        ],
        [
         "Serbia",
         "12",
         "15.0",
         "42.0"
        ],
        [
         "Slovakia",
         "1",
         "16.0",
         "16.0"
        ],
        [
         "Slovenia",
         "87",
         "7.0",
         "90.0"
        ],
        [
         "South Africa",
         "1401",
         "5.0",
         "330.0"
        ],
        [
         "Spain",
         "6645",
         "4.0",
         "770.0"
        ],
        [
         "Switzerland",
         "7",
         "21.0",
         "160.0"
        ],
        [
         "Turkey",
         "90",
         "14.0",
         "120.0"
        ],
        [
         "US",
         "54504",
         "4.0",
         "2013.0"
        ],
        [
         "Ukraine",
         "14",
         "6.0",
         "13.0"
        ],
        [
         "Uruguay",
         "109",
         "10.0",
         "130.0"
        ]
       ],
       "shape": {
        "columns": 3,
        "rows": 43
       }
      },
      "text/html": [
       "<div>\n",
       "<style scoped>\n",
       "    .dataframe tbody tr th:only-of-type {\n",
       "        vertical-align: middle;\n",
       "    }\n",
       "\n",
       "    .dataframe tbody tr th {\n",
       "        vertical-align: top;\n",
       "    }\n",
       "\n",
       "    .dataframe thead th {\n",
       "        text-align: right;\n",
       "    }\n",
       "</style>\n",
       "<table border=\"1\" class=\"dataframe\">\n",
       "  <thead>\n",
       "    <tr style=\"text-align: right;\">\n",
       "      <th></th>\n",
       "      <th>len</th>\n",
       "      <th>min</th>\n",
       "      <th>max</th>\n",
       "    </tr>\n",
       "    <tr>\n",
       "      <th>country</th>\n",
       "      <th></th>\n",
       "      <th></th>\n",
       "      <th></th>\n",
       "    </tr>\n",
       "  </thead>\n",
       "  <tbody>\n",
       "    <tr>\n",
       "      <th>Argentina</th>\n",
       "      <td>3800</td>\n",
       "      <td>4.0</td>\n",
       "      <td>230.0</td>\n",
       "    </tr>\n",
       "    <tr>\n",
       "      <th>Armenia</th>\n",
       "      <td>2</td>\n",
       "      <td>14.0</td>\n",
       "      <td>15.0</td>\n",
       "    </tr>\n",
       "    <tr>\n",
       "      <th>...</th>\n",
       "      <td>...</td>\n",
       "      <td>...</td>\n",
       "      <td>...</td>\n",
       "    </tr>\n",
       "    <tr>\n",
       "      <th>Ukraine</th>\n",
       "      <td>14</td>\n",
       "      <td>6.0</td>\n",
       "      <td>13.0</td>\n",
       "    </tr>\n",
       "    <tr>\n",
       "      <th>Uruguay</th>\n",
       "      <td>109</td>\n",
       "      <td>10.0</td>\n",
       "      <td>130.0</td>\n",
       "    </tr>\n",
       "  </tbody>\n",
       "</table>\n",
       "<p>43 rows × 3 columns</p>\n",
       "</div>"
      ],
      "text/plain": [
       "            len   min    max\n",
       "country                     \n",
       "Argentina  3800   4.0  230.0\n",
       "Armenia       2  14.0   15.0\n",
       "...         ...   ...    ...\n",
       "Ukraine      14   6.0   13.0\n",
       "Uruguay     109  10.0  130.0\n",
       "\n",
       "[43 rows x 3 columns]"
      ]
     },
     "execution_count": 10,
     "metadata": {},
     "output_type": "execute_result"
    }
   ],
   "source": [
    "reviews.groupby(['country']).price.agg([len, min, max])"
   ]
  },
  {
   "cell_type": "markdown",
   "metadata": {},
   "source": [
    "Effective use of `groupby()` will allow you to do lots of really powerful things with your dataset.\n",
    "\n",
    "有效使用 `groupby()`，可以让您在数据集上做很多非常强大的事情。"
   ]
  },
  {
   "cell_type": "markdown",
   "metadata": {},
   "source": [
    "# Multi-indexes\n",
    "\n",
    "In all of the examples we've seen thus far we've been working with DataFrame or Series objects with a single-label index. `groupby()` is slightly different in the fact that, depending on the operation we run, it will sometimes result in what is called a multi-index.\n",
    "\n",
    "在我们迄今为止看到的所有示例中，我们一直在使用具有单标签索引的 DataFrame 或 Series 对象。`groupby()`略有不同，根据我们运行的操作，有时会产生所谓的多索引。\n",
    "\n",
    "A multi-index differs from a regular index in that it has multiple levels. For example:\n",
    "\n",
    "多重索引与普通索引的不同之处在于它有多个级别。例如"
   ]
  },
  {
   "cell_type": "code",
   "execution_count": 11,
   "metadata": {},
   "outputs": [
    {
     "data": {
      "application/vnd.microsoft.datawrangler.viewer.v0+json": {
       "columns": [
        {
         "name": "('country', 'province')",
         "rawType": "object",
         "type": "unknown"
        },
        {
         "name": "len",
         "rawType": "int64",
         "type": "integer"
        }
       ],
       "conversionMethod": "pd.DataFrame",
       "ref": "07bdbe81-88b4-4025-910a-fb9d8ebb65fd",
       "rows": [
        [
         "('Argentina', 'Mendoza Province')",
         "3264"
        ],
        [
         "('Argentina', 'Other')",
         "536"
        ],
        [
         "('Armenia', 'Armenia')",
         "2"
        ],
        [
         "('Australia', 'Australia Other')",
         "245"
        ],
        [
         "('Australia', 'New South Wales')",
         "85"
        ],
        [
         "('Australia', 'South Australia')",
         "1349"
        ],
        [
         "('Australia', 'Tasmania')",
         "42"
        ],
        [
         "('Australia', 'Victoria')",
         "322"
        ],
        [
         "('Australia', 'Western Australia')",
         "286"
        ],
        [
         "('Austria', 'Austria')",
         "26"
        ],
        [
         "('Austria', 'Burgenland')",
         "672"
        ],
        [
         "('Austria', 'Carnuntum')",
         "103"
        ],
        [
         "('Austria', 'Eisenberg')",
         "16"
        ],
        [
         "('Austria', 'Kamptal')",
         "409"
        ],
        [
         "('Austria', 'Kremstal')",
         "340"
        ],
        [
         "('Austria', 'Leithaberg')",
         "42"
        ],
        [
         "('Austria', 'Mittelburgenland')",
         "23"
        ],
        [
         "('Austria', 'Neusiedlersee')",
         "13"
        ],
        [
         "('Austria', 'Niederösterreich')",
         "600"
        ],
        [
         "('Austria', 'Steiermark')",
         "20"
        ],
        [
         "('Austria', 'Südburgenland')",
         "2"
        ],
        [
         "('Austria', 'Südoststeiermark')",
         "37"
        ],
        [
         "('Austria', 'Südsteiermark')",
         "109"
        ],
        [
         "('Austria', 'Thermenregion')",
         "128"
        ],
        [
         "('Austria', 'Traisental')",
         "43"
        ],
        [
         "('Austria', 'Vienna')",
         "72"
        ],
        [
         "('Austria', 'Wachau')",
         "353"
        ],
        [
         "('Austria', 'Wagram')",
         "65"
        ],
        [
         "('Austria', 'Wagram-Donauland')",
         "56"
        ],
        [
         "('Austria', 'Weinland Österreich')",
         "18"
        ],
        [
         "('Austria', 'Weinviertel')",
         "100"
        ],
        [
         "('Austria', 'Wiener Gemischter Satz')",
         "28"
        ],
        [
         "('Austria', 'Österreichischer Perlwein')",
         "4"
        ],
        [
         "('Austria', 'Österreichischer Sekt')",
         "66"
        ],
        [
         "('Bosnia and Herzegovina', 'Mostar')",
         "2"
        ],
        [
         "('Brazil', 'Brazil')",
         "7"
        ],
        [
         "('Brazil', 'Campanha')",
         "4"
        ],
        [
         "('Brazil', 'Pinto Bandeira')",
         "6"
        ],
        [
         "('Brazil', 'Santa Catarina')",
         "2"
        ],
        [
         "('Brazil', 'Serra Gaúcha')",
         "18"
        ],
        [
         "('Brazil', 'Serra do Sudeste')",
         "1"
        ],
        [
         "('Brazil', 'Vale Trentino')",
         "5"
        ],
        [
         "('Brazil', 'Vale dos Vinhedos')",
         "9"
        ],
        [
         "('Bulgaria', 'Black Sea Coastal')",
         "3"
        ],
        [
         "('Bulgaria', 'Bulgaria')",
         "9"
        ],
        [
         "('Bulgaria', 'Danube River Plains')",
         "19"
        ],
        [
         "('Bulgaria', 'Thracian Valley')",
         "110"
        ],
        [
         "('Canada', 'British Columbia')",
         "160"
        ],
        [
         "('Canada', 'Canada Other')",
         "1"
        ],
        [
         "('Canada', 'Ontario')",
         "96"
        ]
       ],
       "shape": {
        "columns": 1,
        "rows": 425
       }
      },
      "text/html": [
       "<div>\n",
       "<style scoped>\n",
       "    .dataframe tbody tr th:only-of-type {\n",
       "        vertical-align: middle;\n",
       "    }\n",
       "\n",
       "    .dataframe tbody tr th {\n",
       "        vertical-align: top;\n",
       "    }\n",
       "\n",
       "    .dataframe thead th {\n",
       "        text-align: right;\n",
       "    }\n",
       "</style>\n",
       "<table border=\"1\" class=\"dataframe\">\n",
       "  <thead>\n",
       "    <tr style=\"text-align: right;\">\n",
       "      <th></th>\n",
       "      <th></th>\n",
       "      <th>len</th>\n",
       "    </tr>\n",
       "    <tr>\n",
       "      <th>country</th>\n",
       "      <th>province</th>\n",
       "      <th></th>\n",
       "    </tr>\n",
       "  </thead>\n",
       "  <tbody>\n",
       "    <tr>\n",
       "      <th rowspan=\"2\" valign=\"top\">Argentina</th>\n",
       "      <th>Mendoza Province</th>\n",
       "      <td>3264</td>\n",
       "    </tr>\n",
       "    <tr>\n",
       "      <th>Other</th>\n",
       "      <td>536</td>\n",
       "    </tr>\n",
       "    <tr>\n",
       "      <th>...</th>\n",
       "      <th>...</th>\n",
       "      <td>...</td>\n",
       "    </tr>\n",
       "    <tr>\n",
       "      <th rowspan=\"2\" valign=\"top\">Uruguay</th>\n",
       "      <th>San Jose</th>\n",
       "      <td>3</td>\n",
       "    </tr>\n",
       "    <tr>\n",
       "      <th>Uruguay</th>\n",
       "      <td>24</td>\n",
       "    </tr>\n",
       "  </tbody>\n",
       "</table>\n",
       "<p>425 rows × 1 columns</p>\n",
       "</div>"
      ],
      "text/plain": [
       "                             len\n",
       "country   province              \n",
       "Argentina Mendoza Province  3264\n",
       "          Other              536\n",
       "...                          ...\n",
       "Uruguay   San Jose             3\n",
       "          Uruguay             24\n",
       "\n",
       "[425 rows x 1 columns]"
      ]
     },
     "execution_count": 11,
     "metadata": {},
     "output_type": "execute_result"
    }
   ],
   "source": [
    "countries_reviewed = reviews.groupby(['country', 'province']).description.agg([len])\n",
    "countries_reviewed"
   ]
  },
  {
   "cell_type": "code",
   "execution_count": 12,
   "metadata": {},
   "outputs": [
    {
     "data": {
      "text/plain": [
       "pandas.core.indexes.multi.MultiIndex"
      ]
     },
     "execution_count": 12,
     "metadata": {},
     "output_type": "execute_result"
    }
   ],
   "source": [
    "mi = countries_reviewed.index\n",
    "type(mi)"
   ]
  },
  {
   "cell_type": "markdown",
   "metadata": {},
   "source": [
    "Multi-indices have several methods for dealing with their tiered structure which are absent for single-level indices. They also require two levels of labels to retrieve a value. Dealing with multi-index output is a common \"gotcha\" for users new to pandas.\n",
    "\n",
    "多级索引有几种处理分层结构的方法，而单级索引则没有这些方法。它们还需要两层标签来检索一个值。对于刚接触 pandas 的用户来说，处理多索引输出是一个常见的 \"难题\"。\n",
    "\n",
    "The use cases for a multi-index are detailed alongside instructions on using them in the [MultiIndex / Advanced Selection](https://pandas.pydata.org/pandas-docs/stable/advanced.html) section of the pandas documentation.\n",
    "\n",
    "在 pandas 文档的[MultiIndex / Advanced Selection](https://pandas.pydata.org/pandas-docs/stable/advanced.html)部分，详细介绍了多索引的用例和使用说明。\n",
    "\n",
    "However, in general the multi-index method you will use most often is the one for converting back to a regular index, the `reset_index()` method:\n",
    "\n",
    "不过，一般来说，你最常使用的多索引方法是转换回普通索引的方法，即 `reset_index()` 方法："
   ]
  },
  {
   "cell_type": "code",
   "execution_count": 13,
   "metadata": {},
   "outputs": [
    {
     "data": {
      "application/vnd.microsoft.datawrangler.viewer.v0+json": {
       "columns": [
        {
         "name": "index",
         "rawType": "int64",
         "type": "integer"
        },
        {
         "name": "country",
         "rawType": "object",
         "type": "string"
        },
        {
         "name": "province",
         "rawType": "object",
         "type": "string"
        },
        {
         "name": "len",
         "rawType": "int64",
         "type": "integer"
        }
       ],
       "conversionMethod": "pd.DataFrame",
       "ref": "42240a14-46fc-4d35-af44-9361c2c0be9c",
       "rows": [
        [
         "0",
         "Argentina",
         "Mendoza Province",
         "3264"
        ],
        [
         "1",
         "Argentina",
         "Other",
         "536"
        ],
        [
         "2",
         "Armenia",
         "Armenia",
         "2"
        ],
        [
         "3",
         "Australia",
         "Australia Other",
         "245"
        ],
        [
         "4",
         "Australia",
         "New South Wales",
         "85"
        ],
        [
         "5",
         "Australia",
         "South Australia",
         "1349"
        ],
        [
         "6",
         "Australia",
         "Tasmania",
         "42"
        ],
        [
         "7",
         "Australia",
         "Victoria",
         "322"
        ],
        [
         "8",
         "Australia",
         "Western Australia",
         "286"
        ],
        [
         "9",
         "Austria",
         "Austria",
         "26"
        ],
        [
         "10",
         "Austria",
         "Burgenland",
         "672"
        ],
        [
         "11",
         "Austria",
         "Carnuntum",
         "103"
        ],
        [
         "12",
         "Austria",
         "Eisenberg",
         "16"
        ],
        [
         "13",
         "Austria",
         "Kamptal",
         "409"
        ],
        [
         "14",
         "Austria",
         "Kremstal",
         "340"
        ],
        [
         "15",
         "Austria",
         "Leithaberg",
         "42"
        ],
        [
         "16",
         "Austria",
         "Mittelburgenland",
         "23"
        ],
        [
         "17",
         "Austria",
         "Neusiedlersee",
         "13"
        ],
        [
         "18",
         "Austria",
         "Niederösterreich",
         "600"
        ],
        [
         "19",
         "Austria",
         "Steiermark",
         "20"
        ],
        [
         "20",
         "Austria",
         "Südburgenland",
         "2"
        ],
        [
         "21",
         "Austria",
         "Südoststeiermark",
         "37"
        ],
        [
         "22",
         "Austria",
         "Südsteiermark",
         "109"
        ],
        [
         "23",
         "Austria",
         "Thermenregion",
         "128"
        ],
        [
         "24",
         "Austria",
         "Traisental",
         "43"
        ],
        [
         "25",
         "Austria",
         "Vienna",
         "72"
        ],
        [
         "26",
         "Austria",
         "Wachau",
         "353"
        ],
        [
         "27",
         "Austria",
         "Wagram",
         "65"
        ],
        [
         "28",
         "Austria",
         "Wagram-Donauland",
         "56"
        ],
        [
         "29",
         "Austria",
         "Weinland Österreich",
         "18"
        ],
        [
         "30",
         "Austria",
         "Weinviertel",
         "100"
        ],
        [
         "31",
         "Austria",
         "Wiener Gemischter Satz",
         "28"
        ],
        [
         "32",
         "Austria",
         "Österreichischer Perlwein",
         "4"
        ],
        [
         "33",
         "Austria",
         "Österreichischer Sekt",
         "66"
        ],
        [
         "34",
         "Bosnia and Herzegovina",
         "Mostar",
         "2"
        ],
        [
         "35",
         "Brazil",
         "Brazil",
         "7"
        ],
        [
         "36",
         "Brazil",
         "Campanha",
         "4"
        ],
        [
         "37",
         "Brazil",
         "Pinto Bandeira",
         "6"
        ],
        [
         "38",
         "Brazil",
         "Santa Catarina",
         "2"
        ],
        [
         "39",
         "Brazil",
         "Serra Gaúcha",
         "18"
        ],
        [
         "40",
         "Brazil",
         "Serra do Sudeste",
         "1"
        ],
        [
         "41",
         "Brazil",
         "Vale Trentino",
         "5"
        ],
        [
         "42",
         "Brazil",
         "Vale dos Vinhedos",
         "9"
        ],
        [
         "43",
         "Bulgaria",
         "Black Sea Coastal",
         "3"
        ],
        [
         "44",
         "Bulgaria",
         "Bulgaria",
         "9"
        ],
        [
         "45",
         "Bulgaria",
         "Danube River Plains",
         "19"
        ],
        [
         "46",
         "Bulgaria",
         "Thracian Valley",
         "110"
        ],
        [
         "47",
         "Canada",
         "British Columbia",
         "160"
        ],
        [
         "48",
         "Canada",
         "Canada Other",
         "1"
        ],
        [
         "49",
         "Canada",
         "Ontario",
         "96"
        ]
       ],
       "shape": {
        "columns": 3,
        "rows": 425
       }
      },
      "text/html": [
       "<div>\n",
       "<style scoped>\n",
       "    .dataframe tbody tr th:only-of-type {\n",
       "        vertical-align: middle;\n",
       "    }\n",
       "\n",
       "    .dataframe tbody tr th {\n",
       "        vertical-align: top;\n",
       "    }\n",
       "\n",
       "    .dataframe thead th {\n",
       "        text-align: right;\n",
       "    }\n",
       "</style>\n",
       "<table border=\"1\" class=\"dataframe\">\n",
       "  <thead>\n",
       "    <tr style=\"text-align: right;\">\n",
       "      <th></th>\n",
       "      <th>country</th>\n",
       "      <th>province</th>\n",
       "      <th>len</th>\n",
       "    </tr>\n",
       "  </thead>\n",
       "  <tbody>\n",
       "    <tr>\n",
       "      <th>0</th>\n",
       "      <td>Argentina</td>\n",
       "      <td>Mendoza Province</td>\n",
       "      <td>3264</td>\n",
       "    </tr>\n",
       "    <tr>\n",
       "      <th>1</th>\n",
       "      <td>Argentina</td>\n",
       "      <td>Other</td>\n",
       "      <td>536</td>\n",
       "    </tr>\n",
       "    <tr>\n",
       "      <th>...</th>\n",
       "      <td>...</td>\n",
       "      <td>...</td>\n",
       "      <td>...</td>\n",
       "    </tr>\n",
       "    <tr>\n",
       "      <th>423</th>\n",
       "      <td>Uruguay</td>\n",
       "      <td>San Jose</td>\n",
       "      <td>3</td>\n",
       "    </tr>\n",
       "    <tr>\n",
       "      <th>424</th>\n",
       "      <td>Uruguay</td>\n",
       "      <td>Uruguay</td>\n",
       "      <td>24</td>\n",
       "    </tr>\n",
       "  </tbody>\n",
       "</table>\n",
       "<p>425 rows × 3 columns</p>\n",
       "</div>"
      ],
      "text/plain": [
       "       country          province   len\n",
       "0    Argentina  Mendoza Province  3264\n",
       "1    Argentina             Other   536\n",
       "..         ...               ...   ...\n",
       "423    Uruguay          San Jose     3\n",
       "424    Uruguay           Uruguay    24\n",
       "\n",
       "[425 rows x 3 columns]"
      ]
     },
     "execution_count": 13,
     "metadata": {},
     "output_type": "execute_result"
    }
   ],
   "source": [
    "countries_reviewed.reset_index()"
   ]
  },
  {
   "cell_type": "markdown",
   "metadata": {},
   "source": [
    "# Sorting\n",
    "\n",
    "Looking again at `countries_reviewed` we can see that grouping returns data in index order, not in value order. That is to say, when outputting the result of a `groupby`, the order of the rows is dependent on the values in the index, not in the data.\n",
    "\n",
    "再次查看 `countries_reviewed` 可以发现，分组是按索引顺序而不是按值顺序返回数据的。也就是说，在输出`groupby`的结果时，行的顺序取决于索引中的值，而不是数据中的值。\n",
    "\n",
    "To get data in the order want it in we can sort it ourselves.  The `sort_values()` method is handy for this.\n",
    "\n",
    "要按顺序获取数据，我们可以自己排序。为此，`sort_values()`方法非常方便。"
   ]
  },
  {
   "cell_type": "code",
   "execution_count": 14,
   "metadata": {},
   "outputs": [
    {
     "data": {
      "application/vnd.microsoft.datawrangler.viewer.v0+json": {
       "columns": [
        {
         "name": "index",
         "rawType": "int64",
         "type": "integer"
        },
        {
         "name": "country",
         "rawType": "object",
         "type": "string"
        },
        {
         "name": "province",
         "rawType": "object",
         "type": "string"
        },
        {
         "name": "len",
         "rawType": "int64",
         "type": "integer"
        }
       ],
       "conversionMethod": "pd.DataFrame",
       "ref": "49a9bdae-26cf-4ab6-b199-0edac39e8ae7",
       "rows": [
        [
         "179",
         "Greece",
         "Muscat of Kefallonian",
         "1"
        ],
        [
         "192",
         "Greece",
         "Sterea Ellada",
         "1"
        ],
        [
         "194",
         "Greece",
         "Thraki",
         "1"
        ],
        [
         "354",
         "South Africa",
         "Paardeberg",
         "1"
        ],
        [
         "40",
         "Brazil",
         "Serra do Sudeste",
         "1"
        ],
        [
         "114",
         "Egypt",
         "Egypt",
         "1"
        ],
        [
         "316",
         "Serbia",
         "Pocerina",
         "1"
        ],
        [
         "112",
         "Cyprus",
         "Pitsilia Mountains",
         "1"
        ],
        [
         "110",
         "Cyprus",
         "Lemesos",
         "1"
        ],
        [
         "301",
         "Portugal",
         "Vinho da Mesa",
         "1"
        ],
        [
         "48",
         "Canada",
         "Canada Other",
         "1"
        ],
        [
         "109",
         "Cyprus",
         "Kathikas",
         "1"
        ],
        [
         "380",
         "Switzerland",
         "Ticino",
         "1"
        ],
        [
         "331",
         "South Africa",
         "Cape Agulhas",
         "1"
        ],
        [
         "303",
         "Romania",
         "Dealurile Hușilor",
         "1"
        ],
        [
         "103",
         "Croatia",
         "Middle and South Dalmatia",
         "1"
        ],
        [
         "101",
         "Croatia",
         "Krk",
         "1"
        ],
        [
         "58",
         "Chile",
         "Casablanca-Curicó Valley",
         "1"
        ],
        [
         "97",
         "Croatia",
         "Hrvatsko Primorje",
         "1"
        ],
        [
         "366",
         "South Africa",
         "Vlootenburg",
         "1"
        ],
        [
         "96",
         "Croatia",
         "Dingač",
         "1"
        ],
        [
         "95",
         "Croatia",
         "Dalmatian Coast",
         "1"
        ],
        [
         "63",
         "Chile",
         "Coelemu",
         "1"
        ],
        [
         "94",
         "Croatia",
         "Croatia",
         "1"
        ],
        [
         "93",
         "China",
         "China",
         "1"
        ],
        [
         "349",
         "South Africa",
         "Lutzville Valley",
         "1"
        ],
        [
         "357",
         "South Africa",
         "Piekenierskloof",
         "1"
        ],
        [
         "378",
         "Switzerland",
         "Neuchâtel",
         "1"
        ],
        [
         "386",
         "Turkey",
         "Elazığ-Diyarbakir",
         "1"
        ],
        [
         "335",
         "South Africa",
         "Ceres Plateau",
         "1"
        ],
        [
         "325",
         "Slovenia",
         "Slovenska Istra",
         "1"
        ],
        [
         "177",
         "Greece",
         "Monemvasia",
         "1"
        ],
        [
         "176",
         "Greece",
         "Messinia",
         "1"
        ],
        [
         "174",
         "Greece",
         "Mavrodaphne de Cephalonie",
         "1"
        ],
        [
         "173",
         "Greece",
         "Markopoulo",
         "1"
        ],
        [
         "180",
         "Greece",
         "Muscat of Patras",
         "1"
        ],
        [
         "265",
         "Portugal",
         "Alenteo",
         "1"
        ],
        [
         "411",
         "US",
         "Rhode Island",
         "1"
        ],
        [
         "168",
         "Greece",
         "Lesbos",
         "1"
        ],
        [
         "166",
         "Greece",
         "Krania Olympus",
         "1"
        ],
        [
         "291",
         "Portugal",
         "Table wine",
         "1"
        ],
        [
         "329",
         "South Africa",
         "Breede River Valley",
         "1"
        ],
        [
         "320",
         "Slovenia",
         "Dolenjska",
         "1"
        ],
        [
         "247",
         "New Zealand",
         "Gladstone",
         "1"
        ],
        [
         "154",
         "Greece",
         "Corinthia",
         "1"
        ],
        [
         "318",
         "Slovakia",
         "Muzla",
         "1"
        ],
        [
         "163",
         "Greece",
         "Imathia",
         "1"
        ],
        [
         "399",
         "US",
         "Kentucky",
         "1"
        ],
        [
         "389",
         "Turkey",
         "Urla-Thrace",
         "1"
        ],
        [
         "150",
         "Greece",
         "Central Greece",
         "1"
        ]
       ],
       "shape": {
        "columns": 3,
        "rows": 425
       }
      },
      "text/html": [
       "<div>\n",
       "<style scoped>\n",
       "    .dataframe tbody tr th:only-of-type {\n",
       "        vertical-align: middle;\n",
       "    }\n",
       "\n",
       "    .dataframe tbody tr th {\n",
       "        vertical-align: top;\n",
       "    }\n",
       "\n",
       "    .dataframe thead th {\n",
       "        text-align: right;\n",
       "    }\n",
       "</style>\n",
       "<table border=\"1\" class=\"dataframe\">\n",
       "  <thead>\n",
       "    <tr style=\"text-align: right;\">\n",
       "      <th></th>\n",
       "      <th>country</th>\n",
       "      <th>province</th>\n",
       "      <th>len</th>\n",
       "    </tr>\n",
       "  </thead>\n",
       "  <tbody>\n",
       "    <tr>\n",
       "      <th>179</th>\n",
       "      <td>Greece</td>\n",
       "      <td>Muscat of Kefallonian</td>\n",
       "      <td>1</td>\n",
       "    </tr>\n",
       "    <tr>\n",
       "      <th>192</th>\n",
       "      <td>Greece</td>\n",
       "      <td>Sterea Ellada</td>\n",
       "      <td>1</td>\n",
       "    </tr>\n",
       "    <tr>\n",
       "      <th>...</th>\n",
       "      <td>...</td>\n",
       "      <td>...</td>\n",
       "      <td>...</td>\n",
       "    </tr>\n",
       "    <tr>\n",
       "      <th>415</th>\n",
       "      <td>US</td>\n",
       "      <td>Washington</td>\n",
       "      <td>8639</td>\n",
       "    </tr>\n",
       "    <tr>\n",
       "      <th>392</th>\n",
       "      <td>US</td>\n",
       "      <td>California</td>\n",
       "      <td>36247</td>\n",
       "    </tr>\n",
       "  </tbody>\n",
       "</table>\n",
       "<p>425 rows × 3 columns</p>\n",
       "</div>"
      ],
      "text/plain": [
       "    country               province    len\n",
       "179  Greece  Muscat of Kefallonian      1\n",
       "192  Greece          Sterea Ellada      1\n",
       "..      ...                    ...    ...\n",
       "415      US             Washington   8639\n",
       "392      US             California  36247\n",
       "\n",
       "[425 rows x 3 columns]"
      ]
     },
     "execution_count": 14,
     "metadata": {},
     "output_type": "execute_result"
    }
   ],
   "source": [
    "countries_reviewed = countries_reviewed.reset_index()\n",
    "countries_reviewed.sort_values(by='len')"
   ]
  },
  {
   "cell_type": "markdown",
   "metadata": {},
   "source": [
    "`sort_values()` defaults to an ascending sort, where the lowest values go first. However, most of the time we want a descending sort, where the higher numbers go first. That goes thusly:\n",
    "\n",
    "`sort_values()`默认为升序排序，即最小值排在前面。但大多数情况下，我们需要降序排序，即数值大的先排。具体如下"
   ]
  },
  {
   "cell_type": "code",
   "execution_count": 15,
   "metadata": {},
   "outputs": [
    {
     "data": {
      "application/vnd.microsoft.datawrangler.viewer.v0+json": {
       "columns": [
        {
         "name": "index",
         "rawType": "int64",
         "type": "integer"
        },
        {
         "name": "country",
         "rawType": "object",
         "type": "string"
        },
        {
         "name": "province",
         "rawType": "object",
         "type": "string"
        },
        {
         "name": "len",
         "rawType": "int64",
         "type": "integer"
        }
       ],
       "conversionMethod": "pd.DataFrame",
       "ref": "73629419-2dee-4b08-a2aa-039459b01f72",
       "rows": [
        [
         "392",
         "US",
         "California",
         "36247"
        ],
        [
         "415",
         "US",
         "Washington",
         "8639"
        ],
        [
         "118",
         "France",
         "Bordeaux",
         "5941"
        ],
        [
         "227",
         "Italy",
         "Tuscany",
         "5897"
        ],
        [
         "409",
         "US",
         "Oregon",
         "5373"
        ],
        [
         "119",
         "France",
         "Burgundy",
         "3980"
        ],
        [
         "375",
         "Spain",
         "Northern Spain",
         "3851"
        ],
        [
         "224",
         "Italy",
         "Piedmont",
         "3729"
        ],
        [
         "0",
         "Argentina",
         "Mendoza Province",
         "3264"
        ],
        [
         "228",
         "Italy",
         "Veneto",
         "2716"
        ],
        [
         "406",
         "US",
         "New York",
         "2688"
        ],
        [
         "116",
         "France",
         "Alsace",
         "2440"
        ],
        [
         "222",
         "Italy",
         "Northeastern Italy",
         "2138"
        ],
        [
         "123",
         "France",
         "Loire Valley",
         "1856"
        ],
        [
         "225",
         "Italy",
         "Sicily & Sardinia",
         "1797"
        ],
        [
         "120",
         "France",
         "Champagne",
         "1613"
        ],
        [
         "126",
         "France",
         "Southwest France",
         "1503"
        ],
        [
         "226",
         "Italy",
         "Southern Italy",
         "1349"
        ],
        [
         "5",
         "Australia",
         "South Australia",
         "1349"
        ],
        [
         "124",
         "France",
         "Provence",
         "1346"
        ],
        [
         "273",
         "Portugal",
         "Douro",
         "1281"
        ],
        [
         "219",
         "Italy",
         "Central Italy",
         "1233"
        ],
        [
         "371",
         "Spain",
         "Catalonia",
         "1164"
        ],
        [
         "125",
         "France",
         "Rhône Valley",
         "1081"
        ],
        [
         "117",
         "France",
         "Beaujolais",
         "1044"
        ],
        [
         "135",
         "Germany",
         "Mosel",
         "1039"
        ],
        [
         "263",
         "Portugal",
         "Alentejano",
         "937"
        ],
        [
         "65",
         "Chile",
         "Colchagua Valley",
         "830"
        ],
        [
         "250",
         "New Zealand",
         "Marlborough",
         "798"
        ],
        [
         "414",
         "US",
         "Virginia",
         "777"
        ],
        [
         "292",
         "Portugal",
         "Tejo",
         "683"
        ],
        [
         "121",
         "France",
         "France Other",
         "676"
        ],
        [
         "10",
         "Austria",
         "Burgenland",
         "672"
        ],
        [
         "77",
         "Chile",
         "Maipo Valley",
         "659"
        ],
        [
         "122",
         "France",
         "Languedoc-Roussillon",
         "613"
        ],
        [
         "57",
         "Chile",
         "Casablanca Valley",
         "601"
        ],
        [
         "285",
         "Portugal",
         "Port",
         "601"
        ],
        [
         "18",
         "Austria",
         "Niederösterreich",
         "600"
        ],
        [
         "1",
         "Argentina",
         "Other",
         "536"
        ],
        [
         "221",
         "Italy",
         "Lombardy",
         "533"
        ],
        [
         "277",
         "Portugal",
         "Lisboa",
         "506"
        ],
        [
         "372",
         "Spain",
         "Central Spain",
         "485"
        ],
        [
         "81",
         "Chile",
         "Maule Valley",
         "471"
        ],
        [
         "374",
         "Spain",
         "Levante",
         "454"
        ],
        [
         "363",
         "South Africa",
         "Stellenbosch",
         "443"
        ],
        [
         "300",
         "Portugal",
         "Vinho Verde",
         "410"
        ],
        [
         "373",
         "Spain",
         "Galicia",
         "410"
        ],
        [
         "13",
         "Austria",
         "Kamptal",
         "409"
        ],
        [
         "60",
         "Chile",
         "Central Valley",
         "356"
        ],
        [
         "26",
         "Austria",
         "Wachau",
         "353"
        ]
       ],
       "shape": {
        "columns": 3,
        "rows": 425
       }
      },
      "text/html": [
       "<div>\n",
       "<style scoped>\n",
       "    .dataframe tbody tr th:only-of-type {\n",
       "        vertical-align: middle;\n",
       "    }\n",
       "\n",
       "    .dataframe tbody tr th {\n",
       "        vertical-align: top;\n",
       "    }\n",
       "\n",
       "    .dataframe thead th {\n",
       "        text-align: right;\n",
       "    }\n",
       "</style>\n",
       "<table border=\"1\" class=\"dataframe\">\n",
       "  <thead>\n",
       "    <tr style=\"text-align: right;\">\n",
       "      <th></th>\n",
       "      <th>country</th>\n",
       "      <th>province</th>\n",
       "      <th>len</th>\n",
       "    </tr>\n",
       "  </thead>\n",
       "  <tbody>\n",
       "    <tr>\n",
       "      <th>392</th>\n",
       "      <td>US</td>\n",
       "      <td>California</td>\n",
       "      <td>36247</td>\n",
       "    </tr>\n",
       "    <tr>\n",
       "      <th>415</th>\n",
       "      <td>US</td>\n",
       "      <td>Washington</td>\n",
       "      <td>8639</td>\n",
       "    </tr>\n",
       "    <tr>\n",
       "      <th>...</th>\n",
       "      <td>...</td>\n",
       "      <td>...</td>\n",
       "      <td>...</td>\n",
       "    </tr>\n",
       "    <tr>\n",
       "      <th>63</th>\n",
       "      <td>Chile</td>\n",
       "      <td>Coelemu</td>\n",
       "      <td>1</td>\n",
       "    </tr>\n",
       "    <tr>\n",
       "      <th>149</th>\n",
       "      <td>Greece</td>\n",
       "      <td>Beotia</td>\n",
       "      <td>1</td>\n",
       "    </tr>\n",
       "  </tbody>\n",
       "</table>\n",
       "<p>425 rows × 3 columns</p>\n",
       "</div>"
      ],
      "text/plain": [
       "    country    province    len\n",
       "392      US  California  36247\n",
       "415      US  Washington   8639\n",
       "..      ...         ...    ...\n",
       "63    Chile     Coelemu      1\n",
       "149  Greece      Beotia      1\n",
       "\n",
       "[425 rows x 3 columns]"
      ]
     },
     "execution_count": 15,
     "metadata": {},
     "output_type": "execute_result"
    }
   ],
   "source": [
    "countries_reviewed.sort_values(by='len', ascending=False)"
   ]
  },
  {
   "cell_type": "markdown",
   "metadata": {},
   "source": [
    "To sort by index values, use the companion method `sort_index()`. This method has the same arguments and default order:\n",
    "\n",
    "要按索引值排序，请使用配套方法 `sort_index()`。该方法具有相同的参数和默认顺序："
   ]
  },
  {
   "cell_type": "code",
   "execution_count": 16,
   "metadata": {},
   "outputs": [
    {
     "data": {
      "application/vnd.microsoft.datawrangler.viewer.v0+json": {
       "columns": [
        {
         "name": "index",
         "rawType": "int64",
         "type": "integer"
        },
        {
         "name": "country",
         "rawType": "object",
         "type": "string"
        },
        {
         "name": "province",
         "rawType": "object",
         "type": "string"
        },
        {
         "name": "len",
         "rawType": "int64",
         "type": "integer"
        }
       ],
       "conversionMethod": "pd.DataFrame",
       "ref": "cca8bc58-32d2-43f1-9f45-ac44bf264304",
       "rows": [
        [
         "0",
         "Argentina",
         "Mendoza Province",
         "3264"
        ],
        [
         "1",
         "Argentina",
         "Other",
         "536"
        ],
        [
         "2",
         "Armenia",
         "Armenia",
         "2"
        ],
        [
         "3",
         "Australia",
         "Australia Other",
         "245"
        ],
        [
         "4",
         "Australia",
         "New South Wales",
         "85"
        ],
        [
         "5",
         "Australia",
         "South Australia",
         "1349"
        ],
        [
         "6",
         "Australia",
         "Tasmania",
         "42"
        ],
        [
         "7",
         "Australia",
         "Victoria",
         "322"
        ],
        [
         "8",
         "Australia",
         "Western Australia",
         "286"
        ],
        [
         "9",
         "Austria",
         "Austria",
         "26"
        ],
        [
         "10",
         "Austria",
         "Burgenland",
         "672"
        ],
        [
         "11",
         "Austria",
         "Carnuntum",
         "103"
        ],
        [
         "12",
         "Austria",
         "Eisenberg",
         "16"
        ],
        [
         "13",
         "Austria",
         "Kamptal",
         "409"
        ],
        [
         "14",
         "Austria",
         "Kremstal",
         "340"
        ],
        [
         "15",
         "Austria",
         "Leithaberg",
         "42"
        ],
        [
         "16",
         "Austria",
         "Mittelburgenland",
         "23"
        ],
        [
         "17",
         "Austria",
         "Neusiedlersee",
         "13"
        ],
        [
         "18",
         "Austria",
         "Niederösterreich",
         "600"
        ],
        [
         "19",
         "Austria",
         "Steiermark",
         "20"
        ],
        [
         "20",
         "Austria",
         "Südburgenland",
         "2"
        ],
        [
         "21",
         "Austria",
         "Südoststeiermark",
         "37"
        ],
        [
         "22",
         "Austria",
         "Südsteiermark",
         "109"
        ],
        [
         "23",
         "Austria",
         "Thermenregion",
         "128"
        ],
        [
         "24",
         "Austria",
         "Traisental",
         "43"
        ],
        [
         "25",
         "Austria",
         "Vienna",
         "72"
        ],
        [
         "26",
         "Austria",
         "Wachau",
         "353"
        ],
        [
         "27",
         "Austria",
         "Wagram",
         "65"
        ],
        [
         "28",
         "Austria",
         "Wagram-Donauland",
         "56"
        ],
        [
         "29",
         "Austria",
         "Weinland Österreich",
         "18"
        ],
        [
         "30",
         "Austria",
         "Weinviertel",
         "100"
        ],
        [
         "31",
         "Austria",
         "Wiener Gemischter Satz",
         "28"
        ],
        [
         "32",
         "Austria",
         "Österreichischer Perlwein",
         "4"
        ],
        [
         "33",
         "Austria",
         "Österreichischer Sekt",
         "66"
        ],
        [
         "34",
         "Bosnia and Herzegovina",
         "Mostar",
         "2"
        ],
        [
         "35",
         "Brazil",
         "Brazil",
         "7"
        ],
        [
         "36",
         "Brazil",
         "Campanha",
         "4"
        ],
        [
         "37",
         "Brazil",
         "Pinto Bandeira",
         "6"
        ],
        [
         "38",
         "Brazil",
         "Santa Catarina",
         "2"
        ],
        [
         "39",
         "Brazil",
         "Serra Gaúcha",
         "18"
        ],
        [
         "40",
         "Brazil",
         "Serra do Sudeste",
         "1"
        ],
        [
         "41",
         "Brazil",
         "Vale Trentino",
         "5"
        ],
        [
         "42",
         "Brazil",
         "Vale dos Vinhedos",
         "9"
        ],
        [
         "43",
         "Bulgaria",
         "Black Sea Coastal",
         "3"
        ],
        [
         "44",
         "Bulgaria",
         "Bulgaria",
         "9"
        ],
        [
         "45",
         "Bulgaria",
         "Danube River Plains",
         "19"
        ],
        [
         "46",
         "Bulgaria",
         "Thracian Valley",
         "110"
        ],
        [
         "47",
         "Canada",
         "British Columbia",
         "160"
        ],
        [
         "48",
         "Canada",
         "Canada Other",
         "1"
        ],
        [
         "49",
         "Canada",
         "Ontario",
         "96"
        ]
       ],
       "shape": {
        "columns": 3,
        "rows": 425
       }
      },
      "text/html": [
       "<div>\n",
       "<style scoped>\n",
       "    .dataframe tbody tr th:only-of-type {\n",
       "        vertical-align: middle;\n",
       "    }\n",
       "\n",
       "    .dataframe tbody tr th {\n",
       "        vertical-align: top;\n",
       "    }\n",
       "\n",
       "    .dataframe thead th {\n",
       "        text-align: right;\n",
       "    }\n",
       "</style>\n",
       "<table border=\"1\" class=\"dataframe\">\n",
       "  <thead>\n",
       "    <tr style=\"text-align: right;\">\n",
       "      <th></th>\n",
       "      <th>country</th>\n",
       "      <th>province</th>\n",
       "      <th>len</th>\n",
       "    </tr>\n",
       "  </thead>\n",
       "  <tbody>\n",
       "    <tr>\n",
       "      <th>0</th>\n",
       "      <td>Argentina</td>\n",
       "      <td>Mendoza Province</td>\n",
       "      <td>3264</td>\n",
       "    </tr>\n",
       "    <tr>\n",
       "      <th>1</th>\n",
       "      <td>Argentina</td>\n",
       "      <td>Other</td>\n",
       "      <td>536</td>\n",
       "    </tr>\n",
       "    <tr>\n",
       "      <th>...</th>\n",
       "      <td>...</td>\n",
       "      <td>...</td>\n",
       "      <td>...</td>\n",
       "    </tr>\n",
       "    <tr>\n",
       "      <th>423</th>\n",
       "      <td>Uruguay</td>\n",
       "      <td>San Jose</td>\n",
       "      <td>3</td>\n",
       "    </tr>\n",
       "    <tr>\n",
       "      <th>424</th>\n",
       "      <td>Uruguay</td>\n",
       "      <td>Uruguay</td>\n",
       "      <td>24</td>\n",
       "    </tr>\n",
       "  </tbody>\n",
       "</table>\n",
       "<p>425 rows × 3 columns</p>\n",
       "</div>"
      ],
      "text/plain": [
       "       country          province   len\n",
       "0    Argentina  Mendoza Province  3264\n",
       "1    Argentina             Other   536\n",
       "..         ...               ...   ...\n",
       "423    Uruguay          San Jose     3\n",
       "424    Uruguay           Uruguay    24\n",
       "\n",
       "[425 rows x 3 columns]"
      ]
     },
     "execution_count": 16,
     "metadata": {},
     "output_type": "execute_result"
    }
   ],
   "source": [
    "countries_reviewed.sort_index()"
   ]
  },
  {
   "cell_type": "markdown",
   "metadata": {},
   "source": [
    "Finally, know that you can sort by more than one column at a time:\n",
    "\n",
    "最后，要知道您可以同时按不止一列进行排序："
   ]
  },
  {
   "cell_type": "code",
   "execution_count": 17,
   "metadata": {},
   "outputs": [
    {
     "data": {
      "application/vnd.microsoft.datawrangler.viewer.v0+json": {
       "columns": [
        {
         "name": "index",
         "rawType": "int64",
         "type": "integer"
        },
        {
         "name": "country",
         "rawType": "object",
         "type": "string"
        },
        {
         "name": "province",
         "rawType": "object",
         "type": "string"
        },
        {
         "name": "len",
         "rawType": "int64",
         "type": "integer"
        }
       ],
       "conversionMethod": "pd.DataFrame",
       "ref": "b2437833-85d3-497f-bd2f-89bc05ef43d1",
       "rows": [
        [
         "1",
         "Argentina",
         "Other",
         "536"
        ],
        [
         "0",
         "Argentina",
         "Mendoza Province",
         "3264"
        ],
        [
         "2",
         "Armenia",
         "Armenia",
         "2"
        ],
        [
         "6",
         "Australia",
         "Tasmania",
         "42"
        ],
        [
         "4",
         "Australia",
         "New South Wales",
         "85"
        ],
        [
         "3",
         "Australia",
         "Australia Other",
         "245"
        ],
        [
         "8",
         "Australia",
         "Western Australia",
         "286"
        ],
        [
         "7",
         "Australia",
         "Victoria",
         "322"
        ],
        [
         "5",
         "Australia",
         "South Australia",
         "1349"
        ],
        [
         "20",
         "Austria",
         "Südburgenland",
         "2"
        ],
        [
         "32",
         "Austria",
         "Österreichischer Perlwein",
         "4"
        ],
        [
         "17",
         "Austria",
         "Neusiedlersee",
         "13"
        ],
        [
         "12",
         "Austria",
         "Eisenberg",
         "16"
        ],
        [
         "29",
         "Austria",
         "Weinland Österreich",
         "18"
        ],
        [
         "19",
         "Austria",
         "Steiermark",
         "20"
        ],
        [
         "16",
         "Austria",
         "Mittelburgenland",
         "23"
        ],
        [
         "9",
         "Austria",
         "Austria",
         "26"
        ],
        [
         "31",
         "Austria",
         "Wiener Gemischter Satz",
         "28"
        ],
        [
         "21",
         "Austria",
         "Südoststeiermark",
         "37"
        ],
        [
         "15",
         "Austria",
         "Leithaberg",
         "42"
        ],
        [
         "24",
         "Austria",
         "Traisental",
         "43"
        ],
        [
         "28",
         "Austria",
         "Wagram-Donauland",
         "56"
        ],
        [
         "27",
         "Austria",
         "Wagram",
         "65"
        ],
        [
         "33",
         "Austria",
         "Österreichischer Sekt",
         "66"
        ],
        [
         "25",
         "Austria",
         "Vienna",
         "72"
        ],
        [
         "30",
         "Austria",
         "Weinviertel",
         "100"
        ],
        [
         "11",
         "Austria",
         "Carnuntum",
         "103"
        ],
        [
         "22",
         "Austria",
         "Südsteiermark",
         "109"
        ],
        [
         "23",
         "Austria",
         "Thermenregion",
         "128"
        ],
        [
         "14",
         "Austria",
         "Kremstal",
         "340"
        ],
        [
         "26",
         "Austria",
         "Wachau",
         "353"
        ],
        [
         "13",
         "Austria",
         "Kamptal",
         "409"
        ],
        [
         "18",
         "Austria",
         "Niederösterreich",
         "600"
        ],
        [
         "10",
         "Austria",
         "Burgenland",
         "672"
        ],
        [
         "34",
         "Bosnia and Herzegovina",
         "Mostar",
         "2"
        ],
        [
         "40",
         "Brazil",
         "Serra do Sudeste",
         "1"
        ],
        [
         "38",
         "Brazil",
         "Santa Catarina",
         "2"
        ],
        [
         "36",
         "Brazil",
         "Campanha",
         "4"
        ],
        [
         "41",
         "Brazil",
         "Vale Trentino",
         "5"
        ],
        [
         "37",
         "Brazil",
         "Pinto Bandeira",
         "6"
        ],
        [
         "35",
         "Brazil",
         "Brazil",
         "7"
        ],
        [
         "42",
         "Brazil",
         "Vale dos Vinhedos",
         "9"
        ],
        [
         "39",
         "Brazil",
         "Serra Gaúcha",
         "18"
        ],
        [
         "43",
         "Bulgaria",
         "Black Sea Coastal",
         "3"
        ],
        [
         "44",
         "Bulgaria",
         "Bulgaria",
         "9"
        ],
        [
         "45",
         "Bulgaria",
         "Danube River Plains",
         "19"
        ],
        [
         "46",
         "Bulgaria",
         "Thracian Valley",
         "110"
        ],
        [
         "48",
         "Canada",
         "Canada Other",
         "1"
        ],
        [
         "49",
         "Canada",
         "Ontario",
         "96"
        ],
        [
         "47",
         "Canada",
         "British Columbia",
         "160"
        ]
       ],
       "shape": {
        "columns": 3,
        "rows": 425
       }
      },
      "text/html": [
       "<div>\n",
       "<style scoped>\n",
       "    .dataframe tbody tr th:only-of-type {\n",
       "        vertical-align: middle;\n",
       "    }\n",
       "\n",
       "    .dataframe tbody tr th {\n",
       "        vertical-align: top;\n",
       "    }\n",
       "\n",
       "    .dataframe thead th {\n",
       "        text-align: right;\n",
       "    }\n",
       "</style>\n",
       "<table border=\"1\" class=\"dataframe\">\n",
       "  <thead>\n",
       "    <tr style=\"text-align: right;\">\n",
       "      <th></th>\n",
       "      <th>country</th>\n",
       "      <th>province</th>\n",
       "      <th>len</th>\n",
       "    </tr>\n",
       "  </thead>\n",
       "  <tbody>\n",
       "    <tr>\n",
       "      <th>1</th>\n",
       "      <td>Argentina</td>\n",
       "      <td>Other</td>\n",
       "      <td>536</td>\n",
       "    </tr>\n",
       "    <tr>\n",
       "      <th>0</th>\n",
       "      <td>Argentina</td>\n",
       "      <td>Mendoza Province</td>\n",
       "      <td>3264</td>\n",
       "    </tr>\n",
       "    <tr>\n",
       "      <th>...</th>\n",
       "      <td>...</td>\n",
       "      <td>...</td>\n",
       "      <td>...</td>\n",
       "    </tr>\n",
       "    <tr>\n",
       "      <th>424</th>\n",
       "      <td>Uruguay</td>\n",
       "      <td>Uruguay</td>\n",
       "      <td>24</td>\n",
       "    </tr>\n",
       "    <tr>\n",
       "      <th>419</th>\n",
       "      <td>Uruguay</td>\n",
       "      <td>Canelones</td>\n",
       "      <td>43</td>\n",
       "    </tr>\n",
       "  </tbody>\n",
       "</table>\n",
       "<p>425 rows × 3 columns</p>\n",
       "</div>"
      ],
      "text/plain": [
       "       country          province   len\n",
       "1    Argentina             Other   536\n",
       "0    Argentina  Mendoza Province  3264\n",
       "..         ...               ...   ...\n",
       "424    Uruguay           Uruguay    24\n",
       "419    Uruguay         Canelones    43\n",
       "\n",
       "[425 rows x 3 columns]"
      ]
     },
     "execution_count": 17,
     "metadata": {},
     "output_type": "execute_result"
    }
   ],
   "source": [
    "countries_reviewed.sort_values(by=['country', 'len'])"
   ]
  },
  {
   "cell_type": "code",
   "execution_count": null,
   "metadata": {},
   "outputs": [],
   "source": []
  }
 ],
 "metadata": {
  "kernelspec": {
   "display_name": "kaggle",
   "language": "python",
   "name": "python3"
  },
  "language_info": {
   "codemirror_mode": {
    "name": "ipython",
    "version": 3
   },
   "file_extension": ".py",
   "mimetype": "text/x-python",
   "name": "python",
   "nbconvert_exporter": "python",
   "pygments_lexer": "ipython3",
   "version": "3.12.9"
  }
 },
 "nbformat": 4,
 "nbformat_minor": 2
}
