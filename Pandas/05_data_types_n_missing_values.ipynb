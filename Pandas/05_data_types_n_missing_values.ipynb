{
 "cells": [
  {
   "cell_type": "markdown",
   "metadata": {},
   "source": [
    "# Introduction\n",
    "\n",
    "In this tutorial, you'll learn how to investigate data types within a DataFrame or Series.  You'll also learn how to find and replace entries.\n",
    "\n",
    "在本教程中，您将学习如何调查 DataFrame 或 Series 中的数据类型。  您还将学习如何查找和替换条目。\n",
    "\n",
    "# Dtypes\n",
    "\n",
    "The data type for a column in a DataFrame or a Series is known as the **dtype**.\n",
    "\n",
    "数据帧或系列中列的数据类型称为 **dtype**。\n",
    "\n",
    "You can use the `dtype` property to grab the type of a specific column.  For instance, we can get the dtype of the `price` column in the `reviews` DataFrame:\n",
    "\n",
    "您可以使用 `dtype` 属性获取特定列的类型。例如，我们可以获取 `reviews` DataFrame 中 `price` 列的 dtype："
   ]
  },
  {
   "cell_type": "code",
   "execution_count": 1,
   "metadata": {},
   "outputs": [],
   "source": [
    "import pandas as pd\n",
    "reviews = pd.read_csv(\"./input/winemag-data-130k-v2.csv\", index_col=0)\n",
    "pd.set_option('display.max_rows', 5)"
   ]
  },
  {
   "cell_type": "code",
   "execution_count": 2,
   "metadata": {},
   "outputs": [
    {
     "data": {
      "text/plain": [
       "dtype('float64')"
      ]
     },
     "execution_count": 2,
     "metadata": {},
     "output_type": "execute_result"
    }
   ],
   "source": [
    "reviews.price.dtype"
   ]
  },
  {
   "cell_type": "markdown",
   "metadata": {},
   "source": [
    "Alternatively, the `dtypes` property returns the `dtype` of _every_ column in the DataFrame:\n",
    "\n",
    "或者，`dtypes`属性返回 DataFrame 中每一列的`dtype`："
   ]
  },
  {
   "cell_type": "code",
   "execution_count": 3,
   "metadata": {},
   "outputs": [
    {
     "data": {
      "text/plain": [
       "country        object\n",
       "description    object\n",
       "                ...  \n",
       "variety        object\n",
       "winery         object\n",
       "Length: 13, dtype: object"
      ]
     },
     "execution_count": 3,
     "metadata": {},
     "output_type": "execute_result"
    }
   ],
   "source": [
    "reviews.dtypes"
   ]
  },
  {
   "cell_type": "markdown",
   "metadata": {},
   "source": [
    "Data types tell us something about how pandas is storing the data internally. `float64` means that it's using a 64-bit floating point number; `int64` means a similarly sized integer instead, and so on.\n",
    "\n",
    "数据类型会告诉我们 pandas 是如何在内部存储数据的。`float64`表示使用 64 位浮点数；`int64`表示使用类似大小的整数，以此类推。\n",
    "\n",
    "One peculiarity to keep in mind (and on display very clearly here) is that columns consisting entirely of strings do not get their own type; they are instead given the `object` type.\n",
    "\n",
    "需要注意的一个特殊情况（在这里显示得很清楚）是，完全由字符串组成的列没有自己的类型，而是被赋予了 `object` 类型。\n",
    "\n",
    "It's possible to convert a column of one type into another wherever such a conversion makes sense by using the `astype()` function. For example, we may transform the `points` column from its existing `int64` data type into a `float64` data type:\n",
    "\n",
    "我们可以使用 `astype()` 函数将一种类型的列转换为另一种类型，只要这种转换是合理的。例如，我们可以将 `points` 列从现有的 `int64` 数据类型转换为 `float64` 数据类型："
   ]
  },
  {
   "cell_type": "code",
   "execution_count": 4,
   "metadata": {},
   "outputs": [
    {
     "data": {
      "text/plain": [
       "0         87.0\n",
       "1         87.0\n",
       "          ... \n",
       "129969    90.0\n",
       "129970    90.0\n",
       "Name: points, Length: 129971, dtype: float64"
      ]
     },
     "execution_count": 4,
     "metadata": {},
     "output_type": "execute_result"
    }
   ],
   "source": [
    "reviews.points.astype('float64')"
   ]
  },
  {
   "cell_type": "markdown",
   "metadata": {},
   "source": [
    "A DataFrame or Series index has its own `dtype`, too:\n",
    "\n",
    "DataFrame 或 Series 索引也有自己的 `dtype` 类型："
   ]
  },
  {
   "cell_type": "code",
   "execution_count": 5,
   "metadata": {},
   "outputs": [
    {
     "data": {
      "text/plain": [
       "dtype('int64')"
      ]
     },
     "execution_count": 5,
     "metadata": {},
     "output_type": "execute_result"
    }
   ],
   "source": [
    "reviews.index.dtype"
   ]
  },
  {
   "cell_type": "markdown",
   "metadata": {},
   "source": [
    "Pandas also supports more exotic data types, such as categorical data and timeseries data. Because these data types are more rarely used, we will omit them until a much later section of this tutorial.\n",
    "\n",
    "Pandas 还支持更奇特的数据类型，如categorical数据和timeseries数据。由于这些数据类型较少使用，我们将在本教程的稍后部分再介绍。"
   ]
  },
  {
   "cell_type": "markdown",
   "metadata": {},
   "source": [
    "# Missing data\n",
    "\n",
    "Entries missing values are given the value `NaN`, short for \"Not a Number\". For technical reasons these `NaN` values are always of the `float64` dtype.\n",
    "\n",
    "缺少数值的条目会被赋予`NaN`值，即 \"Not a Number（非数值）\"的缩写。由于技术原因，这些 `NaN` 值始终是 `float64` 类型。\n",
    "\n",
    "Pandas provides some methods specific to missing data. To select `NaN` entries you can use `pd.isnull()` (or its companion `pd.notnull()`). This is meant to be used thusly:\n",
    "\n",
    "Pandas 提供了一些专门针对缺失数据的方法。要选择`NaN`条目，可以使用 `pd.isnull()`（或其同伴 `pd.notnull()`）。可以这样使用："
   ]
  },
  {
   "cell_type": "code",
   "execution_count": 6,
   "metadata": {},
   "outputs": [
    {
     "data": {
      "application/vnd.microsoft.datawrangler.viewer.v0+json": {
       "columns": [
        {
         "name": "index",
         "rawType": "int64",
         "type": "integer"
        },
        {
         "name": "country",
         "rawType": "object",
         "type": "unknown"
        },
        {
         "name": "description",
         "rawType": "object",
         "type": "string"
        },
        {
         "name": "designation",
         "rawType": "object",
         "type": "unknown"
        },
        {
         "name": "points",
         "rawType": "int64",
         "type": "integer"
        },
        {
         "name": "price",
         "rawType": "float64",
         "type": "float"
        },
        {
         "name": "province",
         "rawType": "object",
         "type": "unknown"
        },
        {
         "name": "region_1",
         "rawType": "object",
         "type": "unknown"
        },
        {
         "name": "region_2",
         "rawType": "object",
         "type": "unknown"
        },
        {
         "name": "taster_name",
         "rawType": "object",
         "type": "string"
        },
        {
         "name": "taster_twitter_handle",
         "rawType": "object",
         "type": "string"
        },
        {
         "name": "title",
         "rawType": "object",
         "type": "string"
        },
        {
         "name": "variety",
         "rawType": "object",
         "type": "string"
        },
        {
         "name": "winery",
         "rawType": "object",
         "type": "string"
        }
       ],
       "conversionMethod": "pd.DataFrame",
       "ref": "9235d6a7-f955-4e05-a49e-27e422f08034",
       "rows": [
        [
         "913",
         null,
         "Amber in color, this wine has aromas of peach jam and orange blossom. Flavors are a mélange of mellow fruit and savory notes, in particular apricot, lemon curd, quince and bitter almond. Despite strong tannins, there are moments of brightness across the entire palate that linger into the finish.",
         "Asureti Valley",
         "87",
         "30.0",
         null,
         null,
         null,
         "Mike DeSimone",
         "@worldwineguys",
         "Gotsa Family Wines 2014 Asureti Valley Chinuri",
         "Chinuri",
         "Gotsa Family Wines"
        ],
        [
         "3131",
         null,
         "Soft, fruity and juicy, this is a pleasant, simple wine that is a blend from different European countries. It is balanced and very drinkable for parties or barbecues. Screwcap.",
         "Partager",
         "83",
         null,
         null,
         null,
         null,
         "Roger Voss",
         "@vossroger",
         "Barton & Guestier NV Partager Red",
         "Red Blend",
         "Barton & Guestier"
        ],
        [
         "4243",
         null,
         "Violet-red in color, this semisweet wine has a nose of blackberry and vanilla. It is soft on entry, with flavors of black cherry, blueberry and creme brûlée. It is smooth on the palate, while the blueberry pie finish is brightened up by a brief but not unwelcome tart note.",
         "Red Naturally Semi-Sweet",
         "88",
         "18.0",
         null,
         null,
         null,
         "Mike DeSimone",
         "@worldwineguys",
         "Kakhetia Traditional Winemaking 2012 Red Naturally Semi-Sweet Ojaleshi",
         "Ojaleshi",
         "Kakhetia Traditional Winemaking"
        ],
        [
         "9509",
         null,
         "This mouthwatering blend starts with a nose of fresh mint, pineapple and mango, followed by flavors of orange peel, peach and lemon. Fresh and fruity with a mineral backbone, the wine finishes on an earthy spin. Pair with grilled sardines or poultry dishes.",
         "Theopetra Malagouzia-Assyrtiko",
         "92",
         "28.0",
         null,
         null,
         null,
         "Susan Kostrzewa",
         "@suskostrzewa",
         "Tsililis 2015 Theopetra Malagouzia-Assyrtiko White",
         "White Blend",
         "Tsililis"
        ],
        [
         "9750",
         null,
         "This orange-style wine has a cloudy yellow-gold appearance because it spent 30 days on the skins and 100 days on the lees. It has aromas and flavors of aged apple cider and tart apple pie with an astringent finish. This style is not for everyone, but for those who appreciate orange wine made from Chardonnay, this is a solid example.",
         "Orange Nikolaevo Vineyard",
         "89",
         "28.0",
         null,
         null,
         null,
         "Jeff Jenssen",
         "@worldwineguys",
         "Ross-idi 2015 Orange Nikolaevo Vineyard Chardonnay",
         "Chardonnay",
         "Ross-idi"
        ],
        [
         "11150",
         null,
         "A blend of 85% Melnik, 10% Grenache Noir and 5% Petit Verdot, this wine has aromas of saddle leather, cassis and dark chocolate. In the mouth there are flavors of cherry, chocolate and dried blueberry. It has good balance with a soft tannic finish.",
         null,
         "89",
         "20.0",
         null,
         null,
         null,
         "Jeff Jenssen",
         "@worldwineguys",
         "Orbelus 2013 Melnik",
         "Melnik",
         "Orbelus"
        ],
        [
         "11348",
         null,
         "Light and fruity, this is a wine that has some sweetness, a gentle series of white fruits, acidity and lemon zest at the end. Screwcap.",
         "Partager",
         "82",
         null,
         null,
         null,
         null,
         "Roger Voss",
         "@vossroger",
         "Barton & Guestier NV Partager White",
         "White Blend",
         "Barton & Guestier"
        ],
        [
         "14030",
         null,
         "This Furmint, grown in marl soils, has aromas of brioche, apple tart and caramelized pear and flavors of lemon-lime juice, green apple and lime blossom before a crisp clean finish.",
         "Márga",
         "88",
         "25.0",
         null,
         null,
         null,
         "Jeff Jenssen",
         "@worldwineguys",
         "St. Donat 2013 Márga White",
         "White Blend",
         "St. Donat"
        ],
        [
         "16000",
         null,
         "Jumpy, jammy aromas of foxy black fruits are slightly volatile. This has a narrow mouthfeel that's high in acidity. Blackened berry flavors are spicy and peppery, while this Tannat is toasty on a live-wire acidic finish.",
         "Valle de los Manantiales Vineyard",
         "86",
         "40.0",
         null,
         null,
         null,
         "Michael Schachner",
         "@wineschach",
         "Familia Deicas 2015 Valle de los Manantiales Vineyard Tannat",
         "Tannat",
         "Familia Deicas"
        ],
        [
         "16749",
         null,
         "Winemaker: Bartho Eksteen. This wooded Sauvy shows incredible restraint, harmony and balance. It opens with attractive notes of ripe gooseberry, apple flesh and green melon rind. The palate offers more just-ripe tropical-fruit tones, with a pleasantly pithy texture and lime-rind flavors that hang on through the lingering finish. Enjoy now for the bright acidity, though it should mature well through 2020.",
         "Cape Winemakers Guild Vloekskoot Wooded",
         "91",
         null,
         null,
         null,
         null,
         "Lauren Buzzeo",
         "@laurbuzz",
         "Bartho Eksteen 2016 Cape Winemakers Guild Vloekskoot Wooded Sauvignon Blanc",
         "Sauvignon Blanc",
         "Bartho Eksteen"
        ],
        [
         "18075",
         null,
         "Delicate white flowers and a spin of lemon peel on the nose start this refined white. The bright fruit on the palate is tropical and exotic, but the minerality gives it lift. Fuller-bodied but poised, the wine has aging potential and a food-friendly character.",
         "Askitikos",
         "90",
         "17.0",
         null,
         null,
         null,
         "Susan Kostrzewa",
         "@suskostrzewa",
         "Tsililis 2015 Askitikos Assyrtiko",
         "Assyrtiko",
         "Tsililis"
        ],
        [
         "26485",
         null,
         "This wine has aromas of black berry, dried red raspberry and blueberry. In the mouth there are flavors of blueberry juice and black plum. The finish is slightly jammy yet persistent.",
         null,
         "87",
         "13.0",
         null,
         null,
         null,
         "Jeff Jenssen",
         "@worldwineguys",
         "Stone Castle 2013 Shiraz",
         "Shiraz",
         "Stone Castle"
        ],
        [
         "26486",
         null,
         "Aromas of green apple and white flowers prepare the palate for a wine that fills the mouth with soft fruit flavors, in particular apple, grapefruit and pineapple. The soft finish is marked by a note of Granny Smith apple.",
         null,
         "87",
         "14.0",
         null,
         null,
         null,
         "Mike DeSimone",
         "@worldwineguys",
         "Teliani Valley 2015 Tsolikouri",
         "Tsolikouri",
         "Teliani Valley"
        ],
        [
         "26489",
         null,
         "Balanced aromas of green herbs and citrus zest are fresh and vital but not aggressive. A lemony twinge of acidity lends snap to the palate, while this tastes of pithy briny tangerine and other citrus fruits. Flavors of salt, lime and grapefruit share the finish. Drink now.",
         "Aliwen Reserva",
         "87",
         "12.0",
         null,
         null,
         null,
         "Michael Schachner",
         "@wineschach",
         "Undurraga 2016 Aliwen Reserva Sauvignon Blanc",
         "Sauvignon Blanc",
         "Undurraga"
        ],
        [
         "27822",
         null,
         "This is a reasonably rich, concentrated example of Pinot Gris, but one that seems a bit repressed aromatically. It hints rather than suggests at fig, pear and melon, before ending on a weighty note.",
         null,
         "86",
         "19.0",
         null,
         null,
         null,
         "Joe Czerwinski",
         "@JoeCz",
         "Mt. Beautiful 2014 Pinot Gris",
         "Pinot Gris",
         "Mt. Beautiful"
        ],
        [
         "36112",
         null,
         "An interesting blend of indigenous Bulgarian and uncommon French varieties, this red wine is made from equal parts Melnik, Mourvèdre and Marselan. It offers aromas of red cherry, cassis and leather, while flavors suggest black cherry and tart cherry pie. It has fine tannins and a persistent finish.",
         "Hrumki Melnik 55 Mourvèdre Marselan",
         "89",
         "25.0",
         null,
         null,
         null,
         "Jeff Jenssen",
         "@worldwineguys",
         "Orbelus 2012 Hrumki Melnik 55 Mourvèdre Marselan Red",
         "Red Blend",
         "Orbelus"
        ],
        [
         "38240",
         null,
         "Subdued citrus and pear notes on the nose find fuller expression on the rounded, very textured palate that almost seems to have a pleasingly bitter edge of earth and Bosc pear peel. This is generous and medium-bodied.",
         "Steirische Klassik",
         "89",
         "24.0",
         null,
         null,
         null,
         "Anne Krebiehl MW",
         "@AnneInVino",
         "Neumeister 2015 Steirische Klassik Grauburgunder",
         "Grauburgunder",
         "Neumeister"
        ],
        [
         "38898",
         null,
         "Scents of clover, stem, green herb and red currant lead into a complex wine that adds sassafras highlights as it glides into a gentle finish. Fermented with wild yeasts and aged 18 months in one-quarter new French oak, this is a well-made, though subtle expression of the variety.",
         "Wismer-Parke Vineyard",
         "89",
         "34.0",
         null,
         null,
         null,
         "Paul Gregutt",
         "@paulgwine ",
         "Bachelder 2014 Wismer-Parke Vineyard Pinot Noir",
         "Pinot Noir",
         "Bachelder"
        ],
        [
         "44674",
         null,
         "Crisp apple freshness almost tips into full citrus zestiness on the nose of this subtle, graceful wine. Very slight spritz tickles the palate on a textured and dry palate. It's lemony, crisp and light, but full of flavor.",
         "Steirische Klassik",
         "91",
         "25.0",
         null,
         null,
         null,
         "Anne Krebiehl MW",
         "@AnneInVino",
         "Neumeister 2016 Steirische Klassik Grauburgunder",
         "Grauburgunder",
         "Neumeister"
        ],
        [
         "44850",
         null,
         "This blend of Gamay and Prokupe has aromas of tart cherry and Mediterranean herbs. Flavors recall cherry, black plum and stewed prune.",
         "Amphora",
         "84",
         "6.0",
         null,
         null,
         null,
         "Jeff Jenssen",
         "@worldwineguys",
         "Stone Castle 2014 Amphora Red",
         "Red Blend",
         "Stone Castle"
        ],
        [
         "44851",
         null,
         "This wine has aromas of honeysuckle and lemon curd, with flavors of lemon-meringue pie and lemon pith. The finish is clean and crisp.",
         "Royal",
         "84",
         "6.0",
         null,
         null,
         null,
         "Jeff Jenssen",
         "@worldwineguys",
         "Stone Castle 2015 Royal Riesling",
         "Riesling",
         "Stone Castle"
        ],
        [
         "45247",
         null,
         "Just a whiff of citrus shows on the restrained nose. The palate is very crisp, even lean, disclosing slight spritz. Some riper fruit waits at the core but you have to savor the midpalate to find it. The wine is light and very refreshing.",
         "Steirische Klassik",
         "89",
         "25.0",
         null,
         null,
         null,
         "Anne Krebiehl MW",
         "@AnneInVino",
         "Neumeister 2016 Steirische Klassik Sauvignon Blanc",
         "Sauvignon Blanc",
         "Neumeister"
        ],
        [
         "45402",
         null,
         "Basic cherry aromas turn more earthy and soupy with air. A crisp pulling palate holds flavors of tomato and spiced plum, while this is mild, with nothing much to speak of on the finish.",
         "Reserva Estate Bottled",
         "85",
         "12.0",
         null,
         null,
         null,
         "Michael Schachner",
         "@wineschach",
         "Chilcas 2015 Reserva Estate Bottled Pinot Noir",
         "Pinot Noir",
         "Chilcas"
        ],
        [
         "46352",
         null,
         "A dark color and rich, jammy, baked aromas of charred oak and lush berries are the opening to this blend of 72% Cabernet Sauvignon, 20% Carmenère and 8% Cabernet Franc. Moderately bold acidity and firm tannins lend energy and structure to the palate, while this tastes of blackberry, cassis and spicy oak. A slightly hot finish with a lot of wood spice is the closing act. Drink through 2021.",
         "Catalina",
         "91",
         "50.0",
         null,
         null,
         null,
         "Michael Schachner",
         "@wineschach",
         "Santa Ema 2014 Catalina Red",
         "Red Blend",
         "Santa Ema"
        ],
        [
         "49425",
         null,
         "This blend is comprised of 55% Merlot, 21% Cabernet Sauvignon, 18% Melnik and 6% Petit Verdot. It has aromas of powdered cocoa and black cherry and flavors of tart cherry, blackberry and blueberry. A pleasant burst of acidity shows on the finish.",
         "Getika Made With Organic Grapes",
         "88",
         "28.0",
         null,
         null,
         null,
         "Jeff Jenssen",
         "@worldwineguys",
         "Orbelus 2011 Getika Made With Organic Grapes Red",
         "Red Blend",
         "Orbelus"
        ],
        [
         "49426",
         null,
         "Enticing aromas of blueberry syrup open this blend of Merlot, Cabernet Sauvignon, Melnik, Syrah and Petit Verdot. Flavors of cherry, tart cherry pie, blueberry and red raspberry come with a burst of acidity before the persistent finish.",
         "Getika Made With Organic Grapes",
         "88",
         "28.0",
         null,
         null,
         null,
         "Jeff Jenssen",
         "@worldwineguys",
         "Orbelus 2012 Getika Made With Organic Grapes Red",
         "Red Blend",
         "Orbelus"
        ],
        [
         "49427",
         null,
         "This dark-garnet wine has aromas of eucalyptus, balsa wood and black cherry. Flavors of cassis, leather and black cherry lead to a long finish.",
         "Hrumki Syrah Melnik 55 Mourvèdre Marselan",
         "88",
         "19.0",
         null,
         null,
         null,
         "Jeff Jenssen",
         "@worldwineguys",
         "Orbelus 2013 Hrumki Syrah Melnik 55 Mourvèdre Marselan Red",
         "Red Blend",
         "Orbelus"
        ],
        [
         "49510",
         null,
         "Aromas of cherry, blueberry and rose petal prepare the taste buds for flavors of cherry pie, vanilla custard, black pepper and Turkish delight. Tannins can feel momentarily stiff, but they are soon outweighed by bold acidity that carries into bright black cherry finish.",
         null,
         "91",
         "34.0",
         null,
         null,
         null,
         "Mike DeSimone",
         "@worldwineguys",
         "Psagot 2013 Cabernet Sauvignon",
         "Cabernet Sauvignon",
         "Psagot"
        ],
        [
         "54222",
         null,
         "Almost caramel in color, this wine offers aromas of lemon zest and vanilla bean. Grippy tannins provide a firm backdrop to flavors of lemon, clementine, green apple and caramel. On its own, it may seem too chalky for some drinkers, but enjoying it alongside nuts and hard cheese will put the balance into focus.",
         "Babaneuri Valley",
         "87",
         "30.0",
         null,
         null,
         null,
         "Mike DeSimone",
         "@worldwineguys",
         "Gotsa Family Wines 2013 Babaneuri Valley Mtsvane",
         "Mtsvane",
         "Gotsa Family Wines"
        ],
        [
         "57612",
         null,
         "Winemaker: Gordon Newton Johnson. This is such a pretty and elegant Pinot, certainly not what most would expect from a \"New World\" wine region. It expresses the masterful balance that South African Pinot can achieve in the New World style of ripe red-fruit character with the Old World finesse of bright acidity and an earthy, forest-floor dominance. Pressed floral tones are partnered with notes of red cherry, cola spice and sous bois throughout. Silky and smooth, it offers soft, fine tannins that somehow still manage to provide a present structure for overall balance and harmony. Drink now–2023.",
         "Cape Winemakers Guild Windansea",
         "92",
         null,
         null,
         null,
         null,
         "Lauren Buzzeo",
         "@laurbuzz",
         "Newton Johnson 2016 Cape Winemakers Guild Windansea Pinot Noir",
         "Pinot Noir",
         "Newton Johnson"
        ],
        [
         "59670",
         null,
         "The heady florality of damask rose is joined by powerful earthy forces to acquire a rich autumnal touch of ripe fruit and fragrance. The palate is wonderfully dry, precise and fresh: There is enough acidity here to brighten every last corner of flavor. This is both ethereal and earthy, elegant but firm, fragrant and fresh—from the first whiff to the last vestige of flavor on the tongue.",
         "Steintal",
         "92",
         "38.0",
         null,
         null,
         null,
         "Anne Krebiehl MW",
         "@AnneInVino",
         "Neumeister 2015 Steintal Roter Traminer",
         "Roter Traminer",
         "Neumeister"
        ],
        [
         "60678",
         null,
         "This wine was made for grilled meats, with its tobacco and spice aromas and combination of fruit and savory flavors. The wine has an assertive character and finishes with a spin of cedar.",
         "Dry",
         "86",
         "17.0",
         null,
         null,
         null,
         "Susan Kostrzewa",
         "@suskostrzewa",
         "Ktima Voyatzi 2015 Dry Rosé",
         "Rosé",
         "Ktima Voyatzi"
        ],
        [
         "66524",
         null,
         "Amber to the eye, this wine features an enticing bouquet of almond blossom and toffee. It is slightly chalky on the palate, with a sophisticated mélange of baked apple, peach, smoked meat and pencil-lead flavors. A touch of brightness marks the soft finish.",
         "Dry Unfiltered Rkatsiteli Mtsvane",
         "88",
         "25.0",
         null,
         null,
         null,
         "Mike DeSimone",
         "@worldwineguys",
         "Gotsa Family Wines 2015 Dry Unfiltered Rkatsiteli Mtsvane White",
         "White Blend",
         "Gotsa Family Wines"
        ],
        [
         "68322",
         null,
         "This Bulgarian Chardonnay is fermented in egg-shaped concrete vessels and has aromas of anise fronds and citrus blossom. There are lively flavors of lemon zest, grapefruit pith and lemon curd in the mouth. It has nice balance and a pleasant touch of ripe yellow peach in the finish.",
         "Nikolaevo",
         "89",
         "20.0",
         null,
         null,
         null,
         "Jeff Jenssen",
         "@worldwineguys",
         "Ross-idi 2015 Nikolaevo Chardonnay",
         "Chardonnay",
         "Ross-idi"
        ],
        [
         "72581",
         null,
         "This dry Furmint from Hungary's Balaton region has aromas of lemon blossom and green apple. In the mouth, there are flavors of crisp apple cider and fresh pear.",
         "Estate",
         "89",
         "21.0",
         null,
         null,
         null,
         "Jeff Jenssen",
         "@worldwineguys",
         "St. Donat 2014 Estate Furmint",
         "Furmint",
         "St. Donat"
        ],
        [
         "79270",
         null,
         "This 100% Vranac is garnet in color, with aromas of black cherry and black plum. It conveys flavors of fresh cherry juice and freshly sliced black plum, with a touch of pleasant astringency in the finish.",
         "Premium",
         "86",
         "11.0",
         null,
         null,
         null,
         "Jeff Jenssen",
         "@worldwineguys",
         "Stone Castle 2014 Premium Vranac",
         "Vranac",
         "Stone Castle"
        ],
        [
         "79827",
         null,
         "An interesting blend of indigenous Bulgarian and uncommon French varieties, this red wine is made from equal parts Melnik, Mourvèdre and Marselan. It offers aromas of red cherry, cassis and leather, while flavors suggest black cherry and tart cherry pie. It has fine tannins and a persistent finish.",
         "Hrumki Melnik 55 Mourvèdre Marselan",
         "89",
         "25.0",
         null,
         null,
         null,
         "Jeff Jenssen",
         "@worldwineguys",
         "Orbelus 2012 Hrumki Melnik 55 Mourvèdre Marselan Red",
         "Red Blend",
         "Orbelus"
        ],
        [
         "81955",
         null,
         "This white blend is comprised of 50% Chardonnay and 50% Gewürztraminer. It has delightful aromas of white flowers, honeysuckle and lime pith and flavors of jasmine, lemongrass and dried rosemary in the mouth. The finish is clean, crisp and refreshing.",
         "Nikolaevo Unison Chardonnay-Gewürtztraminer",
         "89",
         "16.0",
         null,
         null,
         null,
         "Jeff Jenssen",
         "@worldwineguys",
         "Ross-idi 2014 Nikolaevo Unison Chardonnay-Gewürtztraminer White",
         "White Blend",
         "Ross-idi"
        ],
        [
         "81957",
         null,
         "This wine is made from grapes grown in the Lake Balaton region and has aromas of lemon blossom, vanilla and lemon curd, which lead the way to well-combined flavors of green apple, pear and pineapple. It is medium bodied on the palate with a clean finish.",
         "Márga",
         "89",
         "18.0",
         null,
         null,
         null,
         "Jeff Jenssen",
         "@worldwineguys",
         "St. Donat 2015 Márga Furmint",
         "Furmint",
         "St. Donat"
        ],
        [
         "85602",
         null,
         "There's a pleasant fruity richness to this wine, with pronounced aromas and flavors of peach, pear and guava that are hit by notes of toast and baking spice. It's generous on the palate and full in feel, with a welcome acidic lift on the close. Drink now.",
         null,
         "88",
         "36.0",
         null,
         null,
         null,
         "Lauren Buzzeo",
         "@laurbuzz",
         "Lismore 2014 Chardonnay",
         "Chardonnay",
         "Lismore"
        ],
        [
         "85603",
         null,
         "Made from 100% Melnick this garnet-colored wine has aromas of black cherry, blueberries and rolled tobacco leaf. In the mouth there are flavors of cherry, cassis and blueberry before the firm tannic finish.",
         "Nobile",
         "88",
         "23.0",
         null,
         null,
         null,
         "Jeff Jenssen",
         "@worldwineguys",
         "Logodaj 2013 Nobile Melnik",
         "Melnik",
         "Logodaj"
        ],
        [
         "85821",
         null,
         "A neutral nose leads onto an apple-fresh palate of Golden Delicious and pearmain apples. There is a creamy aspect, bathing this in a softer, friendly light. Both crisp and rounded apple fruit charms throughout on this balanced Morillon, a local term for Chardonnay.",
         "Steirische Klassik",
         "90",
         "22.0",
         null,
         null,
         null,
         "Anne Krebiehl MW",
         "@AnneInVino",
         "Neumeister 2015 Steirische Klassik Morillon",
         "Morillon",
         "Neumeister"
        ],
        [
         "90146",
         null,
         "Aromas of cut grass, lemongrass and honeysuckle pave the way for flavors of lemon curd, pineapple juice and freshly cut guava. It is balanced in the mouth with a pleasantly acidic finish.",
         "Nikolaevo Vineyard",
         "89",
         "16.0",
         null,
         null,
         null,
         "Jeff Jenssen",
         "@worldwineguys",
         "Ross-idi 2015 Nikolaevo Vineyard Gewürztraminer",
         "Gewürztraminer",
         "Ross-idi"
        ],
        [
         "90151",
         null,
         "This medium-straw-colored wine has aromas of citrus blossoms and lemon zest with just a whiff of sea mist. It opens up with flavors of peach, apricot and a touch of salt on the tip of your tongue. It's got great minerality and a crisp finish.",
         null,
         "89",
         "25.0",
         null,
         null,
         null,
         "Jeff Jenssen",
         "@worldwineguys",
         "Somlói Vándor 2015 Furmint",
         "Furmint",
         "Somlói Vándor"
        ],
        [
         "95176",
         null,
         "Aromatic hints of tomato leaf and pea shoots make for a highly appetizing nose. The concentrated body adds lovely notions of ripe mirabelle plums and combines fulsome fruit with ample zest. The midpalate maximizes these flavors and leaves you with a very refreshing finish.",
         "Klausen",
         "91",
         "38.0",
         null,
         null,
         null,
         "Anne Krebiehl MW",
         "@AnneInVino",
         "Neumeister 2015 Klausen Sauvignon Blanc",
         "Sauvignon Blanc",
         "Neumeister"
        ],
        [
         "97850",
         null,
         "Streaks of blossom, citrus and pear can be discerned on the nose. On the palate, these aromas are taken up by zesty, bright and pure citrus notes. A slight spritz adds to the notion of utter briskness. This wine is fresh, easy and clean.",
         "Gemischter Satz",
         "89",
         "17.0",
         null,
         null,
         null,
         "Anne Krebiehl MW",
         "@AnneInVino",
         "Neumeister 2016 Gemischter Satz White",
         "Austrian white blend",
         "Neumeister"
        ],
        [
         "98094",
         null,
         "This organically produced wine is comprised of 86% Melnik, 8% Grenache Noir and 6% Petit Verdot. It has aromas of blueberry, tobacco leaf and leather and flavors of chocolate powder, cassis and blackberry. There is a long finish with a pleasant burst of acidity at the end.",
         "Made With Organic Grapes",
         "89",
         "24.0",
         null,
         null,
         null,
         "Jeff Jenssen",
         "@worldwineguys",
         "Orbelus 2013 Made With Organic Grapes Melnik",
         "Melnik",
         "Orbelus"
        ],
        [
         "100570",
         null,
         "Plum, black cherry and anise lead the nose of this rich red. Flavor of vanilla, mint and cherry give it a somewhat medicinal; edge but the wine is overall balanced and offers an exotic edge.",
         "Theopetra Estate",
         "87",
         "37.0",
         null,
         null,
         null,
         "Susan Kostrzewa",
         "@suskostrzewa",
         "Tsililis 2012 Theopetra Estate Red",
         "Red Blend",
         "Tsililis"
        ],
        [
         "100722",
         null,
         "This Pinot Gris from Switzerland has aromas of white flowers, green apple and lemon pith. In the mouth, there are flavors of lemon curd and guava. It has medium body on the palate with a clean finish.",
         "Domaine de la Treille",
         "89",
         "25.0",
         null,
         null,
         null,
         "Jeff Jenssen",
         "@worldwineguys",
         "Les Frères Dutruy 2014 Domaine de la Treille Pinot Gris",
         "Pinot Gris",
         "Les Frères Dutruy"
        ],
        [
         "105167",
         null,
         "A lively whiff of white blossom, Muscat grapes and lemon enticingly streaks the nose. These flavors continue on a feather-light and dry palate where fresh acidity makes them shine even brighter. This wine is all about expressing the most delicious, dry but totally aromatic lightness. Refreshing and made for summer, it has an irresistible lemon finish.",
         "Steirische Klassik",
         "92",
         "21.0",
         null,
         null,
         null,
         "Anne Krebiehl MW",
         "@AnneInVino",
         "Neumeister 2016 Steirische Klassik Gelber Muskateller",
         "Gelber Muskateller",
         "Neumeister"
        ]
       ],
       "shape": {
        "columns": 13,
        "rows": 63
       }
      },
      "text/html": [
       "<div>\n",
       "<style scoped>\n",
       "    .dataframe tbody tr th:only-of-type {\n",
       "        vertical-align: middle;\n",
       "    }\n",
       "\n",
       "    .dataframe tbody tr th {\n",
       "        vertical-align: top;\n",
       "    }\n",
       "\n",
       "    .dataframe thead th {\n",
       "        text-align: right;\n",
       "    }\n",
       "</style>\n",
       "<table border=\"1\" class=\"dataframe\">\n",
       "  <thead>\n",
       "    <tr style=\"text-align: right;\">\n",
       "      <th></th>\n",
       "      <th>country</th>\n",
       "      <th>description</th>\n",
       "      <th>designation</th>\n",
       "      <th>points</th>\n",
       "      <th>price</th>\n",
       "      <th>province</th>\n",
       "      <th>region_1</th>\n",
       "      <th>region_2</th>\n",
       "      <th>taster_name</th>\n",
       "      <th>taster_twitter_handle</th>\n",
       "      <th>title</th>\n",
       "      <th>variety</th>\n",
       "      <th>winery</th>\n",
       "    </tr>\n",
       "  </thead>\n",
       "  <tbody>\n",
       "    <tr>\n",
       "      <th>913</th>\n",
       "      <td>NaN</td>\n",
       "      <td>Amber in color, this wine has aromas of peach ...</td>\n",
       "      <td>Asureti Valley</td>\n",
       "      <td>87</td>\n",
       "      <td>30.0</td>\n",
       "      <td>NaN</td>\n",
       "      <td>NaN</td>\n",
       "      <td>NaN</td>\n",
       "      <td>Mike DeSimone</td>\n",
       "      <td>@worldwineguys</td>\n",
       "      <td>Gotsa Family Wines 2014 Asureti Valley Chinuri</td>\n",
       "      <td>Chinuri</td>\n",
       "      <td>Gotsa Family Wines</td>\n",
       "    </tr>\n",
       "    <tr>\n",
       "      <th>3131</th>\n",
       "      <td>NaN</td>\n",
       "      <td>Soft, fruity and juicy, this is a pleasant, si...</td>\n",
       "      <td>Partager</td>\n",
       "      <td>83</td>\n",
       "      <td>NaN</td>\n",
       "      <td>NaN</td>\n",
       "      <td>NaN</td>\n",
       "      <td>NaN</td>\n",
       "      <td>Roger Voss</td>\n",
       "      <td>@vossroger</td>\n",
       "      <td>Barton &amp; Guestier NV Partager Red</td>\n",
       "      <td>Red Blend</td>\n",
       "      <td>Barton &amp; Guestier</td>\n",
       "    </tr>\n",
       "    <tr>\n",
       "      <th>...</th>\n",
       "      <td>...</td>\n",
       "      <td>...</td>\n",
       "      <td>...</td>\n",
       "      <td>...</td>\n",
       "      <td>...</td>\n",
       "      <td>...</td>\n",
       "      <td>...</td>\n",
       "      <td>...</td>\n",
       "      <td>...</td>\n",
       "      <td>...</td>\n",
       "      <td>...</td>\n",
       "      <td>...</td>\n",
       "      <td>...</td>\n",
       "    </tr>\n",
       "    <tr>\n",
       "      <th>129590</th>\n",
       "      <td>NaN</td>\n",
       "      <td>A blend of 60% Syrah, 30% Cabernet Sauvignon a...</td>\n",
       "      <td>Shah</td>\n",
       "      <td>90</td>\n",
       "      <td>30.0</td>\n",
       "      <td>NaN</td>\n",
       "      <td>NaN</td>\n",
       "      <td>NaN</td>\n",
       "      <td>Mike DeSimone</td>\n",
       "      <td>@worldwineguys</td>\n",
       "      <td>Büyülübağ 2012 Shah Red</td>\n",
       "      <td>Red Blend</td>\n",
       "      <td>Büyülübağ</td>\n",
       "    </tr>\n",
       "    <tr>\n",
       "      <th>129900</th>\n",
       "      <td>NaN</td>\n",
       "      <td>This wine offers a delightful bouquet of black...</td>\n",
       "      <td>NaN</td>\n",
       "      <td>91</td>\n",
       "      <td>32.0</td>\n",
       "      <td>NaN</td>\n",
       "      <td>NaN</td>\n",
       "      <td>NaN</td>\n",
       "      <td>Mike DeSimone</td>\n",
       "      <td>@worldwineguys</td>\n",
       "      <td>Psagot 2014 Merlot</td>\n",
       "      <td>Merlot</td>\n",
       "      <td>Psagot</td>\n",
       "    </tr>\n",
       "  </tbody>\n",
       "</table>\n",
       "<p>63 rows × 13 columns</p>\n",
       "</div>"
      ],
      "text/plain": [
       "       country                                        description  \\\n",
       "913        NaN  Amber in color, this wine has aromas of peach ...   \n",
       "3131       NaN  Soft, fruity and juicy, this is a pleasant, si...   \n",
       "...        ...                                                ...   \n",
       "129590     NaN  A blend of 60% Syrah, 30% Cabernet Sauvignon a...   \n",
       "129900     NaN  This wine offers a delightful bouquet of black...   \n",
       "\n",
       "           designation  points  price province region_1 region_2  \\\n",
       "913     Asureti Valley      87   30.0      NaN      NaN      NaN   \n",
       "3131          Partager      83    NaN      NaN      NaN      NaN   \n",
       "...                ...     ...    ...      ...      ...      ...   \n",
       "129590            Shah      90   30.0      NaN      NaN      NaN   \n",
       "129900             NaN      91   32.0      NaN      NaN      NaN   \n",
       "\n",
       "          taster_name taster_twitter_handle  \\\n",
       "913     Mike DeSimone        @worldwineguys   \n",
       "3131       Roger Voss            @vossroger   \n",
       "...               ...                   ...   \n",
       "129590  Mike DeSimone        @worldwineguys   \n",
       "129900  Mike DeSimone        @worldwineguys   \n",
       "\n",
       "                                                 title    variety  \\\n",
       "913     Gotsa Family Wines 2014 Asureti Valley Chinuri    Chinuri   \n",
       "3131                 Barton & Guestier NV Partager Red  Red Blend   \n",
       "...                                                ...        ...   \n",
       "129590                         Büyülübağ 2012 Shah Red  Red Blend   \n",
       "129900                              Psagot 2014 Merlot     Merlot   \n",
       "\n",
       "                    winery  \n",
       "913     Gotsa Family Wines  \n",
       "3131     Barton & Guestier  \n",
       "...                    ...  \n",
       "129590           Büyülübağ  \n",
       "129900              Psagot  \n",
       "\n",
       "[63 rows x 13 columns]"
      ]
     },
     "execution_count": 6,
     "metadata": {},
     "output_type": "execute_result"
    }
   ],
   "source": [
    "reviews[pd.isnull(reviews.country)]"
   ]
  },
  {
   "cell_type": "markdown",
   "metadata": {},
   "source": [
    "Replacing missing values is a common operation.  Pandas provides a really handy method for this problem: `fillna()`. `fillna()` provides a few different strategies for mitigating such data. For example, we can simply replace each `NaN` with an `\"Unknown\"`:\n",
    "\n",
    "替换缺失值是一种常见的操作。Pandas 提供了一个非常方便的方法来解决这个问题：`fillna()`。`fillna()` 提供了几种不同的策略来减少此类数据。例如，我们可以简单地将每个 `NaN` 替换为 `\"Unknown\"`："
   ]
  },
  {
   "cell_type": "code",
   "execution_count": 7,
   "metadata": {},
   "outputs": [
    {
     "data": {
      "text/plain": [
       "0         Unknown\n",
       "1         Unknown\n",
       "           ...   \n",
       "129969    Unknown\n",
       "129970    Unknown\n",
       "Name: region_2, Length: 129971, dtype: object"
      ]
     },
     "execution_count": 7,
     "metadata": {},
     "output_type": "execute_result"
    }
   ],
   "source": [
    "reviews.region_2.fillna(\"Unknown\")"
   ]
  },
  {
   "cell_type": "markdown",
   "metadata": {},
   "source": [
    "Or we could fill each missing value with the first non-null value that appears sometime after the given record in the database. This is known as the backfill strategy.\n",
    "\n",
    "或者，我们可以用数据库中给定记录之后出现的第一个非空值来填补每个缺失值。这就是所谓的回填策略。"
   ]
  },
  {
   "cell_type": "markdown",
   "metadata": {},
   "source": [
    "Alternatively, we may have a non-null value that we would like to replace. For example, suppose that since this dataset was published, reviewer Kerin O'Keefe has changed her Twitter handle from `@kerinokeefe` to `@kerino`. One way to reflect this in the dataset is using the `replace()` method:\n",
    "\n",
    "或者，我们可能有一个非空值需要替换。例如，假设自本数据集发布以来，审稿人 Kerin O'Keefe 已将其 Twitter 手柄从 `@kerinokeefe` 更改为 `@kerino`。使用 `replace()` 方法是在数据集中反映这一变化的方法之一："
   ]
  },
  {
   "cell_type": "code",
   "execution_count": 8,
   "metadata": {},
   "outputs": [
    {
     "data": {
      "text/plain": [
       "0            @kerino\n",
       "1         @vossroger\n",
       "             ...    \n",
       "129969    @vossroger\n",
       "129970    @vossroger\n",
       "Name: taster_twitter_handle, Length: 129971, dtype: object"
      ]
     },
     "execution_count": 8,
     "metadata": {},
     "output_type": "execute_result"
    }
   ],
   "source": [
    "reviews.taster_twitter_handle.replace(\"@kerinokeefe\", \"@kerino\")"
   ]
  },
  {
   "cell_type": "markdown",
   "metadata": {},
   "source": [
    "The `replace()` method is worth mentioning here because it's handy for replacing missing data which is given some kind of sentinel value in the dataset: things like `\"Unknown\"`, `\"Undisclosed\"`, `\"Invalid\"`, and so on.\n",
    "\n",
    "这里值得一提的是 `replace()` 方法，因为它可以方便地替换缺失数据，这些缺失数据在数据集中被赋予了某种前哨值：如 `\"Unknown\"`、`\"Undisclosed\"`、`\"Invalid\"`等。"
   ]
  }
 ],
 "metadata": {
  "kernelspec": {
   "display_name": "kaggle",
   "language": "python",
   "name": "python3"
  },
  "language_info": {
   "codemirror_mode": {
    "name": "ipython",
    "version": 3
   },
   "file_extension": ".py",
   "mimetype": "text/x-python",
   "name": "python",
   "nbconvert_exporter": "python",
   "pygments_lexer": "ipython3",
   "version": "3.12.9"
  }
 },
 "nbformat": 4,
 "nbformat_minor": 2
}
