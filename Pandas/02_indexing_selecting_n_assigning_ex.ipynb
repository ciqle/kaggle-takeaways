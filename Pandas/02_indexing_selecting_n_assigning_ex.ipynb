{
 "cells": [
  {
   "cell_type": "markdown",
   "metadata": {},
   "source": [
    "# Introduction\n",
    "\n",
    "In this set of exercises we will work with the [Wine Reviews dataset](https://www.kaggle.com/zynicide/wine-reviews). "
   ]
  },
  {
   "cell_type": "code",
   "execution_count": 1,
   "metadata": {},
   "outputs": [],
   "source": [
    "import pandas as pd\n",
    "\n",
    "reviews = pd.read_csv(\"./input/winemag-data-130k-v2.csv\", index_col=0)\n",
    "pd.set_option(\"display.max_rows\", 5)"
   ]
  },
  {
   "cell_type": "markdown",
   "metadata": {},
   "source": [
    "Look at an overview of your data by running the following line."
   ]
  },
  {
   "cell_type": "code",
   "execution_count": 2,
   "metadata": {},
   "outputs": [
    {
     "data": {
      "application/vnd.microsoft.datawrangler.viewer.v0+json": {
       "columns": [
        {
         "name": "index",
         "rawType": "int64",
         "type": "integer"
        },
        {
         "name": "country",
         "rawType": "object",
         "type": "string"
        },
        {
         "name": "description",
         "rawType": "object",
         "type": "string"
        },
        {
         "name": "designation",
         "rawType": "object",
         "type": "unknown"
        },
        {
         "name": "points",
         "rawType": "int64",
         "type": "integer"
        },
        {
         "name": "price",
         "rawType": "float64",
         "type": "float"
        },
        {
         "name": "province",
         "rawType": "object",
         "type": "string"
        },
        {
         "name": "region_1",
         "rawType": "object",
         "type": "unknown"
        },
        {
         "name": "region_2",
         "rawType": "object",
         "type": "unknown"
        },
        {
         "name": "taster_name",
         "rawType": "object",
         "type": "string"
        },
        {
         "name": "taster_twitter_handle",
         "rawType": "object",
         "type": "unknown"
        },
        {
         "name": "title",
         "rawType": "object",
         "type": "string"
        },
        {
         "name": "variety",
         "rawType": "object",
         "type": "string"
        },
        {
         "name": "winery",
         "rawType": "object",
         "type": "string"
        }
       ],
       "conversionMethod": "pd.DataFrame",
       "ref": "f29eca6e-4bba-4cdc-83d8-0d677cf7f844",
       "rows": [
        [
         "0",
         "Italy",
         "Aromas include tropical fruit, broom, brimstone and dried herb. The palate isn't overly expressive, offering unripened apple, citrus and dried sage alongside brisk acidity.",
         "Vulkà Bianco",
         "87",
         null,
         "Sicily & Sardinia",
         "Etna",
         null,
         "Kerin O’Keefe",
         "@kerinokeefe",
         "Nicosia 2013 Vulkà Bianco  (Etna)",
         "White Blend",
         "Nicosia"
        ],
        [
         "1",
         "Portugal",
         "This is ripe and fruity, a wine that is smooth while still structured. Firm tannins are filled out with juicy red berry fruits and freshened with acidity. It's  already drinkable, although it will certainly be better from 2016.",
         "Avidagos",
         "87",
         "15.0",
         "Douro",
         null,
         null,
         "Roger Voss",
         "@vossroger",
         "Quinta dos Avidagos 2011 Avidagos Red (Douro)",
         "Portuguese Red",
         "Quinta dos Avidagos"
        ],
        [
         "2",
         "US",
         "Tart and snappy, the flavors of lime flesh and rind dominate. Some green pineapple pokes through, with crisp acidity underscoring the flavors. The wine was all stainless-steel fermented.",
         null,
         "87",
         "14.0",
         "Oregon",
         "Willamette Valley",
         "Willamette Valley",
         "Paul Gregutt",
         "@paulgwine ",
         "Rainstorm 2013 Pinot Gris (Willamette Valley)",
         "Pinot Gris",
         "Rainstorm"
        ],
        [
         "3",
         "US",
         "Pineapple rind, lemon pith and orange blossom start off the aromas. The palate is a bit more opulent, with notes of honey-drizzled guava and mango giving way to a slightly astringent, semidry finish.",
         "Reserve Late Harvest",
         "87",
         "13.0",
         "Michigan",
         "Lake Michigan Shore",
         null,
         "Alexander Peartree",
         null,
         "St. Julian 2013 Reserve Late Harvest Riesling (Lake Michigan Shore)",
         "Riesling",
         "St. Julian"
        ],
        [
         "4",
         "US",
         "Much like the regular bottling from 2012, this comes across as rather rough and tannic, with rustic, earthy, herbal characteristics. Nonetheless, if you think of it as a pleasantly unfussy country wine, it's a good companion to a hearty winter stew.",
         "Vintner's Reserve Wild Child Block",
         "87",
         "65.0",
         "Oregon",
         "Willamette Valley",
         "Willamette Valley",
         "Paul Gregutt",
         "@paulgwine ",
         "Sweet Cheeks 2012 Vintner's Reserve Wild Child Block Pinot Noir (Willamette Valley)",
         "Pinot Noir",
         "Sweet Cheeks"
        ]
       ],
       "shape": {
        "columns": 13,
        "rows": 5
       }
      },
      "text/html": [
       "<div>\n",
       "<style scoped>\n",
       "    .dataframe tbody tr th:only-of-type {\n",
       "        vertical-align: middle;\n",
       "    }\n",
       "\n",
       "    .dataframe tbody tr th {\n",
       "        vertical-align: top;\n",
       "    }\n",
       "\n",
       "    .dataframe thead th {\n",
       "        text-align: right;\n",
       "    }\n",
       "</style>\n",
       "<table border=\"1\" class=\"dataframe\">\n",
       "  <thead>\n",
       "    <tr style=\"text-align: right;\">\n",
       "      <th></th>\n",
       "      <th>country</th>\n",
       "      <th>description</th>\n",
       "      <th>designation</th>\n",
       "      <th>points</th>\n",
       "      <th>price</th>\n",
       "      <th>province</th>\n",
       "      <th>region_1</th>\n",
       "      <th>region_2</th>\n",
       "      <th>taster_name</th>\n",
       "      <th>taster_twitter_handle</th>\n",
       "      <th>title</th>\n",
       "      <th>variety</th>\n",
       "      <th>winery</th>\n",
       "    </tr>\n",
       "  </thead>\n",
       "  <tbody>\n",
       "    <tr>\n",
       "      <th>0</th>\n",
       "      <td>Italy</td>\n",
       "      <td>Aromas include tropical fruit, broom, brimston...</td>\n",
       "      <td>Vulkà Bianco</td>\n",
       "      <td>87</td>\n",
       "      <td>NaN</td>\n",
       "      <td>Sicily &amp; Sardinia</td>\n",
       "      <td>Etna</td>\n",
       "      <td>NaN</td>\n",
       "      <td>Kerin O’Keefe</td>\n",
       "      <td>@kerinokeefe</td>\n",
       "      <td>Nicosia 2013 Vulkà Bianco  (Etna)</td>\n",
       "      <td>White Blend</td>\n",
       "      <td>Nicosia</td>\n",
       "    </tr>\n",
       "    <tr>\n",
       "      <th>1</th>\n",
       "      <td>Portugal</td>\n",
       "      <td>This is ripe and fruity, a wine that is smooth...</td>\n",
       "      <td>Avidagos</td>\n",
       "      <td>87</td>\n",
       "      <td>15.0</td>\n",
       "      <td>Douro</td>\n",
       "      <td>NaN</td>\n",
       "      <td>NaN</td>\n",
       "      <td>Roger Voss</td>\n",
       "      <td>@vossroger</td>\n",
       "      <td>Quinta dos Avidagos 2011 Avidagos Red (Douro)</td>\n",
       "      <td>Portuguese Red</td>\n",
       "      <td>Quinta dos Avidagos</td>\n",
       "    </tr>\n",
       "    <tr>\n",
       "      <th>2</th>\n",
       "      <td>US</td>\n",
       "      <td>Tart and snappy, the flavors of lime flesh and...</td>\n",
       "      <td>NaN</td>\n",
       "      <td>87</td>\n",
       "      <td>14.0</td>\n",
       "      <td>Oregon</td>\n",
       "      <td>Willamette Valley</td>\n",
       "      <td>Willamette Valley</td>\n",
       "      <td>Paul Gregutt</td>\n",
       "      <td>@paulgwine</td>\n",
       "      <td>Rainstorm 2013 Pinot Gris (Willamette Valley)</td>\n",
       "      <td>Pinot Gris</td>\n",
       "      <td>Rainstorm</td>\n",
       "    </tr>\n",
       "    <tr>\n",
       "      <th>3</th>\n",
       "      <td>US</td>\n",
       "      <td>Pineapple rind, lemon pith and orange blossom ...</td>\n",
       "      <td>Reserve Late Harvest</td>\n",
       "      <td>87</td>\n",
       "      <td>13.0</td>\n",
       "      <td>Michigan</td>\n",
       "      <td>Lake Michigan Shore</td>\n",
       "      <td>NaN</td>\n",
       "      <td>Alexander Peartree</td>\n",
       "      <td>NaN</td>\n",
       "      <td>St. Julian 2013 Reserve Late Harvest Riesling ...</td>\n",
       "      <td>Riesling</td>\n",
       "      <td>St. Julian</td>\n",
       "    </tr>\n",
       "    <tr>\n",
       "      <th>4</th>\n",
       "      <td>US</td>\n",
       "      <td>Much like the regular bottling from 2012, this...</td>\n",
       "      <td>Vintner's Reserve Wild Child Block</td>\n",
       "      <td>87</td>\n",
       "      <td>65.0</td>\n",
       "      <td>Oregon</td>\n",
       "      <td>Willamette Valley</td>\n",
       "      <td>Willamette Valley</td>\n",
       "      <td>Paul Gregutt</td>\n",
       "      <td>@paulgwine</td>\n",
       "      <td>Sweet Cheeks 2012 Vintner's Reserve Wild Child...</td>\n",
       "      <td>Pinot Noir</td>\n",
       "      <td>Sweet Cheeks</td>\n",
       "    </tr>\n",
       "  </tbody>\n",
       "</table>\n",
       "</div>"
      ],
      "text/plain": [
       "    country                                        description  \\\n",
       "0     Italy  Aromas include tropical fruit, broom, brimston...   \n",
       "1  Portugal  This is ripe and fruity, a wine that is smooth...   \n",
       "2        US  Tart and snappy, the flavors of lime flesh and...   \n",
       "3        US  Pineapple rind, lemon pith and orange blossom ...   \n",
       "4        US  Much like the regular bottling from 2012, this...   \n",
       "\n",
       "                          designation  points  price           province  \\\n",
       "0                        Vulkà Bianco      87    NaN  Sicily & Sardinia   \n",
       "1                            Avidagos      87   15.0              Douro   \n",
       "2                                 NaN      87   14.0             Oregon   \n",
       "3                Reserve Late Harvest      87   13.0           Michigan   \n",
       "4  Vintner's Reserve Wild Child Block      87   65.0             Oregon   \n",
       "\n",
       "              region_1           region_2         taster_name  \\\n",
       "0                 Etna                NaN       Kerin O’Keefe   \n",
       "1                  NaN                NaN          Roger Voss   \n",
       "2    Willamette Valley  Willamette Valley        Paul Gregutt   \n",
       "3  Lake Michigan Shore                NaN  Alexander Peartree   \n",
       "4    Willamette Valley  Willamette Valley        Paul Gregutt   \n",
       "\n",
       "  taster_twitter_handle                                              title  \\\n",
       "0          @kerinokeefe                  Nicosia 2013 Vulkà Bianco  (Etna)   \n",
       "1            @vossroger      Quinta dos Avidagos 2011 Avidagos Red (Douro)   \n",
       "2           @paulgwine       Rainstorm 2013 Pinot Gris (Willamette Valley)   \n",
       "3                   NaN  St. Julian 2013 Reserve Late Harvest Riesling ...   \n",
       "4           @paulgwine   Sweet Cheeks 2012 Vintner's Reserve Wild Child...   \n",
       "\n",
       "          variety               winery  \n",
       "0     White Blend              Nicosia  \n",
       "1  Portuguese Red  Quinta dos Avidagos  \n",
       "2      Pinot Gris            Rainstorm  \n",
       "3        Riesling           St. Julian  \n",
       "4      Pinot Noir         Sweet Cheeks  "
      ]
     },
     "execution_count": 2,
     "metadata": {},
     "output_type": "execute_result"
    }
   ],
   "source": [
    "reviews.head()"
   ]
  },
  {
   "cell_type": "markdown",
   "metadata": {},
   "source": [
    "# Exercises\n",
    "\n",
    "## 1.\n",
    "\n",
    "Select the `description` column from `reviews` and assign the result to the variable `desc`."
   ]
  },
  {
   "cell_type": "code",
   "execution_count": 3,
   "metadata": {},
   "outputs": [
    {
     "data": {
      "text/plain": [
       "0         Aromas include tropical fruit, broom, brimston...\n",
       "1         This is ripe and fruity, a wine that is smooth...\n",
       "                                ...                        \n",
       "129969    A dry style of Pinot Gris, this is crisp with ...\n",
       "129970    Big, rich and off-dry, this is powered by inte...\n",
       "Name: description, Length: 129971, dtype: object"
      ]
     },
     "execution_count": 3,
     "metadata": {},
     "output_type": "execute_result"
    }
   ],
   "source": [
    "desc = reviews[\"description\"]\n",
    "\n",
    "desc"
   ]
  },
  {
   "cell_type": "markdown",
   "metadata": {},
   "source": [
    "Follow-up question: what type of object is `desc`? If you're not sure, you can check by calling Python's `type` function: `type(desc)`.\n",
    "\n",
    "后续问题：`desc` 是什么类型的对象？如果您不确定，可以调用 Python 的 `type` 函数来检查：`type(desc)`。"
   ]
  },
  {
   "cell_type": "code",
   "execution_count": 4,
   "metadata": {},
   "outputs": [
    {
     "data": {
      "text/plain": [
       "pandas.core.series.Series"
      ]
     },
     "execution_count": 4,
     "metadata": {},
     "output_type": "execute_result"
    }
   ],
   "source": [
    "type(desc)"
   ]
  },
  {
   "cell_type": "markdown",
   "metadata": {},
   "source": [
    "## 2.\n",
    "\n",
    "Select the first value from the description column of `reviews`, assigning it to variable `first_description`."
   ]
  },
  {
   "cell_type": "code",
   "execution_count": 5,
   "metadata": {},
   "outputs": [
    {
     "data": {
      "text/plain": [
       "\"Aromas include tropical fruit, broom, brimstone and dried herb. The palate isn't overly expressive, offering unripened apple, citrus and dried sage alongside brisk acidity.\""
      ]
     },
     "execution_count": 5,
     "metadata": {},
     "output_type": "execute_result"
    }
   ],
   "source": [
    "first_description = reviews.loc[0, \"description\"]\n",
    "first_description"
   ]
  },
  {
   "cell_type": "markdown",
   "metadata": {},
   "source": [
    "or"
   ]
  },
  {
   "cell_type": "code",
   "execution_count": 6,
   "metadata": {},
   "outputs": [
    {
     "data": {
      "text/plain": [
       "\"Aromas include tropical fruit, broom, brimstone and dried herb. The palate isn't overly expressive, offering unripened apple, citrus and dried sage alongside brisk acidity.\""
      ]
     },
     "execution_count": 6,
     "metadata": {},
     "output_type": "execute_result"
    }
   ],
   "source": [
    "first_description = reviews[\"description\"][0]\n",
    "first_description"
   ]
  },
  {
   "cell_type": "markdown",
   "metadata": {},
   "source": [
    "## 3. \n",
    "\n",
    "Select the first row of data (the first record) from `reviews`, assigning it to the variable `first_row`."
   ]
  },
  {
   "cell_type": "code",
   "execution_count": 7,
   "metadata": {},
   "outputs": [
    {
     "data": {
      "text/plain": [
       "country                                                    Italy\n",
       "description    Aromas include tropical fruit, broom, brimston...\n",
       "                                     ...                        \n",
       "variety                                              White Blend\n",
       "winery                                                   Nicosia\n",
       "Name: 0, Length: 13, dtype: object"
      ]
     },
     "execution_count": 7,
     "metadata": {},
     "output_type": "execute_result"
    }
   ],
   "source": [
    "first_row = reviews.iloc[0, :]\n",
    "# or\n",
    "# first_row = reviews.iloc[0]\n",
    "\n",
    "first_row"
   ]
  },
  {
   "cell_type": "markdown",
   "metadata": {},
   "source": [
    "## 4.\n",
    "\n",
    "Select the first 10 values from the `description` column in `reviews`, assigning the result to variable `first_descriptions`.\n",
    "\n",
    "Hint: format your output as a pandas Series."
   ]
  },
  {
   "cell_type": "code",
   "execution_count": 8,
   "metadata": {},
   "outputs": [
    {
     "data": {
      "text/plain": [
       "0    Aromas include tropical fruit, broom, brimston...\n",
       "1    This is ripe and fruity, a wine that is smooth...\n",
       "                           ...                        \n",
       "8    Savory dried thyme notes accent sunnier flavor...\n",
       "9    This has great depth of flavor with its fresh ...\n",
       "Name: description, Length: 10, dtype: object"
      ]
     },
     "execution_count": 8,
     "metadata": {},
     "output_type": "execute_result"
    }
   ],
   "source": [
    "first_descriptions = reviews.loc[0:9, \"description\"]\n",
    "first_descriptions"
   ]
  },
  {
   "cell_type": "code",
   "execution_count": 9,
   "metadata": {},
   "outputs": [
    {
     "data": {
      "text/plain": [
       "0    Aromas include tropical fruit, broom, brimston...\n",
       "1    This is ripe and fruity, a wine that is smooth...\n",
       "                           ...                        \n",
       "8    Savory dried thyme notes accent sunnier flavor...\n",
       "9    This has great depth of flavor with its fresh ...\n",
       "Name: description, Length: 10, dtype: object"
      ]
     },
     "execution_count": 9,
     "metadata": {},
     "output_type": "execute_result"
    }
   ],
   "source": [
    "first_descriptions = reviews.description.iloc[:10]\n",
    "first_descriptions"
   ]
  },
  {
   "cell_type": "code",
   "execution_count": 10,
   "metadata": {},
   "outputs": [
    {
     "data": {
      "text/plain": [
       "pandas.core.series.Series"
      ]
     },
     "execution_count": 10,
     "metadata": {},
     "output_type": "execute_result"
    }
   ],
   "source": [
    "type(first_descriptions)"
   ]
  },
  {
   "cell_type": "markdown",
   "metadata": {},
   "source": [
    "## 5.\n",
    "\n",
    "Select the records with index labels `1`, `2`, `3`, `5`, and `8`, assigning the result to the variable `sample_reviews`.\n",
    "\n",
    "In other words, generate the following DataFrame:\n",
    "\n",
    "![](https://storage.googleapis.com/kaggle-media/learn/images/sHZvI1O.png)"
   ]
  },
  {
   "cell_type": "code",
   "execution_count": 11,
   "metadata": {},
   "outputs": [
    {
     "data": {
      "application/vnd.microsoft.datawrangler.viewer.v0+json": {
       "columns": [
        {
         "name": "index",
         "rawType": "int64",
         "type": "integer"
        },
        {
         "name": "country",
         "rawType": "object",
         "type": "string"
        },
        {
         "name": "description",
         "rawType": "object",
         "type": "string"
        },
        {
         "name": "designation",
         "rawType": "object",
         "type": "unknown"
        },
        {
         "name": "points",
         "rawType": "int64",
         "type": "integer"
        },
        {
         "name": "price",
         "rawType": "float64",
         "type": "float"
        },
        {
         "name": "province",
         "rawType": "object",
         "type": "string"
        },
        {
         "name": "region_1",
         "rawType": "object",
         "type": "unknown"
        },
        {
         "name": "region_2",
         "rawType": "object",
         "type": "unknown"
        },
        {
         "name": "taster_name",
         "rawType": "object",
         "type": "string"
        },
        {
         "name": "taster_twitter_handle",
         "rawType": "object",
         "type": "unknown"
        },
        {
         "name": "title",
         "rawType": "object",
         "type": "string"
        },
        {
         "name": "variety",
         "rawType": "object",
         "type": "string"
        },
        {
         "name": "winery",
         "rawType": "object",
         "type": "string"
        }
       ],
       "conversionMethod": "pd.DataFrame",
       "ref": "e525d6e7-eaf6-48e7-bf3b-a207783b6520",
       "rows": [
        [
         "1",
         "Portugal",
         "This is ripe and fruity, a wine that is smooth while still structured. Firm tannins are filled out with juicy red berry fruits and freshened with acidity. It's  already drinkable, although it will certainly be better from 2016.",
         "Avidagos",
         "87",
         "15.0",
         "Douro",
         null,
         null,
         "Roger Voss",
         "@vossroger",
         "Quinta dos Avidagos 2011 Avidagos Red (Douro)",
         "Portuguese Red",
         "Quinta dos Avidagos"
        ],
        [
         "2",
         "US",
         "Tart and snappy, the flavors of lime flesh and rind dominate. Some green pineapple pokes through, with crisp acidity underscoring the flavors. The wine was all stainless-steel fermented.",
         null,
         "87",
         "14.0",
         "Oregon",
         "Willamette Valley",
         "Willamette Valley",
         "Paul Gregutt",
         "@paulgwine ",
         "Rainstorm 2013 Pinot Gris (Willamette Valley)",
         "Pinot Gris",
         "Rainstorm"
        ],
        [
         "3",
         "US",
         "Pineapple rind, lemon pith and orange blossom start off the aromas. The palate is a bit more opulent, with notes of honey-drizzled guava and mango giving way to a slightly astringent, semidry finish.",
         "Reserve Late Harvest",
         "87",
         "13.0",
         "Michigan",
         "Lake Michigan Shore",
         null,
         "Alexander Peartree",
         null,
         "St. Julian 2013 Reserve Late Harvest Riesling (Lake Michigan Shore)",
         "Riesling",
         "St. Julian"
        ],
        [
         "5",
         "Spain",
         "Blackberry and raspberry aromas show a typical Navarran whiff of green herbs and, in this case, horseradish. In the mouth, this is fairly full bodied, with tomatoey acidity. Spicy, herbal flavors complement dark plum fruit, while the finish is fresh but grabby.",
         "Ars In Vitro",
         "87",
         "15.0",
         "Northern Spain",
         "Navarra",
         null,
         "Michael Schachner",
         "@wineschach",
         "Tandem 2011 Ars In Vitro Tempranillo-Merlot (Navarra)",
         "Tempranillo-Merlot",
         "Tandem"
        ],
        [
         "8",
         "Germany",
         "Savory dried thyme notes accent sunnier flavors of preserved peach in this brisk, off-dry wine. It's fruity and fresh, with an elegant, sprightly footprint.",
         "Shine",
         "87",
         "12.0",
         "Rheinhessen",
         null,
         null,
         "Anna Lee C. Iijima",
         null,
         "Heinz Eifel 2013 Shine Gewürztraminer (Rheinhessen)",
         "Gewürztraminer",
         "Heinz Eifel"
        ]
       ],
       "shape": {
        "columns": 13,
        "rows": 5
       }
      },
      "text/html": [
       "<div>\n",
       "<style scoped>\n",
       "    .dataframe tbody tr th:only-of-type {\n",
       "        vertical-align: middle;\n",
       "    }\n",
       "\n",
       "    .dataframe tbody tr th {\n",
       "        vertical-align: top;\n",
       "    }\n",
       "\n",
       "    .dataframe thead th {\n",
       "        text-align: right;\n",
       "    }\n",
       "</style>\n",
       "<table border=\"1\" class=\"dataframe\">\n",
       "  <thead>\n",
       "    <tr style=\"text-align: right;\">\n",
       "      <th></th>\n",
       "      <th>country</th>\n",
       "      <th>description</th>\n",
       "      <th>designation</th>\n",
       "      <th>points</th>\n",
       "      <th>price</th>\n",
       "      <th>province</th>\n",
       "      <th>region_1</th>\n",
       "      <th>region_2</th>\n",
       "      <th>taster_name</th>\n",
       "      <th>taster_twitter_handle</th>\n",
       "      <th>title</th>\n",
       "      <th>variety</th>\n",
       "      <th>winery</th>\n",
       "    </tr>\n",
       "  </thead>\n",
       "  <tbody>\n",
       "    <tr>\n",
       "      <th>1</th>\n",
       "      <td>Portugal</td>\n",
       "      <td>This is ripe and fruity, a wine that is smooth...</td>\n",
       "      <td>Avidagos</td>\n",
       "      <td>87</td>\n",
       "      <td>15.0</td>\n",
       "      <td>Douro</td>\n",
       "      <td>NaN</td>\n",
       "      <td>NaN</td>\n",
       "      <td>Roger Voss</td>\n",
       "      <td>@vossroger</td>\n",
       "      <td>Quinta dos Avidagos 2011 Avidagos Red (Douro)</td>\n",
       "      <td>Portuguese Red</td>\n",
       "      <td>Quinta dos Avidagos</td>\n",
       "    </tr>\n",
       "    <tr>\n",
       "      <th>2</th>\n",
       "      <td>US</td>\n",
       "      <td>Tart and snappy, the flavors of lime flesh and...</td>\n",
       "      <td>NaN</td>\n",
       "      <td>87</td>\n",
       "      <td>14.0</td>\n",
       "      <td>Oregon</td>\n",
       "      <td>Willamette Valley</td>\n",
       "      <td>Willamette Valley</td>\n",
       "      <td>Paul Gregutt</td>\n",
       "      <td>@paulgwine</td>\n",
       "      <td>Rainstorm 2013 Pinot Gris (Willamette Valley)</td>\n",
       "      <td>Pinot Gris</td>\n",
       "      <td>Rainstorm</td>\n",
       "    </tr>\n",
       "    <tr>\n",
       "      <th>3</th>\n",
       "      <td>US</td>\n",
       "      <td>Pineapple rind, lemon pith and orange blossom ...</td>\n",
       "      <td>Reserve Late Harvest</td>\n",
       "      <td>87</td>\n",
       "      <td>13.0</td>\n",
       "      <td>Michigan</td>\n",
       "      <td>Lake Michigan Shore</td>\n",
       "      <td>NaN</td>\n",
       "      <td>Alexander Peartree</td>\n",
       "      <td>NaN</td>\n",
       "      <td>St. Julian 2013 Reserve Late Harvest Riesling ...</td>\n",
       "      <td>Riesling</td>\n",
       "      <td>St. Julian</td>\n",
       "    </tr>\n",
       "    <tr>\n",
       "      <th>5</th>\n",
       "      <td>Spain</td>\n",
       "      <td>Blackberry and raspberry aromas show a typical...</td>\n",
       "      <td>Ars In Vitro</td>\n",
       "      <td>87</td>\n",
       "      <td>15.0</td>\n",
       "      <td>Northern Spain</td>\n",
       "      <td>Navarra</td>\n",
       "      <td>NaN</td>\n",
       "      <td>Michael Schachner</td>\n",
       "      <td>@wineschach</td>\n",
       "      <td>Tandem 2011 Ars In Vitro Tempranillo-Merlot (N...</td>\n",
       "      <td>Tempranillo-Merlot</td>\n",
       "      <td>Tandem</td>\n",
       "    </tr>\n",
       "    <tr>\n",
       "      <th>8</th>\n",
       "      <td>Germany</td>\n",
       "      <td>Savory dried thyme notes accent sunnier flavor...</td>\n",
       "      <td>Shine</td>\n",
       "      <td>87</td>\n",
       "      <td>12.0</td>\n",
       "      <td>Rheinhessen</td>\n",
       "      <td>NaN</td>\n",
       "      <td>NaN</td>\n",
       "      <td>Anna Lee C. Iijima</td>\n",
       "      <td>NaN</td>\n",
       "      <td>Heinz Eifel 2013 Shine Gewürztraminer (Rheinhe...</td>\n",
       "      <td>Gewürztraminer</td>\n",
       "      <td>Heinz Eifel</td>\n",
       "    </tr>\n",
       "  </tbody>\n",
       "</table>\n",
       "</div>"
      ],
      "text/plain": [
       "    country                                        description  \\\n",
       "1  Portugal  This is ripe and fruity, a wine that is smooth...   \n",
       "2        US  Tart and snappy, the flavors of lime flesh and...   \n",
       "3        US  Pineapple rind, lemon pith and orange blossom ...   \n",
       "5     Spain  Blackberry and raspberry aromas show a typical...   \n",
       "8   Germany  Savory dried thyme notes accent sunnier flavor...   \n",
       "\n",
       "            designation  points  price        province             region_1  \\\n",
       "1              Avidagos      87   15.0           Douro                  NaN   \n",
       "2                   NaN      87   14.0          Oregon    Willamette Valley   \n",
       "3  Reserve Late Harvest      87   13.0        Michigan  Lake Michigan Shore   \n",
       "5          Ars In Vitro      87   15.0  Northern Spain              Navarra   \n",
       "8                 Shine      87   12.0     Rheinhessen                  NaN   \n",
       "\n",
       "            region_2         taster_name taster_twitter_handle  \\\n",
       "1                NaN          Roger Voss            @vossroger   \n",
       "2  Willamette Valley        Paul Gregutt           @paulgwine    \n",
       "3                NaN  Alexander Peartree                   NaN   \n",
       "5                NaN   Michael Schachner           @wineschach   \n",
       "8                NaN  Anna Lee C. Iijima                   NaN   \n",
       "\n",
       "                                               title             variety  \\\n",
       "1      Quinta dos Avidagos 2011 Avidagos Red (Douro)      Portuguese Red   \n",
       "2      Rainstorm 2013 Pinot Gris (Willamette Valley)          Pinot Gris   \n",
       "3  St. Julian 2013 Reserve Late Harvest Riesling ...            Riesling   \n",
       "5  Tandem 2011 Ars In Vitro Tempranillo-Merlot (N...  Tempranillo-Merlot   \n",
       "8  Heinz Eifel 2013 Shine Gewürztraminer (Rheinhe...      Gewürztraminer   \n",
       "\n",
       "                winery  \n",
       "1  Quinta dos Avidagos  \n",
       "2            Rainstorm  \n",
       "3           St. Julian  \n",
       "5               Tandem  \n",
       "8          Heinz Eifel  "
      ]
     },
     "execution_count": 11,
     "metadata": {},
     "output_type": "execute_result"
    }
   ],
   "source": [
    "sample_reviews = reviews.loc[[1,2,3,5,8]]\n",
    "sample_reviews"
   ]
  },
  {
   "cell_type": "markdown",
   "metadata": {},
   "source": [
    "## 6.\n",
    "\n",
    "Create a variable `df` containing the `country`, `province`, `region_1`, and `region_2` columns of the records with the index labels `0`, `1`, `10`, and `100`. In other words, generate the following DataFrame:\n",
    "\n",
    "创建一个变量 `df`，其中包含索引标签为`0`、`1`、`10`和`100`的记录的`country`, `province`, `region_1`和`region_2`列。换句话说，生成以下 DataFrame：\n",
    "\n",
    "![](https://storage.googleapis.com/kaggle-media/learn/images/FUCGiKP.png)"
   ]
  },
  {
   "cell_type": "code",
   "execution_count": 12,
   "metadata": {},
   "outputs": [
    {
     "data": {
      "application/vnd.microsoft.datawrangler.viewer.v0+json": {
       "columns": [
        {
         "name": "index",
         "rawType": "int64",
         "type": "integer"
        },
        {
         "name": "country",
         "rawType": "object",
         "type": "string"
        },
        {
         "name": "province",
         "rawType": "object",
         "type": "string"
        },
        {
         "name": "region_1",
         "rawType": "object",
         "type": "unknown"
        },
        {
         "name": "region_2",
         "rawType": "object",
         "type": "unknown"
        }
       ],
       "conversionMethod": "pd.DataFrame",
       "ref": "3847b0a1-b55f-455f-907c-e82527e1e7cb",
       "rows": [
        [
         "0",
         "Italy",
         "Sicily & Sardinia",
         "Etna",
         null
        ],
        [
         "1",
         "Portugal",
         "Douro",
         null,
         null
        ],
        [
         "10",
         "US",
         "California",
         "Napa Valley",
         "Napa"
        ],
        [
         "100",
         "US",
         "New York",
         "Finger Lakes",
         "Finger Lakes"
        ]
       ],
       "shape": {
        "columns": 4,
        "rows": 4
       }
      },
      "text/html": [
       "<div>\n",
       "<style scoped>\n",
       "    .dataframe tbody tr th:only-of-type {\n",
       "        vertical-align: middle;\n",
       "    }\n",
       "\n",
       "    .dataframe tbody tr th {\n",
       "        vertical-align: top;\n",
       "    }\n",
       "\n",
       "    .dataframe thead th {\n",
       "        text-align: right;\n",
       "    }\n",
       "</style>\n",
       "<table border=\"1\" class=\"dataframe\">\n",
       "  <thead>\n",
       "    <tr style=\"text-align: right;\">\n",
       "      <th></th>\n",
       "      <th>country</th>\n",
       "      <th>province</th>\n",
       "      <th>region_1</th>\n",
       "      <th>region_2</th>\n",
       "    </tr>\n",
       "  </thead>\n",
       "  <tbody>\n",
       "    <tr>\n",
       "      <th>0</th>\n",
       "      <td>Italy</td>\n",
       "      <td>Sicily &amp; Sardinia</td>\n",
       "      <td>Etna</td>\n",
       "      <td>NaN</td>\n",
       "    </tr>\n",
       "    <tr>\n",
       "      <th>1</th>\n",
       "      <td>Portugal</td>\n",
       "      <td>Douro</td>\n",
       "      <td>NaN</td>\n",
       "      <td>NaN</td>\n",
       "    </tr>\n",
       "    <tr>\n",
       "      <th>10</th>\n",
       "      <td>US</td>\n",
       "      <td>California</td>\n",
       "      <td>Napa Valley</td>\n",
       "      <td>Napa</td>\n",
       "    </tr>\n",
       "    <tr>\n",
       "      <th>100</th>\n",
       "      <td>US</td>\n",
       "      <td>New York</td>\n",
       "      <td>Finger Lakes</td>\n",
       "      <td>Finger Lakes</td>\n",
       "    </tr>\n",
       "  </tbody>\n",
       "</table>\n",
       "</div>"
      ],
      "text/plain": [
       "      country           province      region_1      region_2\n",
       "0       Italy  Sicily & Sardinia          Etna           NaN\n",
       "1    Portugal              Douro           NaN           NaN\n",
       "10         US         California   Napa Valley          Napa\n",
       "100        US           New York  Finger Lakes  Finger Lakes"
      ]
     },
     "execution_count": 12,
     "metadata": {},
     "output_type": "execute_result"
    }
   ],
   "source": [
    "df = reviews.loc[[0,1,10,100], [\"country\", \"province\", \"region_1\", \"region_2\"]]\n",
    "df"
   ]
  },
  {
   "cell_type": "markdown",
   "metadata": {},
   "source": [
    "## 7.\n",
    "\n",
    "Create a variable `df` containing the `country` and `variety` columns of the first 100 records. \n",
    "\n",
    "创建一个变量 `df`，其中包含前 100 条记录的`country`和`variety`列。\n",
    "\n",
    "Hint: you may use `loc` or `iloc`. When working on the answer this question and the several of the ones that follow, keep the following \"gotcha\" described in the tutorial:\n",
    "\n",
    "提示：可以使用 `loc` 或 `iloc`。在回答这个问题和后面的几个问题时，请注意教程中描述的以下 \"陷阱\"：\n",
    "\n",
    "> `iloc` uses the Python stdlib indexing scheme, where the first element of the range is included and the last one excluded. `loc`, meanwhile, indexes inclusively. \n",
    "`iloc` 使用 Python stdlib 索引方案，即包含范围内的第一个元素，排除最后一个元素。 而 `loc` 则是包含索引。\n",
    "\n",
    "> This is particularly confusing when the DataFrame index is a simple numerical list, e.g. `0,...,1000`. In this case `df.iloc[0:1000]` will return 1000 entries, while `df.loc[0:1000]` return 1001 of them! To get 1000 elements using `loc`, you will need to go one lower and ask for `df.iloc[0:999]`. \n",
    "当 DataFrame 索引是一个简单的数字列表（如 `0,...,1000`）时，这种情况尤其令人困惑。在这种情况下，`df.iloc[0:1000]` 将返回 1000 个条目，而`df.loc[0:1000]` 则返回其中的 1001 个！要使用 `loc` 获得 1000 个元素，您需要再低一级，请求 `df.iloc[0:999]`。"
   ]
  },
  {
   "cell_type": "code",
   "execution_count": 13,
   "metadata": {},
   "outputs": [
    {
     "data": {
      "application/vnd.microsoft.datawrangler.viewer.v0+json": {
       "columns": [
        {
         "name": "index",
         "rawType": "int64",
         "type": "integer"
        },
        {
         "name": "country",
         "rawType": "object",
         "type": "string"
        },
        {
         "name": "variety",
         "rawType": "object",
         "type": "string"
        }
       ],
       "conversionMethod": "pd.DataFrame",
       "ref": "8c975f8c-e956-42f9-90cb-2b6a868d323e",
       "rows": [
        [
         "0",
         "Italy",
         "White Blend"
        ],
        [
         "1",
         "Portugal",
         "Portuguese Red"
        ],
        [
         "2",
         "US",
         "Pinot Gris"
        ],
        [
         "3",
         "US",
         "Riesling"
        ],
        [
         "4",
         "US",
         "Pinot Noir"
        ],
        [
         "5",
         "Spain",
         "Tempranillo-Merlot"
        ],
        [
         "6",
         "Italy",
         "Frappato"
        ],
        [
         "7",
         "France",
         "Gewürztraminer"
        ],
        [
         "8",
         "Germany",
         "Gewürztraminer"
        ],
        [
         "9",
         "France",
         "Pinot Gris"
        ],
        [
         "10",
         "US",
         "Cabernet Sauvignon"
        ],
        [
         "11",
         "France",
         "Gewürztraminer"
        ],
        [
         "12",
         "US",
         "Cabernet Sauvignon"
        ],
        [
         "13",
         "Italy",
         "Nerello Mascalese"
        ],
        [
         "14",
         "US",
         "Chardonnay"
        ],
        [
         "15",
         "Germany",
         "Riesling"
        ],
        [
         "16",
         "Argentina",
         "Malbec"
        ],
        [
         "17",
         "Argentina",
         "Malbec"
        ],
        [
         "18",
         "Spain",
         "Tempranillo Blend"
        ],
        [
         "19",
         "US",
         "Meritage"
        ],
        [
         "20",
         "US",
         "Red Blend"
        ],
        [
         "21",
         "US",
         "Pinot Noir"
        ],
        [
         "22",
         "Italy",
         "White Blend"
        ],
        [
         "23",
         "US",
         "Merlot"
        ],
        [
         "24",
         "Italy",
         "Nero d'Avola"
        ],
        [
         "25",
         "US",
         "Pinot Noir"
        ],
        [
         "26",
         "Italy",
         "White Blend"
        ],
        [
         "27",
         "Italy",
         "Nero d'Avola"
        ],
        [
         "28",
         "Italy",
         "Red Blend"
        ],
        [
         "29",
         "US",
         "Chenin Blanc"
        ],
        [
         "30",
         "France",
         "Gamay"
        ],
        [
         "31",
         "Italy",
         "Red Blend"
        ],
        [
         "32",
         "Italy",
         "White Blend"
        ],
        [
         "33",
         "US",
         "Red Blend"
        ],
        [
         "34",
         "US",
         "Sauvignon Blanc"
        ],
        [
         "35",
         "US",
         "Pinot Noir"
        ],
        [
         "36",
         "Chile",
         "Viognier-Chardonnay"
        ],
        [
         "37",
         "Italy",
         "Cabernet Sauvignon"
        ],
        [
         "38",
         "Italy",
         "Primitivo"
        ],
        [
         "39",
         "Italy",
         "Nero d'Avola"
        ],
        [
         "40",
         "Italy",
         "Catarratto"
        ],
        [
         "41",
         "US",
         "Pinot Noir"
        ],
        [
         "42",
         "France",
         "Gamay"
        ],
        [
         "43",
         "US",
         "Sauvignon Blanc"
        ],
        [
         "44",
         "Chile",
         "Merlot"
        ],
        [
         "45",
         "US",
         "Red Blend"
        ],
        [
         "46",
         "Italy",
         "Inzolia"
        ],
        [
         "47",
         "US",
         "Riesling"
        ],
        [
         "48",
         "US",
         "Sauvignon Blanc"
        ],
        [
         "49",
         "France",
         "Gamay"
        ]
       ],
       "shape": {
        "columns": 2,
        "rows": 100
       }
      },
      "text/html": [
       "<div>\n",
       "<style scoped>\n",
       "    .dataframe tbody tr th:only-of-type {\n",
       "        vertical-align: middle;\n",
       "    }\n",
       "\n",
       "    .dataframe tbody tr th {\n",
       "        vertical-align: top;\n",
       "    }\n",
       "\n",
       "    .dataframe thead th {\n",
       "        text-align: right;\n",
       "    }\n",
       "</style>\n",
       "<table border=\"1\" class=\"dataframe\">\n",
       "  <thead>\n",
       "    <tr style=\"text-align: right;\">\n",
       "      <th></th>\n",
       "      <th>country</th>\n",
       "      <th>variety</th>\n",
       "    </tr>\n",
       "  </thead>\n",
       "  <tbody>\n",
       "    <tr>\n",
       "      <th>0</th>\n",
       "      <td>Italy</td>\n",
       "      <td>White Blend</td>\n",
       "    </tr>\n",
       "    <tr>\n",
       "      <th>1</th>\n",
       "      <td>Portugal</td>\n",
       "      <td>Portuguese Red</td>\n",
       "    </tr>\n",
       "    <tr>\n",
       "      <th>...</th>\n",
       "      <td>...</td>\n",
       "      <td>...</td>\n",
       "    </tr>\n",
       "    <tr>\n",
       "      <th>98</th>\n",
       "      <td>Italy</td>\n",
       "      <td>Sangiovese</td>\n",
       "    </tr>\n",
       "    <tr>\n",
       "      <th>99</th>\n",
       "      <td>US</td>\n",
       "      <td>Bordeaux-style Red Blend</td>\n",
       "    </tr>\n",
       "  </tbody>\n",
       "</table>\n",
       "<p>100 rows × 2 columns</p>\n",
       "</div>"
      ],
      "text/plain": [
       "     country                   variety\n",
       "0      Italy               White Blend\n",
       "1   Portugal            Portuguese Red\n",
       "..       ...                       ...\n",
       "98     Italy                Sangiovese\n",
       "99        US  Bordeaux-style Red Blend\n",
       "\n",
       "[100 rows x 2 columns]"
      ]
     },
     "execution_count": 13,
     "metadata": {},
     "output_type": "execute_result"
    }
   ],
   "source": [
    "df = reviews.loc[:99, [\"country\", \"variety\"]]\n",
    "df"
   ]
  },
  {
   "cell_type": "markdown",
   "metadata": {},
   "source": [
    "or"
   ]
  },
  {
   "cell_type": "code",
   "execution_count": 14,
   "metadata": {},
   "outputs": [
    {
     "data": {
      "application/vnd.microsoft.datawrangler.viewer.v0+json": {
       "columns": [
        {
         "name": "index",
         "rawType": "int64",
         "type": "integer"
        },
        {
         "name": "country",
         "rawType": "object",
         "type": "string"
        },
        {
         "name": "variety",
         "rawType": "object",
         "type": "string"
        }
       ],
       "conversionMethod": "pd.DataFrame",
       "ref": "b84ea6db-6df5-4c31-93c6-39ad7fcf7db9",
       "rows": [
        [
         "0",
         "Italy",
         "White Blend"
        ],
        [
         "1",
         "Portugal",
         "Portuguese Red"
        ],
        [
         "2",
         "US",
         "Pinot Gris"
        ],
        [
         "3",
         "US",
         "Riesling"
        ],
        [
         "4",
         "US",
         "Pinot Noir"
        ],
        [
         "5",
         "Spain",
         "Tempranillo-Merlot"
        ],
        [
         "6",
         "Italy",
         "Frappato"
        ],
        [
         "7",
         "France",
         "Gewürztraminer"
        ],
        [
         "8",
         "Germany",
         "Gewürztraminer"
        ],
        [
         "9",
         "France",
         "Pinot Gris"
        ],
        [
         "10",
         "US",
         "Cabernet Sauvignon"
        ],
        [
         "11",
         "France",
         "Gewürztraminer"
        ],
        [
         "12",
         "US",
         "Cabernet Sauvignon"
        ],
        [
         "13",
         "Italy",
         "Nerello Mascalese"
        ],
        [
         "14",
         "US",
         "Chardonnay"
        ],
        [
         "15",
         "Germany",
         "Riesling"
        ],
        [
         "16",
         "Argentina",
         "Malbec"
        ],
        [
         "17",
         "Argentina",
         "Malbec"
        ],
        [
         "18",
         "Spain",
         "Tempranillo Blend"
        ],
        [
         "19",
         "US",
         "Meritage"
        ],
        [
         "20",
         "US",
         "Red Blend"
        ],
        [
         "21",
         "US",
         "Pinot Noir"
        ],
        [
         "22",
         "Italy",
         "White Blend"
        ],
        [
         "23",
         "US",
         "Merlot"
        ],
        [
         "24",
         "Italy",
         "Nero d'Avola"
        ],
        [
         "25",
         "US",
         "Pinot Noir"
        ],
        [
         "26",
         "Italy",
         "White Blend"
        ],
        [
         "27",
         "Italy",
         "Nero d'Avola"
        ],
        [
         "28",
         "Italy",
         "Red Blend"
        ],
        [
         "29",
         "US",
         "Chenin Blanc"
        ],
        [
         "30",
         "France",
         "Gamay"
        ],
        [
         "31",
         "Italy",
         "Red Blend"
        ],
        [
         "32",
         "Italy",
         "White Blend"
        ],
        [
         "33",
         "US",
         "Red Blend"
        ],
        [
         "34",
         "US",
         "Sauvignon Blanc"
        ],
        [
         "35",
         "US",
         "Pinot Noir"
        ],
        [
         "36",
         "Chile",
         "Viognier-Chardonnay"
        ],
        [
         "37",
         "Italy",
         "Cabernet Sauvignon"
        ],
        [
         "38",
         "Italy",
         "Primitivo"
        ],
        [
         "39",
         "Italy",
         "Nero d'Avola"
        ],
        [
         "40",
         "Italy",
         "Catarratto"
        ],
        [
         "41",
         "US",
         "Pinot Noir"
        ],
        [
         "42",
         "France",
         "Gamay"
        ],
        [
         "43",
         "US",
         "Sauvignon Blanc"
        ],
        [
         "44",
         "Chile",
         "Merlot"
        ],
        [
         "45",
         "US",
         "Red Blend"
        ],
        [
         "46",
         "Italy",
         "Inzolia"
        ],
        [
         "47",
         "US",
         "Riesling"
        ],
        [
         "48",
         "US",
         "Sauvignon Blanc"
        ],
        [
         "49",
         "France",
         "Gamay"
        ]
       ],
       "shape": {
        "columns": 2,
        "rows": 100
       }
      },
      "text/html": [
       "<div>\n",
       "<style scoped>\n",
       "    .dataframe tbody tr th:only-of-type {\n",
       "        vertical-align: middle;\n",
       "    }\n",
       "\n",
       "    .dataframe tbody tr th {\n",
       "        vertical-align: top;\n",
       "    }\n",
       "\n",
       "    .dataframe thead th {\n",
       "        text-align: right;\n",
       "    }\n",
       "</style>\n",
       "<table border=\"1\" class=\"dataframe\">\n",
       "  <thead>\n",
       "    <tr style=\"text-align: right;\">\n",
       "      <th></th>\n",
       "      <th>country</th>\n",
       "      <th>variety</th>\n",
       "    </tr>\n",
       "  </thead>\n",
       "  <tbody>\n",
       "    <tr>\n",
       "      <th>0</th>\n",
       "      <td>Italy</td>\n",
       "      <td>White Blend</td>\n",
       "    </tr>\n",
       "    <tr>\n",
       "      <th>1</th>\n",
       "      <td>Portugal</td>\n",
       "      <td>Portuguese Red</td>\n",
       "    </tr>\n",
       "    <tr>\n",
       "      <th>...</th>\n",
       "      <td>...</td>\n",
       "      <td>...</td>\n",
       "    </tr>\n",
       "    <tr>\n",
       "      <th>98</th>\n",
       "      <td>Italy</td>\n",
       "      <td>Sangiovese</td>\n",
       "    </tr>\n",
       "    <tr>\n",
       "      <th>99</th>\n",
       "      <td>US</td>\n",
       "      <td>Bordeaux-style Red Blend</td>\n",
       "    </tr>\n",
       "  </tbody>\n",
       "</table>\n",
       "<p>100 rows × 2 columns</p>\n",
       "</div>"
      ],
      "text/plain": [
       "     country                   variety\n",
       "0      Italy               White Blend\n",
       "1   Portugal            Portuguese Red\n",
       "..       ...                       ...\n",
       "98     Italy                Sangiovese\n",
       "99        US  Bordeaux-style Red Blend\n",
       "\n",
       "[100 rows x 2 columns]"
      ]
     },
     "execution_count": 14,
     "metadata": {},
     "output_type": "execute_result"
    }
   ],
   "source": [
    "cols_idx = [0, 11]\n",
    "df = reviews.iloc[:100, cols_idx]\n",
    "df"
   ]
  },
  {
   "cell_type": "markdown",
   "metadata": {},
   "source": [
    "## 8.\n",
    "\n",
    "Create a DataFrame `italian_wines` containing reviews of wines made in `Italy`. Hint: `reviews.country` equals what?"
   ]
  },
  {
   "cell_type": "code",
   "execution_count": 15,
   "metadata": {},
   "outputs": [
    {
     "data": {
      "application/vnd.microsoft.datawrangler.viewer.v0+json": {
       "columns": [
        {
         "name": "index",
         "rawType": "int64",
         "type": "integer"
        },
        {
         "name": "country",
         "rawType": "object",
         "type": "string"
        },
        {
         "name": "description",
         "rawType": "object",
         "type": "string"
        },
        {
         "name": "designation",
         "rawType": "object",
         "type": "unknown"
        },
        {
         "name": "points",
         "rawType": "int64",
         "type": "integer"
        },
        {
         "name": "price",
         "rawType": "float64",
         "type": "float"
        },
        {
         "name": "province",
         "rawType": "object",
         "type": "string"
        },
        {
         "name": "region_1",
         "rawType": "object",
         "type": "unknown"
        },
        {
         "name": "region_2",
         "rawType": "object",
         "type": "unknown"
        },
        {
         "name": "taster_name",
         "rawType": "object",
         "type": "unknown"
        },
        {
         "name": "taster_twitter_handle",
         "rawType": "object",
         "type": "unknown"
        },
        {
         "name": "title",
         "rawType": "object",
         "type": "string"
        },
        {
         "name": "variety",
         "rawType": "object",
         "type": "string"
        },
        {
         "name": "winery",
         "rawType": "object",
         "type": "string"
        }
       ],
       "conversionMethod": "pd.DataFrame",
       "ref": "9a45391e-a8ef-4c71-8a36-0eb0628bf2e0",
       "rows": [
        [
         "0",
         "Italy",
         "Aromas include tropical fruit, broom, brimstone and dried herb. The palate isn't overly expressive, offering unripened apple, citrus and dried sage alongside brisk acidity.",
         "Vulkà Bianco",
         "87",
         null,
         "Sicily & Sardinia",
         "Etna",
         null,
         "Kerin O’Keefe",
         "@kerinokeefe",
         "Nicosia 2013 Vulkà Bianco  (Etna)",
         "White Blend",
         "Nicosia"
        ],
        [
         "6",
         "Italy",
         "Here's a bright, informal red that opens with aromas of candied berry, white pepper and savory herb that carry over to the palate. It's balanced with fresh acidity and soft tannins.",
         "Belsito",
         "87",
         "16.0",
         "Sicily & Sardinia",
         "Vittoria",
         null,
         "Kerin O’Keefe",
         "@kerinokeefe",
         "Terre di Giurfo 2013 Belsito Frappato (Vittoria)",
         "Frappato",
         "Terre di Giurfo"
        ],
        [
         "13",
         "Italy",
         "This is dominated by oak and oak-driven aromas that include roasted coffee bean, espresso, coconut and vanilla that carry over to the palate, together with plum and chocolate. Astringent, drying tannins give it a rather abrupt finish.",
         "Rosso",
         "87",
         null,
         "Sicily & Sardinia",
         "Etna",
         null,
         "Kerin O’Keefe",
         "@kerinokeefe",
         "Masseria Setteporte 2012 Rosso  (Etna)",
         "Nerello Mascalese",
         "Masseria Setteporte"
        ],
        [
         "22",
         "Italy",
         "Delicate aromas recall white flower and citrus. The palate offers passion fruit, lime and white peach with a hint of mineral alongside bright acidity.",
         "Ficiligno",
         "87",
         "19.0",
         "Sicily & Sardinia",
         "Sicilia",
         null,
         "Kerin O’Keefe",
         "@kerinokeefe",
         "Baglio di Pianetto 2007 Ficiligno White (Sicilia)",
         "White Blend",
         "Baglio di Pianetto"
        ],
        [
         "24",
         "Italy",
         "Aromas of prune, blackcurrant, toast and oak carry through to the extracted palate, along with flavors of black cherry and roasted coffee beans. Firm but drying tannins provide the framework.",
         "Aynat",
         "87",
         "35.0",
         "Sicily & Sardinia",
         "Sicilia",
         null,
         "Kerin O’Keefe",
         "@kerinokeefe",
         "Canicattì 2009 Aynat Nero d'Avola (Sicilia)",
         "Nero d'Avola",
         "Canicattì"
        ],
        [
         "26",
         "Italy",
         "Pretty aromas of yellow flower and stone fruit lead the nose. The bright palate offers yellow apple, apricot, vanilla and delicate notes of lightly toasted oak alongside crisp acidity.",
         "Dalila",
         "87",
         "13.0",
         "Sicily & Sardinia",
         "Terre Siciliane",
         null,
         "Kerin O’Keefe",
         "@kerinokeefe",
         "Stemmari 2013 Dalila White (Terre Siciliane)",
         "White Blend",
         "Stemmari"
        ],
        [
         "27",
         "Italy",
         "Aromas recall ripe dark berry, toast and a whiff of cake spice. The soft, informal palate offers sour cherry, vanilla and a hint of espresso alongside round tannins. Drink soon.",
         null,
         "87",
         "10.0",
         "Sicily & Sardinia",
         "Terre Siciliane",
         null,
         "Kerin O’Keefe",
         "@kerinokeefe",
         "Stemmari 2013 Nero d'Avola (Terre Siciliane)",
         "Nero d'Avola",
         "Stemmari"
        ],
        [
         "28",
         "Italy",
         "Aromas suggest mature berry, scorched earth, animal, toast and anise. The palate offers ripe black berry, oak, espresso, cocoa and vanilla alongside dusty tannins.",
         "Mascaria Barricato",
         "87",
         "17.0",
         "Sicily & Sardinia",
         "Cerasuolo di Vittoria",
         null,
         "Kerin O’Keefe",
         "@kerinokeefe",
         "Terre di Giurfo 2011 Mascaria Barricato  (Cerasuolo di Vittoria)",
         "Red Blend",
         "Terre di Giurfo"
        ],
        [
         "31",
         "Italy",
         "Merlot and Nero d'Avola form the base for this easy red wine that would pair with fettuccine and meat sauce or pork roast. The quality of the fruit is clean, bright and sharp.",
         "Calanìca Nero d'Avola-Merlot",
         "86",
         null,
         "Sicily & Sardinia",
         "Sicilia",
         null,
         null,
         null,
         "Duca di Salaparuta 2010 Calanìca Nero d'Avola-Merlot Red (Sicilia)",
         "Red Blend",
         "Duca di Salaparuta"
        ],
        [
         "32",
         "Italy",
         "Part of the extended Calanìca series, this Grillo-Viognier blend shows aromas of honeysuckle and jasmine, backed by touches of cut grass and wild sage. In the mouth, it shows ripe yellow-fruit flavors.",
         "Calanìca Grillo-Viognier",
         "86",
         null,
         "Sicily & Sardinia",
         "Sicilia",
         null,
         null,
         null,
         "Duca di Salaparuta 2011 Calanìca Grillo-Viognier White (Sicilia)",
         "White Blend",
         "Duca di Salaparuta"
        ],
        [
         "37",
         "Italy",
         "This concentrated Cabernet offers aromas of cured meat, dried fruit and rosemary. Barbecue spice and teriyaki sauce flavors give the wine a bold, chewy feel.",
         "Missoni",
         "86",
         "21.0",
         "Sicily & Sardinia",
         "Sicilia",
         null,
         null,
         null,
         "Feudi del Pisciotto 2010 Missoni Cabernet Sauvignon (Sicilia)",
         "Cabernet Sauvignon",
         "Feudi del Pisciotto"
        ],
        [
         "38",
         "Italy",
         "Inky in color, this wine has plump aromas of ripe fruit, blackberry jam and rum cake. On the palate, it is soft and smooth.",
         "I Tratturi",
         "86",
         "11.0",
         "Southern Italy",
         "Puglia",
         null,
         null,
         null,
         "Feudi di San Marzano 2011 I Tratturi Primitivo (Puglia)",
         "Primitivo",
         "Feudi di San Marzano"
        ],
        [
         "39",
         "Italy",
         "Part of the natural wine movement, this wine is made from organic grapes, and the label is printed with vegetable ink on recycled paper. The quality of fruit is very nice, with a juicy palate and a bright berry flavor on the finish.",
         "Purato Made With Organic Grapes",
         "86",
         "12.0",
         "Sicily & Sardinia",
         "Sicilia",
         null,
         null,
         null,
         "Feudo di Santa Tresa 2011 Purato Made With Organic Grapes Nero d'Avola (Sicilia)",
         "Nero d'Avola",
         "Feudo di Santa Tresa"
        ],
        [
         "40",
         "Italy",
         "Catarratto is one of Sicily's most widely farmed white grape varieties. This expression shows a mineral note, backed by citrus and almond blossom touches.",
         null,
         "86",
         "17.0",
         "Sicily & Sardinia",
         "Sicilia",
         null,
         null,
         null,
         "Feudo Montoni 2011 Catarratto (Sicilia)",
         "Catarratto",
         "Feudo Montoni"
        ],
        [
         "46",
         "Italy",
         "Spicy, fresh and clean, this would pair with fried seafood or spaghetti con vongole. It offers pretty citrus tones followed by a drying mineral nuance.",
         "Sallier de la Tour",
         "86",
         "13.0",
         "Sicily & Sardinia",
         "Sicilia",
         null,
         null,
         null,
         "Tasca d'Almerita 2011 Sallier de la Tour Inzolia (Sicilia)",
         "Inzolia",
         "Tasca d'Almerita"
        ],
        [
         "50",
         "Italy",
         "This blend of Nero d'Avola and Syrah opens with savory aromas of cured meat, dried berry, cassis, tobacco and wet earth. There's a touch of almond bitterness on the finish.",
         "Scialo",
         "86",
         null,
         "Sicily & Sardinia",
         "Sicilia",
         null,
         null,
         null,
         "Viticultori Associati Canicatti 2008 Scialo Red (Sicilia)",
         "Red Blend",
         "Viticultori Associati Canicatti"
        ],
        [
         "52",
         "Italy",
         "The Monica grape often shows a rustic or raw quality, with aromas of cherry cola, black pepper and sour fruit. This expression does just that, with an added touch of bright acidity on the finish.",
         "Dolia",
         "85",
         "14.0",
         "Sicily & Sardinia",
         "Monica di Sardegna",
         null,
         null,
         null,
         "Cantine di Dolianova 2010 Dolia  (Monica di Sardegna)",
         "Monica",
         "Cantine di Dolianova"
        ],
        [
         "54",
         "Italy",
         "A blend of Nero d'Avola and Nerello Mascalese, this delivers forest berry and cola, with blue flower and dusty mineral accents. The palate is easy, bright and lean.",
         "Rosso",
         "85",
         null,
         "Sicily & Sardinia",
         "Sicilia",
         null,
         null,
         null,
         "Corvo 2010 Rosso Red (Sicilia)",
         "Red Blend",
         "Corvo"
        ],
        [
         "57",
         "Italy",
         "There's a touch of toasted almond at the start, but then this Grillo revs up in the glass to deliver notes of citrus, stone fruit, crushed stone and lemon tart. The mouthfeel is crisp and simple.",
         "Sallier de la Tour",
         "85",
         "13.0",
         "Sicily & Sardinia",
         "Sicilia",
         null,
         null,
         null,
         "Tasca d'Almerita 2011 Sallier de la Tour Grillo (Sicilia)",
         "Grillo",
         "Tasca d'Almerita"
        ],
        [
         "61",
         "Italy",
         "This densely hued wine has aromas of black plum and vanilla that carry over to the simple palate along with a touch of cedar. Pliant tannins give it an easygoing nature. Drink soon.",
         "Prugneto",
         "86",
         "17.0",
         "Central Italy",
         "Romagna",
         null,
         "Kerin O’Keefe",
         "@kerinokeefe",
         "Podere dal Nespoli 2015 Prugneto Sangiovese (Romagna)",
         "Sangiovese",
         "Podere dal Nespoli"
        ],
        [
         "72",
         "Italy",
         "Aromas of black-skinned fruit, leather, underbrush, game and a briny note all carry over to the lean, somewhat disjointed palate along with suggestions of licorice and raw red cherry. Grainy tannins leave a drying finish.",
         "Daginestra",
         "86",
         "32.0",
         "Southern Italy",
         "Aglianico del Vulture",
         null,
         "Kerin O’Keefe",
         "@kerinokeefe",
         "Grifalco 2013 Daginestra  (Aglianico del Vulture)",
         "Aglianico",
         "Grifalco"
        ],
        [
         "88",
         "Italy",
         "Subdued aromas of French oak, toast and acacia waft out of the glass. The rather lean palate offers oak-driven spice, chopped herb and a hint of citrus set against racy acidity. It's rather shy on fruit richness.",
         "Le Mandorle Riserva",
         "86",
         "29.0",
         "Tuscany",
         "Vernaccia di San Gimignano",
         null,
         "Kerin O’Keefe",
         "@kerinokeefe",
         "Poggio Alloro 2014 Le Mandorle Riserva  (Vernaccia di San Gimignano)",
         "Vernaccia",
         "Poggio Alloro"
        ],
        [
         "89",
         "Italy",
         "Made primarily from Sangiovese, with some Malvasia and other white grapes, this offers aromas of red berry and a yeasty whiff of bread dough. The bright, enjoyable palate offers ripe cherry and hint of pastry cream while a note of honeydew melon marks the close.",
         null,
         "88",
         "19.0",
         "Tuscany",
         "Toscana",
         null,
         "Kerin O’Keefe",
         "@kerinokeefe",
         "Fattoria Sardi 2015 Rosato (Toscana)",
         "Rosato",
         "Fattoria Sardi"
        ],
        [
         "98",
         "Italy",
         "Forest floor, menthol, espresso, cranberry and pressed violet aromas take shape in the glass. The lean linear palate shows dried sour cherry, licorice and coffee bean alongside assertive close-grained tannins. Even though the tannins are still firm, drink sooner rather than later to capture the remaining fruit.",
         "Dono Riserva",
         "88",
         "30.0",
         "Tuscany",
         "Morellino di Scansano",
         null,
         "Kerin O’Keefe",
         "@kerinokeefe",
         "Serpaia di Endrizzi 2010 Dono Riserva  (Morellino di Scansano)",
         "Sangiovese",
         "Serpaia di Endrizzi"
        ],
        [
         "104",
         "Italy",
         "Made with 65% Sangiovese, 20% Merlot and 15% Cabernet Sauvignon, this has subtle aromas of black-skinned fruit and thyme. The easygoing palate delivers black cherry and cinnamon alongside smooth tannins.",
         "Nativo",
         "87",
         "16.0",
         "Tuscany",
         "Toscana",
         null,
         "Kerin O’Keefe",
         "@kerinokeefe",
         "Madonna Alta 2014 Nativo Red (Toscana)",
         "Red Blend",
         "Madonna Alta"
        ],
        [
         "105",
         "Italy",
         "Made predominantly with Trebbiano and Malvasia, along with Pinot Bianco, Pinot Grigio and Riesling Renano, this has inviting aromas of ripe orchard fruit and citrus. The round fruity palate doles out ripe apricot, orange zest and juicy pineapple.",
         "Villa Antinori",
         "87",
         "14.0",
         "Tuscany",
         "Toscana",
         null,
         "Kerin O’Keefe",
         "@kerinokeefe",
         "Marchesi Antinori 2015 Villa Antinori White (Toscana)",
         "White Blend",
         "Marchesi Antinori"
        ],
        [
         "106",
         "Italy",
         "A blend of Cabernet Sauvignon, Merlot, Cabernet Franc and Sangiovese, this pleasant red has aromas of dark-skinned fruit, toast and a whiff of espresso. The light-bodied, straightforward palate offers cherry, red currant and a hint of light spice alongside zesty acidity and polished tannins.",
         "Castiglioni",
         "87",
         "30.0",
         "Tuscany",
         "Toscana",
         null,
         "Kerin O’Keefe",
         "@kerinokeefe",
         "Marchesi de' Frescobaldi 2014 Castiglioni Red (Toscana)",
         "Red Blend",
         "Marchesi de' Frescobaldi"
        ],
        [
         "107",
         "Italy",
         "Aromas of yellow stone fruit, white spring flower and a whiff of citrus lift out of the glass. The soft round palate offers ripe apricot, yellow peach and a hint of candied nectarine zest.",
         "Ammiraglia Massovivo",
         "87",
         "18.0",
         "Tuscany",
         "Toscana",
         null,
         "Kerin O’Keefe",
         "@kerinokeefe",
         "Marchesi de' Frescobaldi 2015 Ammiraglia Massovivo Vermentino (Toscana)",
         "Vermentino",
         "Marchesi de' Frescobaldi"
        ],
        [
         "109",
         "Italy",
         "An easy-drinking blend of Merlot, Sangiovese and Cabernet Sauvignon, this opens with aromas of red berry, toast, herb and roasted coffee bean. The soft palate offers black cherry, mocha and a hint of coffee alongside bright acidity and silky tannins. Drink now.",
         "Le Volte",
         "87",
         "30.0",
         "Tuscany",
         "Toscana",
         null,
         "Kerin O’Keefe",
         "@kerinokeefe",
         "Ornellaia 2014 Le Volte Red (Toscana)",
         "Red Blend",
         "Ornellaia"
        ],
        [
         "112",
         "Italy",
         "Made with 90% Merlot and 10% Alicante, this easygoing red opens with delicate aromas suggesting red currant and baking spice. The straightforward palate delivers red plum and clove alongside soft tannins. Enjoy soon.",
         "Semifonte",
         "87",
         "15.0",
         "Tuscany",
         "Toscana",
         null,
         "Kerin O’Keefe",
         "@kerinokeefe",
         "Podere Ciona 2014 Semifonte Red (Toscana)",
         "Red Blend",
         "Podere Ciona"
        ],
        [
         "113",
         "Italy",
         "Made with Vermentino, Malvasia di Candia Aromatica and Petit Manseng, this easy-drinking white has aromas of fragrant white wild flower, citrus and white stone fruit. The ripe round palate offers apricot, lime and a hint of saline.",
         "Poetico",
         "87",
         "19.0",
         "Tuscany",
         "Toscana",
         null,
         "Kerin O’Keefe",
         "@kerinokeefe",
         "Poggioventoso 2015 Poetico White (Toscana)",
         "White Blend",
         "Poggioventoso"
        ],
        [
         "118",
         "Italy",
         "A blend of 50% Cabernet Sauvignon, 30% Merlot and 20% Sangiovese, this offers aromas of black currant, caramel and mocha. The dense palate delivers toast, leather and cedar alongside teeth-coating tannins that grip the finish.",
         "Toscano",
         "87",
         "80.0",
         "Tuscany",
         "Toscana",
         null,
         "Kerin O’Keefe",
         "@kerinokeefe",
         "Tenuta Forconi 2013 Toscano Red (Toscana)",
         "Red Blend",
         "Tenuta Forconi"
        ],
        [
         "120",
         "Italy",
         "Slightly backward, particularly given the vintage, the wine has a complex nose with plenty of dark fruit, Turkish delight, smoked meat and earth. A full rich palate, slightly soft, it begins to run out of steam a little in mid palate, but returns with a flourish, and the finish is long and nuanced. Will repay 5+ years of cellaring.",
         "Bricco Rocche Prapó",
         "92",
         "70.0",
         "Piedmont",
         "Barolo",
         null,
         null,
         null,
         "Ceretto 2003 Bricco Rocche Prapó  (Barolo)",
         "Nebbiolo",
         "Ceretto"
        ],
        [
         "130",
         "Italy",
         "At the first it was quite muted and subdued, but over a ten minute period it developed beautifully in the glass. The dark fruit is still dominant, but it is beginning to show some interesting tertiary aromas of earth, mushrooms and leather. Well balanced with a medium finish. Needs a few more years, but can be enjoyed now with a good deal of pleasure.",
         "Bricco Rocche Brunate",
         "91",
         "70.0",
         "Piedmont",
         "Barolo",
         null,
         null,
         null,
         "Ceretto 2003 Bricco Rocche Brunate  (Barolo)",
         "Nebbiolo",
         "Ceretto"
        ],
        [
         "133",
         "Italy",
         "Einaudi's wines have been improving lately, and this Barolo was very impressive, given the trying conditions of the vintage. Big rich, fat with smoked meat and a good dose of oak, the wine was one of the few that didn't peter out early but stayed on the palate to the end, culminating in an nice easy finish.",
         null,
         "91",
         "68.0",
         "Piedmont",
         "Barolo",
         null,
         null,
         null,
         "Poderi Luigi Einaudi 2003  Barolo",
         "Nebbiolo",
         "Poderi Luigi Einaudi"
        ],
        [
         "135",
         "Italy",
         "The color is just beginning to show signs of browning at the edge, but the wine is still fresh and vibrant. The nose is complex, showing licorice, summer fruits, caramel and roses. On the palate, it is soft and pleasant, but lacks some concentration.  At its peak, but will drink well for a few years.",
         "Sorano",
         "91",
         "60.0",
         "Piedmont",
         "Barolo",
         null,
         null,
         null,
         "Giacomo Ascheri 2001 Sorano  (Barolo)",
         "Nebbiolo",
         "Giacomo Ascheri"
        ],
        [
         "140",
         "Italy",
         "A big, fat, luscious wine with plenty of toasty oak, dark jammy fruit and spices. The palate showed the same lushness; with the fruit front and center with surprising length.  A delicious, rather hefty effort short on finesse but long on flavor.",
         "Costa Bruna",
         "90",
         "26.0",
         "Piedmont",
         "Barbera d'Alba",
         null,
         null,
         null,
         "Poderi Colla 2005 Costa Bruna  (Barbera d'Alba)",
         "Barbera",
         "Poderi Colla"
        ],
        [
         "141",
         "Italy",
         "This is one of the more complex wines from the 2003 vintage. The nose has aromas of blackberry liquer, smoked meat, truffle and road tar. On the palate the fruit seems a little heavier and more roasted, but still melds well with its earthy, mushroomy flavors. Medium finish.",
         "Vigna dei Pola",
         "90",
         "45.0",
         "Piedmont",
         "Barolo",
         null,
         null,
         null,
         "Giacomo Ascheri 2003 Vigna dei Pola  (Barolo)",
         "Nebbiolo",
         "Giacomo Ascheri"
        ],
        [
         "158",
         "Italy",
         "Baked plum, Asian spice, vanilla and menthol aromas carry the nose. The elegantly structured palate offers fleshy black cherry, licorice, mint and well-integrated French oak alongside fine-grained tannins that lend firm, polished support. A coffee note marks the finish.",
         "Bellezza Gran Selezione",
         "91",
         "38.0",
         "Tuscany",
         "Chianti Classico",
         null,
         "Kerin O’Keefe",
         "@kerinokeefe",
         "Castello di Gabbiano 2012 Bellezza Gran Selezione  (Chianti Classico)",
         "Sangiovese",
         "Castello di Gabbiano"
        ],
        [
         "159",
         "Italy",
         "Intense aromas of ripe red berry, menthol, espresso and star anise lead the nose. The concentrated palate offers cranberry, dried Morello cherry, sage and licorice alongside close-grained tannins that grip the finish. Drink from 2018 through 2025.",
         "Filo di Seta",
         "91",
         null,
         "Tuscany",
         "Brunello di Montalcino",
         null,
         "Kerin O’Keefe",
         "@kerinokeefe",
         "Castello Romitorio 2011 Filo di Seta  (Brunello di Montalcino)",
         "Sangiovese",
         "Castello Romitorio"
        ],
        [
         "175",
         "Italy",
         "Crisp and fresh with enduring aromas of tomato leaf, citrus, pink grapefruit and white stone, this is textbook Sauvignon from the mountainous Alto Adige region of Italy. Pair it with appetizers or lightly spicy foods.",
         "De Silva",
         "88",
         "25.0",
         "Northeastern Italy",
         "Alto Adige",
         null,
         null,
         null,
         "Tenuta Peter Sölva & Söhne 2007 De Silva Sauvignon (Alto Adige)",
         "Sauvignon",
         "Tenuta Peter Sölva & Söhne"
        ],
        [
         "177",
         "Italy",
         "This Chianti Classico strikes a beautiful balance between elegance and intensity. It has both and its pretty aromas of wild berry, rose, ginger, anise and spice come forth in a continuous, steady manner. It feels bright and lively in the mouth and ends with a touch of piquant spice.",
         null,
         "88",
         "22.0",
         "Tuscany",
         "Chianti Classico",
         null,
         null,
         null,
         "Isole e Olena 2005  Chianti Classico",
         "Sangiovese",
         "Isole e Olena"
        ],
        [
         "182",
         "Italy",
         "Loaded with bold, ripe fruit, exotic spice and leather, this is a simple but genuine expression of Brunello di Montalcino. The wine tastes thick and a bit chunky in the mouth because of its chewy, succulent tannins.",
         "M. Vigna",
         "88",
         null,
         "Tuscany",
         "Brunello di Montalcino",
         null,
         null,
         null,
         "Abbadia Ardenga 2003 M. Vigna  (Brunello di Montalcino)",
         "Sangiovese Grosso",
         "Abbadia Ardenga"
        ],
        [
         "187",
         "Italy",
         "This is a luminous, mature red wine with thick concentration and huge—almost too much—emphasis on toasted oak. Aromas recall vanilla, spice and coffee, although you will find blueberry and cherry on the finish: It is a blend of Nero d'Avola, Cabernet Sauvignon and Merlot.",
         "Montenero",
         "88",
         "48.0",
         "Sicily & Sardinia",
         "Sicilia",
         null,
         null,
         null,
         "Abbazia Santa Anastasia 2003 Montenero Red (Sicilia)",
         "Red Blend",
         "Abbazia Santa Anastasia"
        ],
        [
         "190",
         "Italy",
         "Chocolate, espresso, plum and black currant are backed by smoky nuances and natural rubber. This muscular wine offers polished tannins and firm structure to the end. A bit of wine from the 2005 and 2006 vintages is blended in.",
         "Campole",
         "87",
         "26.0",
         "Southern Italy",
         "Campania",
         null,
         null,
         null,
         "Fattoria Alois 2007 Campole Red (Campania)",
         "Red Blend",
         "Fattoria Alois"
        ],
        [
         "192",
         "Italy",
         "Here's an interesting blend of Corvina, Cabernet Sauvignon and Rondinella that reflects the aromas and power of each grape variety. The wine offers mature notes of cherry, clove, blackberry and cola: It tastes slightly sweet and very succulent.",
         "Le Pietre Santambrogio",
         "87",
         "20.0",
         "Veneto",
         "Rosso del Veronese",
         null,
         null,
         null,
         "Aldegheri 2003 Le Pietre Santambrogio Red (Rosso del Veronese)",
         "Red Blend",
         "Aldegheri"
        ],
        [
         "194",
         "Italy",
         "Here's a traditional Chianti Classico with pretty aromas of cherry cola, mesquite, almonds and violets. The wine is compact and elegant in the mouth and offers crisp berry flavors on the close.",
         null,
         "87",
         null,
         "Tuscany",
         "Chianti Classico",
         null,
         null,
         null,
         "Campomaggio 2005  Chianti Classico",
         "Sangiovese",
         "Campomaggio"
        ],
        [
         "195",
         "Italy",
         "This is a mature, jammy wine with thick layers of plum, prune and raisin. The wine's appearance is dark and concentrated and that same sensation of heaviness carries over the palate in the form of black currant and spice. The tannins are firm and tart.",
         "Riserva",
         "87",
         "35.0",
         "Tuscany",
         "Vino Nobile di Montepulciano",
         null,
         null,
         null,
         "Carpineto 2003 Riserva  (Vino Nobile di Montepulciano)",
         "Prugnolo Gentile",
         "Carpineto"
        ],
        [
         "196",
         "Italy",
         "Pancole is a pretty expression of Tuscany's popular Vernaccia di San Gimignano with a luminous, bright appearance and pristine aromas of stone and passion fruits. The wine is lean and tonic with spicy notes on the finish.",
         "Pancole",
         "87",
         "18.0",
         "Tuscany",
         "Vernaccia di San Gimignano",
         null,
         null,
         null,
         "Cesani 2007 Pancole  (Vernaccia di San Gimignano)",
         "Vernaccia",
         "Cesani"
        ],
        [
         "200",
         "Italy",
         "Aromas of mature black-skinned berry, tobacco and dark spice lead the way. The rounded palate offers dried cherry, raspberry, coffee and a licorice note alongside velvety if not very persistent tannins. Showing the heat of the vintage, this is evolving quickly so enjoy over the next several years.",
         "Riserva",
         "90",
         null,
         "Tuscany",
         "Brunello di Montalcino",
         null,
         "Kerin O’Keefe",
         "@kerinokeefe",
         "Tenuta di Sesta 2011 Riserva  (Brunello di Montalcino)",
         "Sangiovese",
         "Tenuta di Sesta"
        ]
       ],
       "shape": {
        "columns": 13,
        "rows": 19540
       }
      },
      "text/html": [
       "<div>\n",
       "<style scoped>\n",
       "    .dataframe tbody tr th:only-of-type {\n",
       "        vertical-align: middle;\n",
       "    }\n",
       "\n",
       "    .dataframe tbody tr th {\n",
       "        vertical-align: top;\n",
       "    }\n",
       "\n",
       "    .dataframe thead th {\n",
       "        text-align: right;\n",
       "    }\n",
       "</style>\n",
       "<table border=\"1\" class=\"dataframe\">\n",
       "  <thead>\n",
       "    <tr style=\"text-align: right;\">\n",
       "      <th></th>\n",
       "      <th>country</th>\n",
       "      <th>description</th>\n",
       "      <th>designation</th>\n",
       "      <th>points</th>\n",
       "      <th>price</th>\n",
       "      <th>province</th>\n",
       "      <th>region_1</th>\n",
       "      <th>region_2</th>\n",
       "      <th>taster_name</th>\n",
       "      <th>taster_twitter_handle</th>\n",
       "      <th>title</th>\n",
       "      <th>variety</th>\n",
       "      <th>winery</th>\n",
       "    </tr>\n",
       "  </thead>\n",
       "  <tbody>\n",
       "    <tr>\n",
       "      <th>0</th>\n",
       "      <td>Italy</td>\n",
       "      <td>Aromas include tropical fruit, broom, brimston...</td>\n",
       "      <td>Vulkà Bianco</td>\n",
       "      <td>87</td>\n",
       "      <td>NaN</td>\n",
       "      <td>Sicily &amp; Sardinia</td>\n",
       "      <td>Etna</td>\n",
       "      <td>NaN</td>\n",
       "      <td>Kerin O’Keefe</td>\n",
       "      <td>@kerinokeefe</td>\n",
       "      <td>Nicosia 2013 Vulkà Bianco  (Etna)</td>\n",
       "      <td>White Blend</td>\n",
       "      <td>Nicosia</td>\n",
       "    </tr>\n",
       "    <tr>\n",
       "      <th>6</th>\n",
       "      <td>Italy</td>\n",
       "      <td>Here's a bright, informal red that opens with ...</td>\n",
       "      <td>Belsito</td>\n",
       "      <td>87</td>\n",
       "      <td>16.0</td>\n",
       "      <td>Sicily &amp; Sardinia</td>\n",
       "      <td>Vittoria</td>\n",
       "      <td>NaN</td>\n",
       "      <td>Kerin O’Keefe</td>\n",
       "      <td>@kerinokeefe</td>\n",
       "      <td>Terre di Giurfo 2013 Belsito Frappato (Vittoria)</td>\n",
       "      <td>Frappato</td>\n",
       "      <td>Terre di Giurfo</td>\n",
       "    </tr>\n",
       "    <tr>\n",
       "      <th>...</th>\n",
       "      <td>...</td>\n",
       "      <td>...</td>\n",
       "      <td>...</td>\n",
       "      <td>...</td>\n",
       "      <td>...</td>\n",
       "      <td>...</td>\n",
       "      <td>...</td>\n",
       "      <td>...</td>\n",
       "      <td>...</td>\n",
       "      <td>...</td>\n",
       "      <td>...</td>\n",
       "      <td>...</td>\n",
       "      <td>...</td>\n",
       "    </tr>\n",
       "    <tr>\n",
       "      <th>129961</th>\n",
       "      <td>Italy</td>\n",
       "      <td>Intense aromas of wild cherry, baking spice, t...</td>\n",
       "      <td>NaN</td>\n",
       "      <td>90</td>\n",
       "      <td>30.0</td>\n",
       "      <td>Sicily &amp; Sardinia</td>\n",
       "      <td>Sicilia</td>\n",
       "      <td>NaN</td>\n",
       "      <td>Kerin O’Keefe</td>\n",
       "      <td>@kerinokeefe</td>\n",
       "      <td>COS 2013 Frappato (Sicilia)</td>\n",
       "      <td>Frappato</td>\n",
       "      <td>COS</td>\n",
       "    </tr>\n",
       "    <tr>\n",
       "      <th>129962</th>\n",
       "      <td>Italy</td>\n",
       "      <td>Blackberry, cassis, grilled herb and toasted a...</td>\n",
       "      <td>Sàgana Tenuta San Giacomo</td>\n",
       "      <td>90</td>\n",
       "      <td>40.0</td>\n",
       "      <td>Sicily &amp; Sardinia</td>\n",
       "      <td>Sicilia</td>\n",
       "      <td>NaN</td>\n",
       "      <td>Kerin O’Keefe</td>\n",
       "      <td>@kerinokeefe</td>\n",
       "      <td>Cusumano 2012 Sàgana Tenuta San Giacomo Nero d...</td>\n",
       "      <td>Nero d'Avola</td>\n",
       "      <td>Cusumano</td>\n",
       "    </tr>\n",
       "  </tbody>\n",
       "</table>\n",
       "<p>19540 rows × 13 columns</p>\n",
       "</div>"
      ],
      "text/plain": [
       "       country                                        description  \\\n",
       "0        Italy  Aromas include tropical fruit, broom, brimston...   \n",
       "6        Italy  Here's a bright, informal red that opens with ...   \n",
       "...        ...                                                ...   \n",
       "129961   Italy  Intense aromas of wild cherry, baking spice, t...   \n",
       "129962   Italy  Blackberry, cassis, grilled herb and toasted a...   \n",
       "\n",
       "                      designation  points  price           province  region_1  \\\n",
       "0                    Vulkà Bianco      87    NaN  Sicily & Sardinia      Etna   \n",
       "6                         Belsito      87   16.0  Sicily & Sardinia  Vittoria   \n",
       "...                           ...     ...    ...                ...       ...   \n",
       "129961                        NaN      90   30.0  Sicily & Sardinia   Sicilia   \n",
       "129962  Sàgana Tenuta San Giacomo      90   40.0  Sicily & Sardinia   Sicilia   \n",
       "\n",
       "       region_2    taster_name taster_twitter_handle  \\\n",
       "0           NaN  Kerin O’Keefe          @kerinokeefe   \n",
       "6           NaN  Kerin O’Keefe          @kerinokeefe   \n",
       "...         ...            ...                   ...   \n",
       "129961      NaN  Kerin O’Keefe          @kerinokeefe   \n",
       "129962      NaN  Kerin O’Keefe          @kerinokeefe   \n",
       "\n",
       "                                                    title       variety  \\\n",
       "0                       Nicosia 2013 Vulkà Bianco  (Etna)   White Blend   \n",
       "6        Terre di Giurfo 2013 Belsito Frappato (Vittoria)      Frappato   \n",
       "...                                                   ...           ...   \n",
       "129961                        COS 2013 Frappato (Sicilia)      Frappato   \n",
       "129962  Cusumano 2012 Sàgana Tenuta San Giacomo Nero d...  Nero d'Avola   \n",
       "\n",
       "                 winery  \n",
       "0               Nicosia  \n",
       "6       Terre di Giurfo  \n",
       "...                 ...  \n",
       "129961              COS  \n",
       "129962         Cusumano  \n",
       "\n",
       "[19540 rows x 13 columns]"
      ]
     },
     "execution_count": 15,
     "metadata": {},
     "output_type": "execute_result"
    }
   ],
   "source": [
    "italian_wines = reviews.loc[reviews.country == \"Italy\"]\n",
    "italian_wines"
   ]
  },
  {
   "cell_type": "markdown",
   "metadata": {},
   "source": [
    "## 9.\n",
    "\n",
    "Create a DataFrame `top_oceania_wines` containing all reviews with at least 95 points (out of 100) for wines from Australia or New Zealand.\n",
    "\n",
    "创建`top_oceania_wines`数据帧，其中包含对来自澳大利亚或新西兰的葡萄酒至少打 95 分（满分 100 分）的所有评论。"
   ]
  },
  {
   "cell_type": "code",
   "execution_count": 16,
   "metadata": {},
   "outputs": [
    {
     "data": {
      "application/vnd.microsoft.datawrangler.viewer.v0+json": {
       "columns": [
        {
         "name": "index",
         "rawType": "int64",
         "type": "integer"
        },
        {
         "name": "country",
         "rawType": "object",
         "type": "string"
        },
        {
         "name": "description",
         "rawType": "object",
         "type": "string"
        },
        {
         "name": "designation",
         "rawType": "object",
         "type": "unknown"
        },
        {
         "name": "points",
         "rawType": "int64",
         "type": "integer"
        },
        {
         "name": "price",
         "rawType": "float64",
         "type": "float"
        },
        {
         "name": "province",
         "rawType": "object",
         "type": "string"
        },
        {
         "name": "region_1",
         "rawType": "object",
         "type": "unknown"
        },
        {
         "name": "region_2",
         "rawType": "object",
         "type": "unknown"
        },
        {
         "name": "taster_name",
         "rawType": "object",
         "type": "unknown"
        },
        {
         "name": "taster_twitter_handle",
         "rawType": "object",
         "type": "unknown"
        },
        {
         "name": "title",
         "rawType": "object",
         "type": "string"
        },
        {
         "name": "variety",
         "rawType": "object",
         "type": "string"
        },
        {
         "name": "winery",
         "rawType": "object",
         "type": "string"
        }
       ],
       "conversionMethod": "pd.DataFrame",
       "ref": "c0f38894-1d3e-4a55-873d-fdc5ca0eaf04",
       "rows": [
        [
         "345",
         "Australia",
         "This wine contains some material over 100 years old, but shows no signs of fragility. Instead, it's concentrated through age and should hold in the bottle indefinitely. It's dark coffee-brown in color, with delectable aromas of rancio, dried fig, molasses and black tea, yet despite enormous concentration avoids excessive weight. And it's amazingly complex and fresh on the nearly endless finish.",
         "Rare",
         "100",
         "350.0",
         "Victoria",
         "Rutherglen",
         null,
         "Joe Czerwinski",
         "@JoeCz",
         "Chambers Rosewood Vineyards NV Rare Muscat (Rutherglen)",
         "Muscat",
         "Chambers Rosewood Vineyards"
        ],
        [
         "346",
         "Australia",
         "This deep brown wine smells like a damp, mossy cave. Then add complex rancio notes, plus maple syrup and molasses. It's full, round and harmonious, wonderfully rich yet without any sense of heaviness and long and bright on the finish.",
         "Rare",
         "98",
         "350.0",
         "Victoria",
         "Rutherglen",
         null,
         "Joe Czerwinski",
         "@JoeCz",
         "Chambers Rosewood Vineyards NV Rare Muscadelle (Rutherglen)",
         "Muscadelle",
         "Chambers Rosewood Vineyards"
        ],
        [
         "348",
         "Australia",
         "Deep mahogany. Dried fig and black tea on the nose, then concentrated mocha and molasses flavors, enlivened by candied orange zest. Full, rich and sweet, but surprisingly drinkable, with terrific intensity and length.",
         "Grand",
         "97",
         "100.0",
         "Victoria",
         "Rutherglen",
         null,
         "Joe Czerwinski",
         "@JoeCz",
         "Chambers Rosewood Vineyards NV Grand Muscat (Rutherglen)",
         "Muscat",
         "Chambers Rosewood Vineyards"
        ],
        [
         "349",
         "Australia",
         "RunRig is always complex, and the 2012 doesn't disappoint in that regard, mixing bacony-meaty notes with hints of black olives and ripe plums. The tannins are supremely supple, but the acids are crisp, resulting in a long, mouthwatering finish. Drink now–2030.",
         "RunRig",
         "97",
         "225.0",
         "South Australia",
         "Barossa",
         null,
         "Joe Czerwinski",
         "@JoeCz",
         "Torbreck 2012 RunRig Shiraz-Viognier (Barossa)",
         "Shiraz-Viognier",
         "Torbreck"
        ],
        [
         "356",
         "Australia",
         "Dusty, firm, powerful: just a few apt descriptors for this vintage of one of Heathcote's top wines. Mocha, licorice and blackberries feature on the nose, while the palate delivers more of the same—dark fruit, chocolate and plenty of spice. Best after 2020.",
         "Georgia's Paddock",
         "95",
         "85.0",
         "Victoria",
         "Heathcote",
         null,
         "Joe Czerwinski",
         "@JoeCz",
         "Jasper Hill 2013 Georgia's Paddock Shiraz (Heathcote)",
         "Shiraz",
         "Jasper Hill"
        ],
        [
         "360",
         "Australia",
         "Bacon and tapenade elements merge easily on the nose, followed by a wine that's full bodied and creamy textured on the palate. This is dark and meaty in profile, yet not heavy or cooked, with a long, harmonious finish. Drink now–2030.",
         "Descendant",
         "95",
         "125.0",
         "South Australia",
         "Barossa Valley",
         null,
         "Joe Czerwinski",
         "@JoeCz",
         "Torbreck 2012 Descendant Shiraz-Viognier (Barossa Valley)",
         "Shiraz-Viognier",
         "Torbreck"
        ],
        [
         "365",
         "Australia",
         "The Taylor family selected Clare Valley for its Cabernet affinity, but this Shiraz is a knockout. Yes, it's oaky—full of menthol, vanilla and toasted coconut—but there's just enough black cherry and plum fruit to support the wood. It's a plush, full-bodied wine with immense appeal, for drinking now–2025.",
         "St. Andrews Single Vineyard Release",
         "95",
         "60.0",
         "South Australia",
         "Clare Valley",
         null,
         "Joe Czerwinski",
         "@JoeCz",
         "Wakefield 2013 St. Andrews Single Vineyard Release Shiraz (Clare Valley)",
         "Shiraz",
         "Wakefield"
        ],
        [
         "14354",
         "Australia",
         "This wine's concentrated dark fruit shows in the color—a vibrant dark garnet—and in the aromas of blueberry, vanilla and dried spices. The 16% alcohol is well concealed, manifesting only as wonderfully full, creamy density on the palate, magnifying the intense cola, earth and spice complexity. A pronounced peppery, black licorice note adds extra length to the finely textured finish. Drink now–2020.",
         "Old Vine",
         "95",
         "60.0",
         "South Australia",
         "Barossa Valley",
         null,
         "Joe Czerwinski",
         "@JoeCz",
         "Kaesler 2006 Old Vine Shiraz (Barossa Valley)",
         "Shiraz",
         "Kaesler"
        ],
        [
         "16538",
         "Australia",
         "Rich, dense and intense, this is a big, muscular rendering of Barossa Shiraz. Scents of maple syrup and menthol intertwine with flavors of ripe plums and grilled meat. It's mouthcoating and long on the tannic finish, so give it some time in the cellar; drink 2020–2030.",
         "The Family Tree",
         "95",
         "65.0",
         "South Australia",
         "Barossa Valley",
         null,
         "Joe Czerwinski",
         "@JoeCz",
         "Lambert 2013 The Family Tree Shiraz (Barossa Valley)",
         "Shiraz",
         "Lambert"
        ],
        [
         "28573",
         "Australia",
         "Astralis has become one of Australia's top collectibles, and Roman Bratasiuk's 2005 version is once again top-shelf stuff. It's full-bodied and rich without being over the top, balancing dark-chocolate-covered blackberries and blueberries with more complex savory notes (spice, grilled meat). While it's a big, hulking wine at first, the finish shows great elegance and finesse, ending with silky tannins. Best from 2014. Imported by Wine Brokers Unlimited.",
         "Astralis",
         "95",
         "350.0",
         "South Australia",
         "Clarendon",
         null,
         "Joe Czerwinski",
         "@JoeCz",
         "Clarendon Hills 2005 Astralis Syrah (Clarendon)",
         "Syrah",
         "Clarendon Hills"
        ],
        [
         "34502",
         "Australia",
         "This prodigious wine showcases Barossa's ability to deliver big, mouthfilling flavors without any suggestion of heat or heaviness. Scents of stone fruit, pepper and red currants mark the nose, while the flavors take on a darker cast, heading toward black cherries and black olives. The tannins are supremely silky, but this graceful, feminine beauty should drink well through at least 2020.",
         "The Relic",
         "98",
         "135.0",
         "South Australia",
         "Barossa Valley",
         null,
         "Joe Czerwinski",
         "@JoeCz",
         "Standish 2006 The Relic Shiraz (Barossa Valley)",
         "Shiraz",
         "Standish"
        ],
        [
         "34506",
         "Australia",
         "If Standish's Relic is the feminine side of Shiraz, this is in a more masculine vein, with slightly coarser tannins and more weight, but still possessing great intensity without any heaviness. Cassis, blueberry and black olive flavors are tinged with hints of asphalt and espresso, leading into a warm, lingering finish. Drink now-2025.",
         "The Standish Single Vineyard",
         "96",
         "135.0",
         "South Australia",
         "Barossa Valley",
         null,
         "Joe Czerwinski",
         "@JoeCz",
         "Standish 2005 The Standish Single Vineyard Shiraz (Barossa Valley)",
         "Shiraz",
         "Standish"
        ],
        [
         "38988",
         "Australia",
         "Penfolds Bin 707 has leapt in quality over the past few vintages. The 2009 features hints of mint, cedar and vanilla accenting ripe cassis fruit. It's full bodied and rich, velvety without being overly soft, with a dusty tannic structure that should support it over two decades or more of aging. Drink 2015–2030+.",
         "Bin 707",
         "95",
         "200.0",
         "South Australia",
         "South Australia",
         null,
         "Joe Czerwinski",
         "@JoeCz",
         "Penfolds 2009 Bin 707 Cabernet Sauvignon (South Australia)",
         "Cabernet Sauvignon",
         "Penfolds"
        ],
        [
         "39059",
         "Australia",
         "The Taylor family selected Clare Valley for its Cabernet affinity, but this Shiraz is a knockout. Yes, it's oaky—full of menthol, vanilla and toasted coconut—but there's just enough black cherry and plum fruit to support the wood. It's a plush, full-bodied wine with immense appeal, for drinking now–2025.",
         "St. Andrews Single Vineyard Release",
         "95",
         "60.0",
         "South Australia",
         "Clare Valley",
         null,
         "Joe Czerwinski",
         "@JoeCz",
         "Wakefield 2013 St. Andrews Single Vineyard Release Shiraz (Clare Valley)",
         "Shiraz",
         "Wakefield"
        ],
        [
         "39961",
         "Australia",
         "As unevolved as they are, the dense and multilayered aromas and flavors are truly impressive here. Black currant, herb, tea, oak, vanilla, maple, anise, blueberries and more--it could be an excercise in overkill, if all the parts weren't in such fine harmony. Really big, but with excellent balance, this reveals much less now than the RWT. It is everything a flagship wine in its infancy should be--immaculate component parts, superbly full on the palate, possessed of great length and incredible potential. An absolute keeper to visit in 7, 15 or 25 years. To be released 5/01.",
         "Grange",
         "96",
         "185.0",
         "South Australia",
         "South Australia",
         null,
         null,
         null,
         "Penfolds 1996 Grange Shiraz (South Australia)",
         "Shiraz",
         "Penfolds"
        ],
        [
         "39962",
         "Australia",
         "Seamless luxury from stem to stern, this ‘baby Grange' is  impressive juice. Blackberry, menthol and smoke play unusually elegantly on the nose, the texture is velvet on the tongue with dark berry, coffee, licorice and muted black pepper flavors. The superb, very long finish combines all the elements with wonderful finesse and a rare grace. Not inexpensive, but fairly priced; you could pay twice as much for half the wine, almost any day in any fine wine store in the country. To be released 5/01.",
         "RWT",
         "95",
         "70.0",
         "South Australia",
         "Barossa Valley",
         null,
         null,
         null,
         "Penfolds 1998 RWT Shiraz (Barossa Valley)",
         "Shiraz",
         "Penfolds"
        ],
        [
         "45809",
         "Australia",
         "The 2007 Astralis impresses for its combination of power and nuance. It's dark and almost tarry in concentration, but floral and bright at the same time. Layers of dark coffee and earth are balanced by red fruit, and although it's full bodied and rich in texture, the finish introduces delicately herbal, tea-like notes. Best from 2014–2025.",
         "Astralis",
         "95",
         "225.0",
         "South Australia",
         "Clarendon",
         null,
         "Joe Czerwinski",
         "@JoeCz",
         "Clarendon Hills 2007 Astralis Syrah (Clarendon)",
         "Syrah",
         "Clarendon Hills"
        ],
        [
         "56953",
         "Australia",
         "This inky, embryonic wine deserves to be cellared until at least 2025 and should drink well for at least 25 years after that. It takes its time opening up in the glass to reveal notes of grilled meat, vanilla and plum. In the mouth, it's full bodied and firmly built, with a wall of chewy tannins surrounding a deep ripe core.",
         "Grange",
         "99",
         "850.0",
         "South Australia",
         "South Australia",
         null,
         "Joe Czerwinski",
         "@JoeCz",
         "Penfolds 2010 Grange Shiraz (South Australia)",
         "Shiraz",
         "Penfolds"
        ],
        [
         "56956",
         "Australia",
         "You may have to scour the country to secure some of this (only 14 cases were imported), but this is a treasure worth the search. It's full bodied without seeming overly rich or heavy, framing the lush notes of dark berries, grilled meat, mint and licorice with supple tannins. Spice-driven flavors linger elegantly on the lengthy finish. It's delicious now, but should age gracefully through 2030.",
         "Andelmonde",
         "97",
         "95.0",
         "South Australia",
         "Barossa Valley",
         null,
         "Joe Czerwinski",
         "@JoeCz",
         "Standish 2012 Andelmonde Shiraz (Barossa Valley)",
         "Shiraz",
         "Standish"
        ],
        [
         "56957",
         "Australia",
         "Thorn Clarke has taken its Shiraz to a new level with this single-vineyard wine, bottled only in exceptional vintages. The 100% new American oak gives this a classic Barossa profile, starting with vanilla, cedar and maple syrup-like notes and flowing seamlessly through ripe blackberry and plum flavors. It's full bodied, lush and creamy in texture, with a long, velvety finish. Drink now–2025, possibly beyond.",
         "Ron Thorn Single Vineyard",
         "96",
         "89.0",
         "South Australia",
         "Barossa",
         null,
         "Joe Czerwinski",
         "@JoeCz",
         "Thorn Clarke 2012 Ron Thorn Single Vineyard Shiraz (Barossa)",
         "Shiraz",
         "Thorn Clarke"
        ],
        [
         "56959",
         "Australia",
         "Is this the Yin to Grange's Yang? The wines are completely different, yet almost always destined to be discussed together. The 2010 HoG is aromatic and bright, with raspberry and cranberry fruit notes, hints of mint and a pinch of peppery spice. It's full-bodied, but with elegant, supple tannins that ease gently into a long, crisp finish. Drink now–2030.",
         "Hill of Grace",
         "96",
         "820.0",
         "South Australia",
         "Eden Valley",
         null,
         "Joe Czerwinski",
         "@JoeCz",
         "Henschke 2010 Hill of Grace Shiraz (Eden Valley)",
         "Shiraz",
         "Henschke"
        ],
        [
         "59977",
         "Australia",
         "This is a top example of the classic Australian blend. Cabernet (57%) provides cigar box aromas and elongates the finish, while Shiraz (43%) fills out the midpalate. The combination is full-bodied yet muscular, generous yet firmly structured. Essence of cassis is framed by hints of vanilla and cedar, while the long finish shows off chewy tannins and mouthwatering acids. Drink 2023–2035, and posssibly beyond.",
         "The Peake",
         "96",
         "150.0",
         "South Australia",
         "McLaren Vale",
         null,
         "Joe Czerwinski",
         "@JoeCz",
         "Hickinbotham 2013 The Peake Cabernet-Shiraz (McLaren Vale)",
         "Cabernet-Shiraz",
         "Hickinbotham"
        ],
        [
         "59984",
         "Australia",
         "This is a throwback to those brash, flavor-exuding Aussie wines of the past. Flashy, sweet-scented oak (think maple syrup and toasted coconut) marks the nose, while concentrated cassis and vanilla flavors coat the palate. This is big, but gorgeously so, with velvety-rich tannins and a long, plush finish. No, there's nothing subtle about this blend of 60% Cabernet and 40% Shiraz, but sometimes subtlety is overrated. Drink now–2030.",
         "One",
         "95",
         "95.0",
         "South Australia",
         "Langhorne Creek",
         null,
         "Joe Czerwinski",
         "@JoeCz",
         "Heartland 2013 One Red (Langhorne Creek)",
         "Red Blend",
         "Heartland"
        ],
        [
         "67096",
         "Australia",
         "Just a tiny serving of this dark nectar will last a long time. The malty, porter-ish aromas intrigue, followed by incredibly rich and syrupy flavors accompanied by mouthwatering acids and enormous peristence. Layers of complexity gradually unfold in the glass, revealing hints of honey, caramel and beguiling rancio notes.",
         "Calliope Rare",
         "98",
         "86.0",
         "Victoria",
         "Rutherglen",
         null,
         "Joe Czerwinski",
         "@JoeCz",
         "R.L. Buller & Son NV Calliope Rare Tokay (Rutherglen)",
         "Tokay",
         "R.L. Buller & Son"
        ],
        [
         "67101",
         "Australia",
         "This Muscat is the color of dark coffee, with a greenish inflection at the rim, showing the high average age of the blend. It is incredibly rich and sweet—it pretty much oozes across the palate with intense flavors of molasses and dried dates before finishing long, long, long. A wine you can still taste minutes after spitting or swallowing.",
         "Rare",
         "95",
         "300.0",
         "Victoria",
         "Rutherglen",
         null,
         "Joe Czerwinski",
         "@JoeCz",
         "Chambers Rosewood Vineyards NV Rare Muscat (Rutherglen)",
         "Muscat",
         "Chambers Rosewood Vineyards"
        ],
        [
         "76392",
         "Australia",
         "When the alcohol levels are reined in to appropriate levels, this can be one of Australia's top Shiraz. The 2012 is a stunning example of balance and finesse, combining youthful scents of cassis and toasty oak with floral elements. There's ample weight and texture yet silky elegance at the same time, while already complex notes of orange pekoe and black currant are sure to gain even more with five or 10 years of cellaring. Drink 2020–2030.",
         "Georgia's Paddock",
         "95",
         "85.0",
         "Victoria",
         "Heathcote",
         null,
         "Joe Czerwinski",
         "@JoeCz",
         "Jasper Hill 2012 Georgia's Paddock Shiraz (Heathcote)",
         "Shiraz",
         "Jasper Hill"
        ],
        [
         "77028",
         "Australia",
         "This has all the size and weight you've come to expect from Australia's most famous wine. Huge fruit and huge oak combine in a full-bodied, richly textured package that delivers waves of toasted coconut, vanilla and intense dark berries yet remains embryonic more than five years after the harvest. That said, the texture isn't quite as tight or as fine as some other vintages—expect this to be early maturing by Grange standards, and best from 2020–2040.",
         "Grange",
         "98",
         "850.0",
         "South Australia",
         "South Australia",
         null,
         "Joe Czerwinski",
         "@JoeCz",
         "Penfolds 2008 Grange Shiraz (South Australia)",
         "Shiraz",
         "Penfolds"
        ],
        [
         "77036",
         "Australia",
         "RWT (unromantically derived from “Red Wine Trial”) is 100% Barossa Valley Shiraz, aged in 100% French oak. In some vintages, like this one, the combination is incredibly sumptuous, offering layers of blueberry and blackberry fruit intermingled elegantly with hints of French vanilla. It's long, subtle and complex on the finish—a stunning effort. It's approachable now, but should age well through 2030 or so.",
         "RWT",
         "96",
         "150.0",
         "South Australia",
         "Barossa Valley",
         null,
         "Joe Czerwinski",
         "@JoeCz",
         "Penfolds 2009 RWT Shiraz (Barossa Valley)",
         "Shiraz",
         "Penfolds"
        ],
        [
         "77037",
         "Australia",
         "Winemaker Dave Powell is no longer with Torbreck, but the 2007 RunRig is one of his finest efforts. The complexity is almost overwhelming, as the aromas range from peppery spice and roasted meat to blueberry and tappanade. It's mouth filling and expansive, yet retains fine acids and just the right amount of slightly dusty tannins on the long finish. Approachable now, but capable of lasting at least though 2020.",
         "RunRig",
         "96",
         "225.0",
         "South Australia",
         "Barossa Valley",
         null,
         "Joe Czerwinski",
         "@JoeCz",
         "Torbreck 2007 RunRig Shiraz-Viognier (Barossa Valley)",
         "Shiraz-Viognier",
         "Torbreck"
        ],
        [
         "77042",
         "Australia",
         "This is likely the most ageworthy Shiraz winemaker John Duval has crafted since leaving Penfolds. The oak is subtle, the fruit still tight. It's full bodied but bursting with potential, shown in hints of black cherries and plums, mocha and mint. The finish is long, mouthwatering and softly dusty in texture, making it luscious yet firm. Drink 2018–2030.",
         "Eligo",
         "95",
         "100.0",
         "South Australia",
         "Barossa",
         null,
         "Joe Czerwinski",
         "@JoeCz",
         "John Duval Wines 2010 Eligo Shiraz (Barossa)",
         "Shiraz",
         "John Duval Wines"
        ],
        [
         "77044",
         "Australia",
         "The fruit for this offering comes from the Green's and Crowhurst vineyards. This wine brings a a sense of cellarworthiness, from the inky color and dense, impenetrable bouquet to the richly tannic palate and long, plushly textured finish. Right now, it delivers hints of toast and mint, blueberry and plum fruit and savory notes of roasted meat and mocha. Drink 2018–2025+.",
         "R Reserve",
         "95",
         "105.0",
         "South Australia",
         "Barossa Valley",
         null,
         "Joe Czerwinski",
         "@JoeCz",
         "Kilikanoon 2009 R Reserve Shiraz (Barossa Valley)",
         "Shiraz",
         "Kilikanoon"
        ],
        [
         "77046",
         "Australia",
         "With aromas and flavors that range widely from grilled meat, espresso and black olive to dried herbs, cracked pepper and blueberry, this is an enormously complex wine. It's full bodied but balanced by ample acidity, which imparts terrific length to the finish. Drink now–2017, possibly longer.",
         "The Factor",
         "95",
         "125.0",
         "South Australia",
         "Barossa Valley",
         null,
         "Joe Czerwinski",
         "@JoeCz",
         "Torbreck 2007 The Factor Shiraz (Barossa Valley)",
         "Shiraz",
         "Torbreck"
        ],
        [
         "83357",
         "Australia",
         "A throwback to the monster Shiraz style of old, with loads of toasty, vanilla-laden oak, meaty nuances and driving, intense boysenberry fruit, the 2004 Grange should prove tremendously long-lived. Its massive concentration and firm tannins suggest cellaring through 2020, after which it should drink well for at least another decade or two.",
         "Grange",
         "96",
         "500.0",
         "South Australia",
         "South Australia",
         null,
         "Joe Czerwinski",
         "@JoeCz",
         "Penfolds 2004 Grange Shiraz (South Australia)",
         "Shiraz",
         "Penfolds"
        ],
        [
         "84815",
         "Australia",
         "The Factor is always one of Torbreck's biggest wines. The 2012 continues that tradition, offering ample weight, richness and texture. Alluring notes of Christmas spices and plum pudding mark the nose, while the flavors continue the dark theme, picking up hints of cola and roasted meat before finishing somewhere between creamy and velvety, spicy and peppery. Drink now–2030.",
         "The Factor",
         "95",
         "125.0",
         "South Australia",
         "Barossa",
         null,
         "Joe Czerwinski",
         "@JoeCz",
         "Torbreck 2012 The Factor Shiraz (Barossa)",
         "Shiraz",
         "Torbreck"
        ],
        [
         "84816",
         "Australia",
         "Nashwauk is Kaesler's McLaren Vale project, first released from the 2006 vintage. The 2010 is full bodied, creamy-textured and plush, filled with dark fruit and hints of vanilla, asphalt, maple syrup and mocha. The supple tannins enhance rather than impede the finish, contributing scary length. Drink now–2030.",
         "Beacon",
         "95",
         "145.0",
         "South Australia",
         "McLaren Vale",
         null,
         "Joe Czerwinski",
         "@JoeCz",
         "Nashwauk 2010 Beacon Shiraz (McLaren Vale)",
         "Shiraz",
         "Nashwauk"
        ],
        [
         "87128",
         "Australia",
         "This full-bodied, muscular Shiraz is built for the ages. Baking spices and plummy fruit form a concentrated, nearly impenetrable wall on the nose, while the palate is nearly dense enough to stand a fork in. Despite all that, it's not overly heavy or fudge-like, instead offering tremendous poise, purity and length. Drink 2020–2030, and likely then some.",
         "Amery Vineyard Block 6",
         "96",
         "120.0",
         "South Australia",
         "McLaren Vale",
         null,
         "Joe Czerwinski",
         "@JoeCz",
         "Kay Brothers 2012 Amery Vineyard Block 6 Shiraz (McLaren Vale)",
         "Shiraz",
         "Kay Brothers"
        ],
        [
         "87137",
         "Australia",
         "Perhaps the best young wine I've tasted from Margaret River, this makes a compelling case for the region's Cabernet. Pure cassis fruit is lifted and framed by hints of toasted cedar, making for soaring aromatics and flavors, but what sets this wine apart is the tender, silky texture married to ample weight and richness. The finish lingers, with a supple, dreamy character that speaks to a gentle climate and careful winemaking. Drink now–2030.",
         null,
         "95",
         "84.0",
         "Western Australia",
         "Margaret River",
         null,
         "Joe Czerwinski",
         "@JoeCz",
         "Moss Wood 2011 Cabernet Sauvignon (Margaret River)",
         "Cabernet Sauvignon",
         "Moss Wood"
        ],
        [
         "87143",
         "Australia",
         "This is wonderfully complex and aromatic, with scents ranging from baking spices and savory beef to mixed berries. That swirl of seeming contradictions continues on the palate, backed by luxurious, supple tannins that linger softly on the finish. Drink now–2025.",
         "St. Andrews Single Vineyard Release",
         "95",
         "60.0",
         "South Australia",
         "Clare Valley",
         null,
         "Joe Czerwinski",
         "@JoeCz",
         "Wakefield 2012 St. Andrews Single Vineyard Release Shiraz (Clare Valley)",
         "Shiraz",
         "Wakefield"
        ],
        [
         "91851",
         "New Zealand",
         "This full-bodied, richly tannic wine delivers. It starts off with savory notes of cracked pepper, black olives, violets and cedar, then eases into concentrated flavors of blueberries and roasted meat before ending with a flourish of firm, dusty tannins. Give it a few years to soften. Drink 2020–2030.",
         "Homage",
         "95",
         "100.0",
         "Hawke's Bay",
         null,
         null,
         "Joe Czerwinski",
         "@JoeCz",
         "Trinity Hill 2013 Homage Syrah (Hawke's Bay)",
         "Syrah",
         "Trinity Hill"
        ],
        [
         "98386",
         "Australia",
         "One of the more approachable of the d'Arenberg single-vineyard collection of wines, this opens with notes of brown sugar, tarry fruit and bright cassis. It's full bodied and creamy in texture, with flavors of mocha, cassis and vanilla that culminate in a long, dusty finish. Drink now–2025.",
         "Little Venice Single Vineyard",
         "95",
         "85.0",
         "South Australia",
         "McLaren Vale",
         null,
         "Joe Czerwinski",
         "@JoeCz",
         "D'Arenberg 2010 Little Venice Single Vineyard Shiraz (McLaren Vale)",
         "Shiraz",
         "D'Arenberg"
        ],
        [
         "99318",
         "Australia",
         "From vines planted in 1912, this has been an icon of South Australia Shiaz since 1952, when it was first bottled as a single-vineyard wine. Menthol and vanilla notes frame black cherries and cassis on the nose, while the palate reveals supple tannins and meaty, savory complexities. The finish is softly dusty, fine and long. Drink now–2030.",
         "Mount Edelstone Vineyard",
         "95",
         "200.0",
         "South Australia",
         "Eden Valley",
         null,
         "Joe Czerwinski",
         "@JoeCz",
         "Henschke 2014 Mount Edelstone Vineyard Shiraz (Eden Valley)",
         "Shiraz",
         "Henschke"
        ],
        [
         "99330",
         "Australia",
         "This Cabernet equivalent to Grange has exploded in price (I remember tasting the 1996 on release when it was $25 per bottle), but there's no questioning the quality. A deep, intense nose of cassis, earth, menthol and cedar is followed by a full, rich palate that's supple without being soft. Brighter notes of red fruit emerge on the lengthy finish, which is dominated by sweet fruit and creamy lactones. Drink 2020–2030, and probably well beyond.",
         "Bin 707",
         "95",
         "500.0",
         "South Australia",
         "South Australia",
         null,
         "Joe Czerwinski",
         "@JoeCz",
         "Penfolds 2014 Bin 707 Cabernet Sauvignon (South Australia)",
         "Cabernet Sauvignon",
         "Penfolds"
        ],
        [
         "99340",
         "Australia",
         "This rich, opulent wine carries its massive oak load easily, marrying vanilla and toasted coconut notes with ripe plum and black cherry flavors. It's full bodied and plush, with supple tannins supported by the wood. Give it a few years to knit together and drink it 2020–2030.",
         "Les Amis",
         "95",
         "185.0",
         "South Australia",
         "Barossa Valley",
         null,
         "Joe Czerwinski",
         "@JoeCz",
         "Torbreck 2013 Les Amis Grenache (Barossa Valley)",
         "Grenache",
         "Torbreck"
        ],
        [
         "109427",
         "Australia",
         "This wine is dark brown in hue with a greenish-gold tint to its rim, providing clues to its advanced age. The aromas are nutty, with mossy notes of rancio filled out by sweet flavors of dried dates and figs. It's full bodied and unctuous in texture, without being overblown or heavy on the palate. The intense finish lingers forever—or at least until you give in and take another sip.",
         "Rare",
         "99",
         "300.0",
         "Victoria",
         "Rutherglen",
         null,
         "Joe Czerwinski",
         "@JoeCz",
         "Chambers Rosewood Vineyards NV Rare Muscadelle (Rutherglen)",
         "Muscadelle",
         "Chambers Rosewood Vineyards"
        ],
        [
         "109434",
         "Australia",
         "D'Arenberg's lineup of single-vineyard Shirazes is especially impressive in the 2010 vintage, and this was one of my favorites. The aromas are tight, nearly impenetrable at first, then only stubbornly yielding hints of graphite, but the mouthfeel is expansive and richly textured. Aristocratic notes of pencil shavings balance supple tannins and layers of dark fruit, concluding in espresso and chocolate on the finish. Drink now–2030.",
         "The Swinging Malaysian Single Vineyard",
         "96",
         "85.0",
         "South Australia",
         "McLaren Vale",
         null,
         "Joe Czerwinski",
         "@JoeCz",
         "D'Arenberg 2010 The Swinging Malaysian Single Vineyard Shiraz (McLaren Vale)",
         "Shiraz",
         "D'Arenberg"
        ],
        [
         "122421",
         "Australia",
         "Despite this wine's weight and richness, it retains a superb sense of balance and structure. Firm acids and tannins support the blueberry fruit, while savory notes of mocha and roasted meat provide added dimension. Give it a few years in the cellar and drink it from 2015–2025.",
         "Amon-Ra Unfiltered",
         "96",
         "110.0",
         "South Australia",
         "Barossa Valley",
         null,
         "Joe Czerwinski",
         "@JoeCz",
         "Glaetzer 2010 Amon-Ra Unfiltered Shiraz (Barossa Valley)",
         "Shiraz",
         "Glaetzer"
        ],
        [
         "122430",
         "Australia",
         "These blends are traditional in Australia—they're just rarely this good. The 26% Cabernet gives great backbone and a sense of restraint to the wine, which might otherwise seem overdone or sloppy. Instead, there's a blend of blueberry and cassis fruit, Port-like spices and a long, dusty finish. Drink 2015–2025, possibly beyond.",
         "Anaperenna",
         "95",
         "80.0",
         "South Australia",
         "Barossa Valley",
         null,
         "Joe Czerwinski",
         "@JoeCz",
         "Glaetzer 2010 Anaperenna Shiraz-Cabernet Sauvignon (Barossa Valley)",
         "Shiraz-Cabernet Sauvignon",
         "Glaetzer"
        ],
        [
         "122507",
         "New Zealand",
         "This blend of Cabernet Sauvignon (62.5%), Merlot (25%) and Cabernet Franc (12.5%) is aged in one-third new French oak for 10 months, resulting in a lovely marriage of vanilla and cedar with cassis. The wine is youthful and primary, but the oak and fruit are seamlessly integrated, blending baking spices and chocolate into the mix. Richly textured, with a long finish, this wine is delicious now, but should age well through 2030.",
         "SQM Gimblett Gravels Cabernets/Merlot",
         "95",
         "79.0",
         "Hawke's Bay",
         null,
         null,
         "Joe Czerwinski",
         "@JoeCz",
         "Squawking Magpie 2014 SQM Gimblett Gravels Cabernets/Merlot Red (Hawke's Bay)",
         "Bordeaux-style Red Blend",
         "Squawking Magpie"
        ],
        [
         "122939",
         "Australia",
         "Full-bodied and plush yet vibrant and imbued with fresh fruit, this is simply superb. The oak is present but never dominant, adding brown sugar and cinnamon elements to blueberry, roasted meat, espresso and black olive notes. A hint of peppery spice also creeps into this impossibly complex wine. The finish combines power, length, freshness and dusty tannins, suggesting that while impressive now, it should age well. Drink now–2030.",
         "The Factor",
         "98",
         "125.0",
         "South Australia",
         "Barossa Valley",
         null,
         "Joe Czerwinski",
         "@JoeCz",
         "Torbreck 2013 The Factor Shiraz (Barossa Valley)",
         "Shiraz",
         "Torbreck"
        ]
       ],
       "shape": {
        "columns": 13,
        "rows": 49
       }
      },
      "text/html": [
       "<div>\n",
       "<style scoped>\n",
       "    .dataframe tbody tr th:only-of-type {\n",
       "        vertical-align: middle;\n",
       "    }\n",
       "\n",
       "    .dataframe tbody tr th {\n",
       "        vertical-align: top;\n",
       "    }\n",
       "\n",
       "    .dataframe thead th {\n",
       "        text-align: right;\n",
       "    }\n",
       "</style>\n",
       "<table border=\"1\" class=\"dataframe\">\n",
       "  <thead>\n",
       "    <tr style=\"text-align: right;\">\n",
       "      <th></th>\n",
       "      <th>country</th>\n",
       "      <th>description</th>\n",
       "      <th>designation</th>\n",
       "      <th>points</th>\n",
       "      <th>price</th>\n",
       "      <th>province</th>\n",
       "      <th>region_1</th>\n",
       "      <th>region_2</th>\n",
       "      <th>taster_name</th>\n",
       "      <th>taster_twitter_handle</th>\n",
       "      <th>title</th>\n",
       "      <th>variety</th>\n",
       "      <th>winery</th>\n",
       "    </tr>\n",
       "  </thead>\n",
       "  <tbody>\n",
       "    <tr>\n",
       "      <th>345</th>\n",
       "      <td>Australia</td>\n",
       "      <td>This wine contains some material over 100 year...</td>\n",
       "      <td>Rare</td>\n",
       "      <td>100</td>\n",
       "      <td>350.0</td>\n",
       "      <td>Victoria</td>\n",
       "      <td>Rutherglen</td>\n",
       "      <td>NaN</td>\n",
       "      <td>Joe Czerwinski</td>\n",
       "      <td>@JoeCz</td>\n",
       "      <td>Chambers Rosewood Vineyards NV Rare Muscat (Ru...</td>\n",
       "      <td>Muscat</td>\n",
       "      <td>Chambers Rosewood Vineyards</td>\n",
       "    </tr>\n",
       "    <tr>\n",
       "      <th>346</th>\n",
       "      <td>Australia</td>\n",
       "      <td>This deep brown wine smells like a damp, mossy...</td>\n",
       "      <td>Rare</td>\n",
       "      <td>98</td>\n",
       "      <td>350.0</td>\n",
       "      <td>Victoria</td>\n",
       "      <td>Rutherglen</td>\n",
       "      <td>NaN</td>\n",
       "      <td>Joe Czerwinski</td>\n",
       "      <td>@JoeCz</td>\n",
       "      <td>Chambers Rosewood Vineyards NV Rare Muscadelle...</td>\n",
       "      <td>Muscadelle</td>\n",
       "      <td>Chambers Rosewood Vineyards</td>\n",
       "    </tr>\n",
       "    <tr>\n",
       "      <th>...</th>\n",
       "      <td>...</td>\n",
       "      <td>...</td>\n",
       "      <td>...</td>\n",
       "      <td>...</td>\n",
       "      <td>...</td>\n",
       "      <td>...</td>\n",
       "      <td>...</td>\n",
       "      <td>...</td>\n",
       "      <td>...</td>\n",
       "      <td>...</td>\n",
       "      <td>...</td>\n",
       "      <td>...</td>\n",
       "      <td>...</td>\n",
       "    </tr>\n",
       "    <tr>\n",
       "      <th>122507</th>\n",
       "      <td>New Zealand</td>\n",
       "      <td>This blend of Cabernet Sauvignon (62.5%), Merl...</td>\n",
       "      <td>SQM Gimblett Gravels Cabernets/Merlot</td>\n",
       "      <td>95</td>\n",
       "      <td>79.0</td>\n",
       "      <td>Hawke's Bay</td>\n",
       "      <td>NaN</td>\n",
       "      <td>NaN</td>\n",
       "      <td>Joe Czerwinski</td>\n",
       "      <td>@JoeCz</td>\n",
       "      <td>Squawking Magpie 2014 SQM Gimblett Gravels Cab...</td>\n",
       "      <td>Bordeaux-style Red Blend</td>\n",
       "      <td>Squawking Magpie</td>\n",
       "    </tr>\n",
       "    <tr>\n",
       "      <th>122939</th>\n",
       "      <td>Australia</td>\n",
       "      <td>Full-bodied and plush yet vibrant and imbued w...</td>\n",
       "      <td>The Factor</td>\n",
       "      <td>98</td>\n",
       "      <td>125.0</td>\n",
       "      <td>South Australia</td>\n",
       "      <td>Barossa Valley</td>\n",
       "      <td>NaN</td>\n",
       "      <td>Joe Czerwinski</td>\n",
       "      <td>@JoeCz</td>\n",
       "      <td>Torbreck 2013 The Factor Shiraz (Barossa Valley)</td>\n",
       "      <td>Shiraz</td>\n",
       "      <td>Torbreck</td>\n",
       "    </tr>\n",
       "  </tbody>\n",
       "</table>\n",
       "<p>49 rows × 13 columns</p>\n",
       "</div>"
      ],
      "text/plain": [
       "            country                                        description  \\\n",
       "345       Australia  This wine contains some material over 100 year...   \n",
       "346       Australia  This deep brown wine smells like a damp, mossy...   \n",
       "...             ...                                                ...   \n",
       "122507  New Zealand  This blend of Cabernet Sauvignon (62.5%), Merl...   \n",
       "122939    Australia  Full-bodied and plush yet vibrant and imbued w...   \n",
       "\n",
       "                                  designation  points  price         province  \\\n",
       "345                                      Rare     100  350.0         Victoria   \n",
       "346                                      Rare      98  350.0         Victoria   \n",
       "...                                       ...     ...    ...              ...   \n",
       "122507  SQM Gimblett Gravels Cabernets/Merlot      95   79.0      Hawke's Bay   \n",
       "122939                             The Factor      98  125.0  South Australia   \n",
       "\n",
       "              region_1 region_2     taster_name taster_twitter_handle  \\\n",
       "345         Rutherglen      NaN  Joe Czerwinski                @JoeCz   \n",
       "346         Rutherglen      NaN  Joe Czerwinski                @JoeCz   \n",
       "...                ...      ...             ...                   ...   \n",
       "122507             NaN      NaN  Joe Czerwinski                @JoeCz   \n",
       "122939  Barossa Valley      NaN  Joe Czerwinski                @JoeCz   \n",
       "\n",
       "                                                    title  \\\n",
       "345     Chambers Rosewood Vineyards NV Rare Muscat (Ru...   \n",
       "346     Chambers Rosewood Vineyards NV Rare Muscadelle...   \n",
       "...                                                   ...   \n",
       "122507  Squawking Magpie 2014 SQM Gimblett Gravels Cab...   \n",
       "122939   Torbreck 2013 The Factor Shiraz (Barossa Valley)   \n",
       "\n",
       "                         variety                       winery  \n",
       "345                       Muscat  Chambers Rosewood Vineyards  \n",
       "346                   Muscadelle  Chambers Rosewood Vineyards  \n",
       "...                          ...                          ...  \n",
       "122507  Bordeaux-style Red Blend             Squawking Magpie  \n",
       "122939                    Shiraz                     Torbreck  \n",
       "\n",
       "[49 rows x 13 columns]"
      ]
     },
     "execution_count": 16,
     "metadata": {},
     "output_type": "execute_result"
    }
   ],
   "source": [
    "top_oceania_wines = reviews.loc[(reviews.country.isin([\"Australia\", \"New Zealand\"])) & (reviews.points >= 95)]\n",
    "top_oceania_wines"
   ]
  },
  {
   "cell_type": "markdown",
   "metadata": {},
   "source": [
    "Don't forget to use parenthesis!"
   ]
  }
 ],
 "metadata": {
  "kernelspec": {
   "display_name": "kaggle",
   "language": "python",
   "name": "python3"
  },
  "language_info": {
   "codemirror_mode": {
    "name": "ipython",
    "version": 3
   },
   "file_extension": ".py",
   "mimetype": "text/x-python",
   "name": "python",
   "nbconvert_exporter": "python",
   "pygments_lexer": "ipython3",
   "version": "3.12.9"
  }
 },
 "nbformat": 4,
 "nbformat_minor": 2
}
