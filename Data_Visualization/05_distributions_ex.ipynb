{
 "cells": [
  {
   "cell_type": "code",
   "execution_count": 1,
   "metadata": {},
   "outputs": [
    {
     "name": "stdout",
     "output_type": "stream",
     "text": [
      "Setup Complete\n"
     ]
    }
   ],
   "source": [
    "import pandas as pd\n",
    "pd.plotting.register_matplotlib_converters()\n",
    "import matplotlib.pyplot as plt\n",
    "%matplotlib inline\n",
    "import seaborn as sns\n",
    "print(\"Setup Complete\")"
   ]
  },
  {
   "cell_type": "markdown",
   "metadata": {},
   "source": [
    "In this exercise, you will use your new knowledge to propose a solution to a real-world scenario.  To succeed, you will need to import data into Python, answer questions using the data, and generate **histograms** and **density plots** to understand patterns in the data.\n",
    "\n",
    "在本练习中，您将使用新知识针对实际场景提出解决方案。  要取得成功，您需要将数据导入 Python，使用数据回答问题，并生成**histograms**和**density plots**，以了解数据中的模式。\n",
    "\n",
    "## Scenario\n",
    "\n",
    "You'll work with a real-world dataset containing information collected from microscopic images of breast cancer tumors, similar to the image below.\n",
    "\n",
    "您将使用一个真实世界的数据集，该数据集包含从乳腺癌肿瘤显微图像中收集的信息，与下图类似。\n",
    "\n",
    "![ex4_cancer_image](https://storage.googleapis.com/kaggle-media/learn/images/qUESsJe.png)\n",
    "\n",
    "Each tumor has been labeled as either [**benign**](https://en.wikipedia.org/wiki/Benign_tumor) (_noncancerous_) or **malignant** (_cancerous_).\n",
    "\n",
    "每个肿瘤都被标记为[**良性**](https://en.wikipedia.org/wiki/Benign_tumor)（_noncancerous_）或**恶性**（_cancerous_）。\n",
    "\n",
    "To learn more about how this kind of data is used to create intelligent algorithms to classify tumors in medical settings, **watch the short video [at this link](https://www.youtube.com/watch?v=9Mz84cwVmS0)**.\n",
    "\n",
    "要进一步了解此类数据如何用于创建智能算法，对医疗环境中的肿瘤进行分类，请 **观看[本链接](https://www.youtube.com/watch?v=9Mz84cwVmS0)** 的视频短片。"
   ]
  },
  {
   "cell_type": "markdown",
   "metadata": {},
   "source": [
    "## Step 1: Load the data\n",
    "\n",
    "In this step, you will load the data.\n",
    "- Load the data file into a DataFrame called `cancer_data`.  \n",
    "- The corresponding filepath is `cancer_filepath`.  \n",
    "- Use the `\"Id\"` column to label the rows.\n",
    "\n",
    "在这一步中，您将加载数据。\n",
    "- 将数据文件加载到名为`cancer_data`的 DataFrame 中。  \n",
    "- 相应的文件路径是 `cancer_filepath`。  \n",
    "- 使用 `\"Id\"`列来标记行。"
   ]
  },
  {
   "cell_type": "code",
   "execution_count": 2,
   "metadata": {},
   "outputs": [],
   "source": [
    "# Path of the files to read\n",
    "cancer_filepath = \"./input/cancer.csv\"\n",
    "\n",
    "# Fill in the line below to read the file into a variable cancer_data\n",
    "cancer_data = pd.read_csv(cancer_filepath, index_col=\"Id\")"
   ]
  },
  {
   "cell_type": "markdown",
   "metadata": {},
   "source": [
    "## Step 2: Review the data\n",
    "\n",
    "Use a Python command to print the first 5 rows of the data."
   ]
  },
  {
   "cell_type": "code",
   "execution_count": 3,
   "metadata": {},
   "outputs": [
    {
     "data": {
      "application/vnd.microsoft.datawrangler.viewer.v0+json": {
       "columns": [
        {
         "name": "Id",
         "rawType": "int64",
         "type": "integer"
        },
        {
         "name": "Diagnosis",
         "rawType": "object",
         "type": "string"
        },
        {
         "name": "Radius (mean)",
         "rawType": "float64",
         "type": "float"
        },
        {
         "name": "Texture (mean)",
         "rawType": "float64",
         "type": "float"
        },
        {
         "name": "Perimeter (mean)",
         "rawType": "float64",
         "type": "float"
        },
        {
         "name": "Area (mean)",
         "rawType": "float64",
         "type": "float"
        },
        {
         "name": "Smoothness (mean)",
         "rawType": "float64",
         "type": "float"
        },
        {
         "name": "Compactness (mean)",
         "rawType": "float64",
         "type": "float"
        },
        {
         "name": "Concavity (mean)",
         "rawType": "float64",
         "type": "float"
        },
        {
         "name": "Concave points (mean)",
         "rawType": "float64",
         "type": "float"
        },
        {
         "name": "Symmetry (mean)",
         "rawType": "float64",
         "type": "float"
        },
        {
         "name": "Fractal dimension (mean)",
         "rawType": "float64",
         "type": "float"
        },
        {
         "name": "Radius (se)",
         "rawType": "float64",
         "type": "float"
        },
        {
         "name": "Texture (se)",
         "rawType": "float64",
         "type": "float"
        },
        {
         "name": "Perimeter (se)",
         "rawType": "float64",
         "type": "float"
        },
        {
         "name": "Area (se)",
         "rawType": "float64",
         "type": "float"
        },
        {
         "name": "Smoothness (se)",
         "rawType": "float64",
         "type": "float"
        },
        {
         "name": "Compactness (se)",
         "rawType": "float64",
         "type": "float"
        },
        {
         "name": "Concavity (se)",
         "rawType": "float64",
         "type": "float"
        },
        {
         "name": "Concave points (se)",
         "rawType": "float64",
         "type": "float"
        },
        {
         "name": "Symmetry (se)",
         "rawType": "float64",
         "type": "float"
        },
        {
         "name": "Fractal dimension (se)",
         "rawType": "float64",
         "type": "float"
        },
        {
         "name": "Radius (worst)",
         "rawType": "float64",
         "type": "float"
        },
        {
         "name": "Texture (worst)",
         "rawType": "float64",
         "type": "float"
        },
        {
         "name": "Perimeter (worst)",
         "rawType": "float64",
         "type": "float"
        },
        {
         "name": "Area (worst)",
         "rawType": "float64",
         "type": "float"
        },
        {
         "name": "Smoothness (worst)",
         "rawType": "float64",
         "type": "float"
        },
        {
         "name": "Compactness (worst)",
         "rawType": "float64",
         "type": "float"
        },
        {
         "name": "Concavity (worst)",
         "rawType": "float64",
         "type": "float"
        },
        {
         "name": "Concave points (worst)",
         "rawType": "float64",
         "type": "float"
        },
        {
         "name": "Symmetry (worst)",
         "rawType": "float64",
         "type": "float"
        },
        {
         "name": "Fractal dimension (worst)",
         "rawType": "float64",
         "type": "float"
        }
       ],
       "conversionMethod": "pd.DataFrame",
       "ref": "d827d7e0-6b7f-4d30-a141-1df4037450d0",
       "rows": [
        [
         "8510426",
         "B",
         "13.54",
         "14.36",
         "87.46",
         "566.3",
         "0.09779",
         "0.08129",
         "0.0666399999999999",
         "0.04781",
         "0.1885",
         "0.05766",
         "0.2699",
         "0.7886",
         "2.0580000000000003",
         "23.56",
         "0.008462",
         "0.0146",
         "0.02387",
         "0.01315",
         "0.0198",
         "0.0023",
         "15.11",
         "19.26",
         "99.7",
         "711.2",
         "0.144",
         "0.1773",
         "0.239",
         "0.1288",
         "0.2977",
         "0.07259"
        ],
        [
         "8510653",
         "B",
         "13.08",
         "15.71",
         "85.63",
         "520.0",
         "0.1075",
         "0.127",
         "0.04568",
         "0.0311",
         "0.1967",
         "0.06811",
         "0.1852",
         "0.7477",
         "1.383",
         "14.67",
         "0.004097",
         "0.01898",
         "0.01698",
         "0.00649",
         "0.01678",
         "0.002425",
         "14.5",
         "20.49",
         "96.09",
         "630.5",
         "0.1312",
         "0.2776",
         "0.1889999999999999",
         "0.0728299999999999",
         "0.3184",
         "0.08183"
        ],
        [
         "8510824",
         "B",
         "9.504",
         "12.44",
         "60.34",
         "273.9",
         "0.1024",
         "0.06492",
         "0.02956",
         "0.02076",
         "0.1815",
         "0.06905",
         "0.2773",
         "0.9768",
         "1.909",
         "15.7",
         "0.009606",
         "0.01432",
         "0.01985",
         "0.0142099999999999",
         "0.02027",
         "0.002968",
         "10.23",
         "15.66",
         "65.13",
         "314.9",
         "0.1324",
         "0.1148",
         "0.08867",
         "0.06227",
         "0.245",
         "0.07773"
        ],
        [
         "854941",
         "B",
         "13.03",
         "18.42",
         "82.61",
         "523.8",
         "0.08983",
         "0.03766",
         "0.02562",
         "0.02923",
         "0.1467",
         "0.0586299999999999",
         "0.1839",
         "2.342",
         "1.17",
         "14.16",
         "0.004352",
         "0.004899",
         "0.01343",
         "0.01164",
         "0.02671",
         "0.001777",
         "13.3",
         "22.81",
         "84.46",
         "545.9",
         "0.09701",
         "0.0461899999999999",
         "0.04833",
         "0.05013",
         "0.1987",
         "0.0616899999999999"
        ],
        [
         "85713702",
         "B",
         "8.196",
         "16.84",
         "51.71",
         "201.9",
         "0.086",
         "0.05943",
         "0.01588",
         "0.005917",
         "0.1769",
         "0.0650299999999999",
         "0.1563",
         "0.9567",
         "1.094",
         "8.205",
         "0.008968",
         "0.01646",
         "0.01588",
         "0.005917",
         "0.02574",
         "0.002582",
         "8.964",
         "21.96",
         "57.26",
         "242.2",
         "0.1297",
         "0.1357",
         "0.0688",
         "0.0256399999999999",
         "0.3105",
         "0.07409"
        ]
       ],
       "shape": {
        "columns": 31,
        "rows": 5
       }
      },
      "text/html": [
       "<div>\n",
       "<style scoped>\n",
       "    .dataframe tbody tr th:only-of-type {\n",
       "        vertical-align: middle;\n",
       "    }\n",
       "\n",
       "    .dataframe tbody tr th {\n",
       "        vertical-align: top;\n",
       "    }\n",
       "\n",
       "    .dataframe thead th {\n",
       "        text-align: right;\n",
       "    }\n",
       "</style>\n",
       "<table border=\"1\" class=\"dataframe\">\n",
       "  <thead>\n",
       "    <tr style=\"text-align: right;\">\n",
       "      <th></th>\n",
       "      <th>Diagnosis</th>\n",
       "      <th>Radius (mean)</th>\n",
       "      <th>Texture (mean)</th>\n",
       "      <th>Perimeter (mean)</th>\n",
       "      <th>Area (mean)</th>\n",
       "      <th>Smoothness (mean)</th>\n",
       "      <th>Compactness (mean)</th>\n",
       "      <th>Concavity (mean)</th>\n",
       "      <th>Concave points (mean)</th>\n",
       "      <th>Symmetry (mean)</th>\n",
       "      <th>...</th>\n",
       "      <th>Radius (worst)</th>\n",
       "      <th>Texture (worst)</th>\n",
       "      <th>Perimeter (worst)</th>\n",
       "      <th>Area (worst)</th>\n",
       "      <th>Smoothness (worst)</th>\n",
       "      <th>Compactness (worst)</th>\n",
       "      <th>Concavity (worst)</th>\n",
       "      <th>Concave points (worst)</th>\n",
       "      <th>Symmetry (worst)</th>\n",
       "      <th>Fractal dimension (worst)</th>\n",
       "    </tr>\n",
       "    <tr>\n",
       "      <th>Id</th>\n",
       "      <th></th>\n",
       "      <th></th>\n",
       "      <th></th>\n",
       "      <th></th>\n",
       "      <th></th>\n",
       "      <th></th>\n",
       "      <th></th>\n",
       "      <th></th>\n",
       "      <th></th>\n",
       "      <th></th>\n",
       "      <th></th>\n",
       "      <th></th>\n",
       "      <th></th>\n",
       "      <th></th>\n",
       "      <th></th>\n",
       "      <th></th>\n",
       "      <th></th>\n",
       "      <th></th>\n",
       "      <th></th>\n",
       "      <th></th>\n",
       "      <th></th>\n",
       "    </tr>\n",
       "  </thead>\n",
       "  <tbody>\n",
       "    <tr>\n",
       "      <th>8510426</th>\n",
       "      <td>B</td>\n",
       "      <td>13.540</td>\n",
       "      <td>14.36</td>\n",
       "      <td>87.46</td>\n",
       "      <td>566.3</td>\n",
       "      <td>0.09779</td>\n",
       "      <td>0.08129</td>\n",
       "      <td>0.06664</td>\n",
       "      <td>0.047810</td>\n",
       "      <td>0.1885</td>\n",
       "      <td>...</td>\n",
       "      <td>15.110</td>\n",
       "      <td>19.26</td>\n",
       "      <td>99.70</td>\n",
       "      <td>711.2</td>\n",
       "      <td>0.14400</td>\n",
       "      <td>0.17730</td>\n",
       "      <td>0.23900</td>\n",
       "      <td>0.12880</td>\n",
       "      <td>0.2977</td>\n",
       "      <td>0.07259</td>\n",
       "    </tr>\n",
       "    <tr>\n",
       "      <th>8510653</th>\n",
       "      <td>B</td>\n",
       "      <td>13.080</td>\n",
       "      <td>15.71</td>\n",
       "      <td>85.63</td>\n",
       "      <td>520.0</td>\n",
       "      <td>0.10750</td>\n",
       "      <td>0.12700</td>\n",
       "      <td>0.04568</td>\n",
       "      <td>0.031100</td>\n",
       "      <td>0.1967</td>\n",
       "      <td>...</td>\n",
       "      <td>14.500</td>\n",
       "      <td>20.49</td>\n",
       "      <td>96.09</td>\n",
       "      <td>630.5</td>\n",
       "      <td>0.13120</td>\n",
       "      <td>0.27760</td>\n",
       "      <td>0.18900</td>\n",
       "      <td>0.07283</td>\n",
       "      <td>0.3184</td>\n",
       "      <td>0.08183</td>\n",
       "    </tr>\n",
       "    <tr>\n",
       "      <th>8510824</th>\n",
       "      <td>B</td>\n",
       "      <td>9.504</td>\n",
       "      <td>12.44</td>\n",
       "      <td>60.34</td>\n",
       "      <td>273.9</td>\n",
       "      <td>0.10240</td>\n",
       "      <td>0.06492</td>\n",
       "      <td>0.02956</td>\n",
       "      <td>0.020760</td>\n",
       "      <td>0.1815</td>\n",
       "      <td>...</td>\n",
       "      <td>10.230</td>\n",
       "      <td>15.66</td>\n",
       "      <td>65.13</td>\n",
       "      <td>314.9</td>\n",
       "      <td>0.13240</td>\n",
       "      <td>0.11480</td>\n",
       "      <td>0.08867</td>\n",
       "      <td>0.06227</td>\n",
       "      <td>0.2450</td>\n",
       "      <td>0.07773</td>\n",
       "    </tr>\n",
       "    <tr>\n",
       "      <th>854941</th>\n",
       "      <td>B</td>\n",
       "      <td>13.030</td>\n",
       "      <td>18.42</td>\n",
       "      <td>82.61</td>\n",
       "      <td>523.8</td>\n",
       "      <td>0.08983</td>\n",
       "      <td>0.03766</td>\n",
       "      <td>0.02562</td>\n",
       "      <td>0.029230</td>\n",
       "      <td>0.1467</td>\n",
       "      <td>...</td>\n",
       "      <td>13.300</td>\n",
       "      <td>22.81</td>\n",
       "      <td>84.46</td>\n",
       "      <td>545.9</td>\n",
       "      <td>0.09701</td>\n",
       "      <td>0.04619</td>\n",
       "      <td>0.04833</td>\n",
       "      <td>0.05013</td>\n",
       "      <td>0.1987</td>\n",
       "      <td>0.06169</td>\n",
       "    </tr>\n",
       "    <tr>\n",
       "      <th>85713702</th>\n",
       "      <td>B</td>\n",
       "      <td>8.196</td>\n",
       "      <td>16.84</td>\n",
       "      <td>51.71</td>\n",
       "      <td>201.9</td>\n",
       "      <td>0.08600</td>\n",
       "      <td>0.05943</td>\n",
       "      <td>0.01588</td>\n",
       "      <td>0.005917</td>\n",
       "      <td>0.1769</td>\n",
       "      <td>...</td>\n",
       "      <td>8.964</td>\n",
       "      <td>21.96</td>\n",
       "      <td>57.26</td>\n",
       "      <td>242.2</td>\n",
       "      <td>0.12970</td>\n",
       "      <td>0.13570</td>\n",
       "      <td>0.06880</td>\n",
       "      <td>0.02564</td>\n",
       "      <td>0.3105</td>\n",
       "      <td>0.07409</td>\n",
       "    </tr>\n",
       "  </tbody>\n",
       "</table>\n",
       "<p>5 rows × 31 columns</p>\n",
       "</div>"
      ],
      "text/plain": [
       "         Diagnosis  Radius (mean)  Texture (mean)  Perimeter (mean)  \\\n",
       "Id                                                                    \n",
       "8510426          B         13.540           14.36             87.46   \n",
       "8510653          B         13.080           15.71             85.63   \n",
       "8510824          B          9.504           12.44             60.34   \n",
       "854941           B         13.030           18.42             82.61   \n",
       "85713702         B          8.196           16.84             51.71   \n",
       "\n",
       "          Area (mean)  Smoothness (mean)  Compactness (mean)  \\\n",
       "Id                                                             \n",
       "8510426         566.3            0.09779             0.08129   \n",
       "8510653         520.0            0.10750             0.12700   \n",
       "8510824         273.9            0.10240             0.06492   \n",
       "854941          523.8            0.08983             0.03766   \n",
       "85713702        201.9            0.08600             0.05943   \n",
       "\n",
       "          Concavity (mean)  Concave points (mean)  Symmetry (mean)  ...  \\\n",
       "Id                                                                  ...   \n",
       "8510426            0.06664               0.047810           0.1885  ...   \n",
       "8510653            0.04568               0.031100           0.1967  ...   \n",
       "8510824            0.02956               0.020760           0.1815  ...   \n",
       "854941             0.02562               0.029230           0.1467  ...   \n",
       "85713702           0.01588               0.005917           0.1769  ...   \n",
       "\n",
       "          Radius (worst)  Texture (worst)  Perimeter (worst)  Area (worst)  \\\n",
       "Id                                                                           \n",
       "8510426           15.110            19.26              99.70         711.2   \n",
       "8510653           14.500            20.49              96.09         630.5   \n",
       "8510824           10.230            15.66              65.13         314.9   \n",
       "854941            13.300            22.81              84.46         545.9   \n",
       "85713702           8.964            21.96              57.26         242.2   \n",
       "\n",
       "          Smoothness (worst)  Compactness (worst)  Concavity (worst)  \\\n",
       "Id                                                                     \n",
       "8510426              0.14400              0.17730            0.23900   \n",
       "8510653              0.13120              0.27760            0.18900   \n",
       "8510824              0.13240              0.11480            0.08867   \n",
       "854941               0.09701              0.04619            0.04833   \n",
       "85713702             0.12970              0.13570            0.06880   \n",
       "\n",
       "          Concave points (worst)  Symmetry (worst)  Fractal dimension (worst)  \n",
       "Id                                                                             \n",
       "8510426                  0.12880            0.2977                    0.07259  \n",
       "8510653                  0.07283            0.3184                    0.08183  \n",
       "8510824                  0.06227            0.2450                    0.07773  \n",
       "854941                   0.05013            0.1987                    0.06169  \n",
       "85713702                 0.02564            0.3105                    0.07409  \n",
       "\n",
       "[5 rows x 31 columns]"
      ]
     },
     "execution_count": 3,
     "metadata": {},
     "output_type": "execute_result"
    }
   ],
   "source": [
    "cancer_data.head()"
   ]
  },
  {
   "cell_type": "code",
   "execution_count": 4,
   "metadata": {},
   "outputs": [],
   "source": [
    "# Fill in the line below: In the first five rows of the data, what is the\n",
    "# largest value for 'Perimeter (mean)'?\n",
    "max_perim = 87.46\n",
    "\n",
    "# Fill in the line below: What is the value for 'Radius (mean)' for the tumor with Id 8510824?\n",
    "mean_radius = 9.504\n"
   ]
  },
  {
   "cell_type": "markdown",
   "metadata": {},
   "source": [
    "## Step 3: Investigating differences"
   ]
  },
  {
   "cell_type": "markdown",
   "metadata": {},
   "source": [
    "#### Part A\n",
    "\n",
    "Use the code cell below to create two histograms that show the distribution in values for `'Area (mean)'`, separately for both benign and malignant tumors.  (_To permit easy comparison, create a single figure containing both histograms in the code cell below._)\n",
    "\n",
    "使用下面的代码单元创建两个直方图，分别显示良性肿瘤和恶性肿瘤的 `'Area (mean)'` 值的分布。  （为了便于比较，请在下面的代码单元格中创建一个包含两个直方图的图表。）"
   ]
  },
  {
   "cell_type": "code",
   "execution_count": 5,
   "metadata": {},
   "outputs": [
    {
     "data": {
      "text/plain": [
       "<Axes: xlabel='Area (mean)', ylabel='Count'>"
      ]
     },
     "execution_count": 5,
     "metadata": {},
     "output_type": "execute_result"
    },
    {
     "data": {
      "image/png": "[encoded data removed]",
      "text/plain": [
       "<Figure size 640x480 with 1 Axes>"
      ]
     },
     "metadata": {},
     "output_type": "display_data"
    }
   ],
   "source": [
    "# Histograms for benign and maligant tumors\n",
    "sns.histplot(data=cancer_data, x=\"Area (mean)\", hue=\"Diagnosis\")"
   ]
  },
  {
   "cell_type": "markdown",
   "metadata": {},
   "source": [
    "#### Part B\n",
    "\n",
    "A researcher approaches you for help with identifying how the `'Area (mean)'` column can be used to understand the difference between benign and malignant tumors.  Based on the histograms above, \n",
    "- Do malignant tumors have higher or lower values for `'Area (mean)'` (relative to benign tumors), on average?\n",
    "- Which tumor type seems to have a larger range of potential values?\n",
    "\n",
    "一位研究人员向您寻求帮助，以确定如何使用`'Area (mean)'`列来了解良性肿瘤和恶性肿瘤的区别。根据上面的直方图，\n",
    "- 与良性肿瘤相比，恶性肿瘤的`'Area (mean)'`平均值是高还是低？\n",
    "- 哪种肿瘤类型的潜在值范围更大？"
   ]
  },
  {
   "cell_type": "markdown",
   "metadata": {},
   "source": [
    "## Step 4: A very useful column\n",
    "\n",
    "#### Part A\n",
    "\n",
    "Use the code cell below to create two KDE plots that show the distribution in values for `'Radius (worst)'`, separately for both benign and malignant tumors.  (_To permit easy comparison, create a single figure containing both KDE plots in the code cell below._)\n",
    "\n",
    "使用下面的代码单元格创建两个 KDE 图，分别显示良性肿瘤和恶性肿瘤的`'Radius (worst)'`值的分布情况。 （为了便于比较，请在下面的代码单元格中创建一个包含两个 KDE 图的图表。）"
   ]
  },
  {
   "cell_type": "code",
   "execution_count": 6,
   "metadata": {},
   "outputs": [
    {
     "data": {
      "text/plain": [
       "<Axes: xlabel='Radius (worst)', ylabel='Density'>"
      ]
     },
     "execution_count": 6,
     "metadata": {},
     "output_type": "execute_result"
    },
    {
     "data": {
      "image/png": "[encoded data removed]",
      "text/plain": [
       "<Figure size 640x480 with 1 Axes>"
      ]
     },
     "metadata": {},
     "output_type": "display_data"
    }
   ],
   "source": [
    "sns.kdeplot(data=cancer_data, x='Radius (worst)', hue='Diagnosis', fill=True)"
   ]
  },
  {
   "cell_type": "markdown",
   "metadata": {},
   "source": [
    "#### Part B\n",
    "\n",
    "A hospital has recently started using an algorithm that can diagnose tumors with high accuracy.  Given a tumor with a value for `'Radius (worst)'` of 25, do you think the algorithm is more likely to classify the tumor as benign or malignant?\n",
    "\n",
    "一家医院最近开始使用一种能够高精度诊断肿瘤的算法。  给定一个肿瘤的`'Radius (worst)'`值为 25，你认为该算法更有可能将该肿瘤归类为良性还是恶性？"
   ]
  }
 ],
 "metadata": {
  "kernelspec": {
   "display_name": "kaggle",
   "language": "python",
   "name": "python3"
  },
  "language_info": {
   "codemirror_mode": {
    "name": "ipython",
    "version": 3
   },
   "file_extension": ".py",
   "mimetype": "text/x-python",
   "name": "python",
   "nbconvert_exporter": "python",
   "pygments_lexer": "ipython3",
   "version": "3.12.9"
  }
 },
 "nbformat": 4,
 "nbformat_minor": 2
}
